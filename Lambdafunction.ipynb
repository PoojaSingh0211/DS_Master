{
 "cells": [
  {
   "cell_type": "code",
   "execution_count": 2,
   "id": "21483ab0-05bb-472b-aff6-df248f523b13",
   "metadata": {},
   "outputs": [
    {
     "name": "stdout",
     "output_type": "stream",
     "text": [
      "A\n"
     ]
    }
   ],
   "source": [
    "print('A')"
   ]
  },
  {
   "cell_type": "code",
   "execution_count": 5,
   "id": "38886ebe-ac43-427c-a3cd-a77ed5a7b9a7",
   "metadata": {},
   "outputs": [
    {
     "name": "stdin",
     "output_type": "stream",
     "text": [
      "enter first number 4\n",
      "enter the second digit 7\n"
     ]
    },
    {
     "name": "stdout",
     "output_type": "stream",
     "text": [
      "4 is lesser\n"
     ]
    }
   ],
   "source": [
    "def minimum(num1,num2): \n",
    "        if(num1>num2):\n",
    "            print(f\"{num1} is greater than {num2}\")\n",
    "        elif(num1<num2):\n",
    "            print(f\"{num1} is lesser\")\n",
    "num1=int(input(\"enter first number\"))\n",
    "num2=int(input(\"enter second digit\"))\n",
    "minimum(num1,num2)"
   ]
  },
  {
   "cell_type": "code",
   "execution_count": 31,
   "id": "5d736544-ac2d-4fcf-a74d-13f28ae34426",
   "metadata": {},
   "outputs": [
    {
     "name": "stdin",
     "output_type": "stream",
     "text": [
      "Enter number  10\n"
     ]
    },
    {
     "name": "stdout",
     "output_type": "stream",
     "text": [
      "0 0\n",
      "2 4\n",
      "4 16\n",
      "6 36\n",
      "8 64\n",
      "0\n",
      "2\n",
      "4\n",
      "6\n",
      "8\n"
     ]
    }
   ],
   "source": [
    "num=int(input(\"Enter number \"))\n",
    "for i in range(0,num,2):\n",
    "    print(i,i*i)\n",
    "for i in range(0,num):\n",
    "    if i%2==0:\n",
    "        print(i)"
   ]
  },
  {
   "cell_type": "code",
   "execution_count": 34,
   "id": "c100788d-f88f-48a4-b82a-07bfa10f82a1",
   "metadata": {},
   "outputs": [
    {
     "name": "stdin",
     "output_type": "stream",
     "text": [
      "Enter number  10\n"
     ]
    },
    {
     "name": "stdout",
     "output_type": "stream",
     "text": [
      "0 = 0\n",
      "2 = 4\n",
      "4 = 16\n",
      "6 = 36\n",
      "8 = 64\n"
     ]
    }
   ],
   "source": [
    "def square(num):\n",
    "    for i in range(0,num,2):\n",
    "        print(i,\"=\",i*i)\n",
    "        \n",
    "num=int(input(\"Enter number \"))\n",
    "square(num)\n"
   ]
  },
  {
   "cell_type": "code",
   "execution_count": 35,
   "id": "214fd21b-9384-457f-b10c-3b7900bdd3f7",
   "metadata": {},
   "outputs": [],
   "source": [
    "a=10"
   ]
  },
  {
   "cell_type": "code",
   "execution_count": 36,
   "id": "3378e855-619f-4d7b-a34a-cc63303fdd0b",
   "metadata": {},
   "outputs": [
    {
     "data": {
      "text/plain": [
       "int"
      ]
     },
     "execution_count": 36,
     "metadata": {},
     "output_type": "execute_result"
    }
   ],
   "source": [
    "type(a)"
   ]
  },
  {
   "cell_type": "code",
   "execution_count": 37,
   "id": "77dedb65-a0e1-4605-85a6-2313f4a6f995",
   "metadata": {},
   "outputs": [
    {
     "data": {
      "text/plain": [
       "10"
      ]
     },
     "execution_count": 37,
     "metadata": {},
     "output_type": "execute_result"
    }
   ],
   "source": [
    "a"
   ]
  },
  {
   "cell_type": "code",
   "execution_count": 38,
   "id": "b69d552b-2820-4f9b-8cd2-29c4048eb611",
   "metadata": {},
   "outputs": [
    {
     "ename": "NameError",
     "evalue": "name 'b' is not defined",
     "output_type": "error",
     "traceback": [
      "\u001b[0;31m---------------------------------------------------------------------------\u001b[0m",
      "\u001b[0;31mNameError\u001b[0m                                 Traceback (most recent call last)",
      "Cell \u001b[0;32mIn[38], line 1\u001b[0m\n\u001b[0;32m----> 1\u001b[0m \u001b[43mb\u001b[49m\n",
      "\u001b[0;31mNameError\u001b[0m: name 'b' is not defined"
     ]
    }
   ],
   "source": [
    "b"
   ]
  },
  {
   "cell_type": "code",
   "execution_count": 39,
   "id": "e27150a6-33c2-4098-9735-13e9b87269e1",
   "metadata": {},
   "outputs": [
    {
     "ename": "NameError",
     "evalue": "name 'b' is not defined",
     "output_type": "error",
     "traceback": [
      "\u001b[0;31m---------------------------------------------------------------------------\u001b[0m",
      "\u001b[0;31mNameError\u001b[0m                                 Traceback (most recent call last)",
      "Cell \u001b[0;32mIn[39], line 1\u001b[0m\n\u001b[0;32m----> 1\u001b[0m b\u001b[38;5;241m=\u001b[39m\u001b[43mb\u001b[49m\n",
      "\u001b[0;31mNameError\u001b[0m: name 'b' is not defined"
     ]
    }
   ],
   "source": [
    "b=b"
   ]
  },
  {
   "cell_type": "code",
   "execution_count": 40,
   "id": "80081e7a-e93d-4631-bc97-07ac7b1a83a6",
   "metadata": {},
   "outputs": [
    {
     "ename": "NameError",
     "evalue": "name 'c' is not defined",
     "output_type": "error",
     "traceback": [
      "\u001b[0;31m---------------------------------------------------------------------------\u001b[0m",
      "\u001b[0;31mNameError\u001b[0m                                 Traceback (most recent call last)",
      "Cell \u001b[0;32mIn[40], line 1\u001b[0m\n\u001b[0;32m----> 1\u001b[0m b\u001b[38;5;241m=\u001b[39m\u001b[43mc\u001b[49m\n",
      "\u001b[0;31mNameError\u001b[0m: name 'c' is not defined"
     ]
    }
   ],
   "source": [
    "b=c"
   ]
  },
  {
   "cell_type": "code",
   "execution_count": 41,
   "id": "3b467c56-70be-4589-8d7d-6fd973b7aecf",
   "metadata": {},
   "outputs": [],
   "source": [
    "b=\"c\""
   ]
  },
  {
   "cell_type": "code",
   "execution_count": 42,
   "id": "bbc89eab-2707-4c84-82d2-f1fec2b94fe0",
   "metadata": {},
   "outputs": [
    {
     "data": {
      "text/plain": [
       "str"
      ]
     },
     "execution_count": 42,
     "metadata": {},
     "output_type": "execute_result"
    }
   ],
   "source": [
    "type(b)"
   ]
  },
  {
   "cell_type": "code",
   "execution_count": 45,
   "id": "b9f21c68-4c66-4540-b5c3-6ed47575074f",
   "metadata": {},
   "outputs": [],
   "source": [
    "d=(10,)"
   ]
  },
  {
   "cell_type": "code",
   "execution_count": 46,
   "id": "2e31c80b-145b-4f07-963f-ee51b1999dd5",
   "metadata": {},
   "outputs": [
    {
     "data": {
      "text/plain": [
       "tuple"
      ]
     },
     "execution_count": 46,
     "metadata": {},
     "output_type": "execute_result"
    }
   ],
   "source": [
    "type(d)"
   ]
  },
  {
   "cell_type": "code",
   "execution_count": 47,
   "id": "f8759aab-80ae-48b3-aefc-291dc6fb527f",
   "metadata": {},
   "outputs": [],
   "source": [
    "b='raj'"
   ]
  },
  {
   "cell_type": "code",
   "execution_count": 51,
   "id": "4952aaff-9a7a-45fb-93d3-775947622582",
   "metadata": {},
   "outputs": [
    {
     "data": {
      "text/plain": [
       "'r'"
      ]
     },
     "execution_count": 51,
     "metadata": {},
     "output_type": "execute_result"
    }
   ],
   "source": [
    "b[0]"
   ]
  },
  {
   "cell_type": "code",
   "execution_count": 52,
   "id": "ef7b1611-4cb7-48d1-a495-63fb9494ed8e",
   "metadata": {},
   "outputs": [],
   "source": [
    "a=(1,2,3,4,5,6,7)"
   ]
  },
  {
   "cell_type": "code",
   "execution_count": 53,
   "id": "1785a8ee-d366-4e23-81fc-8b57650a4a82",
   "metadata": {},
   "outputs": [
    {
     "data": {
      "text/plain": [
       "(1, 2, 3, 4, 5, 6, 7)"
      ]
     },
     "execution_count": 53,
     "metadata": {},
     "output_type": "execute_result"
    }
   ],
   "source": [
    "a"
   ]
  },
  {
   "cell_type": "code",
   "execution_count": 57,
   "id": "00015035-8425-48a4-996a-bc3ef99ae38c",
   "metadata": {},
   "outputs": [
    {
     "data": {
      "text/plain": [
       "7"
      ]
     },
     "execution_count": 57,
     "metadata": {},
     "output_type": "execute_result"
    }
   ],
   "source": [
    "a[-1]"
   ]
  },
  {
   "cell_type": "code",
   "execution_count": 58,
   "id": "0388b5fd-bb5c-498c-9f42-f582e481b3e8",
   "metadata": {},
   "outputs": [],
   "source": [
    "e=[10,20,'r']"
   ]
  },
  {
   "cell_type": "code",
   "execution_count": 59,
   "id": "0e670378-f60a-4793-a318-2d638da650ef",
   "metadata": {},
   "outputs": [
    {
     "data": {
      "text/plain": [
       "[10, 20, 'r']"
      ]
     },
     "execution_count": 59,
     "metadata": {},
     "output_type": "execute_result"
    }
   ],
   "source": [
    "e"
   ]
  },
  {
   "cell_type": "code",
   "execution_count": 60,
   "id": "64669875-81b1-4099-9035-b0400b0512c8",
   "metadata": {},
   "outputs": [
    {
     "data": {
      "text/plain": [
       "10"
      ]
     },
     "execution_count": 60,
     "metadata": {},
     "output_type": "execute_result"
    }
   ],
   "source": [
    "e[0]"
   ]
  },
  {
   "cell_type": "code",
   "execution_count": 61,
   "id": "b5b51424-88e3-4830-a86a-9deb86a6621c",
   "metadata": {},
   "outputs": [],
   "source": [
    "e[0]='raj'"
   ]
  },
  {
   "cell_type": "code",
   "execution_count": 62,
   "id": "c6e44130-2748-42db-a433-1f8f89d2463c",
   "metadata": {},
   "outputs": [
    {
     "data": {
      "text/plain": [
       "['raj', 20, 'r']"
      ]
     },
     "execution_count": 62,
     "metadata": {},
     "output_type": "execute_result"
    }
   ],
   "source": [
    "e"
   ]
  },
  {
   "cell_type": "code",
   "execution_count": 63,
   "id": "d14c4a23-1af2-4dd0-97e9-5acadf27d470",
   "metadata": {},
   "outputs": [
    {
     "data": {
      "text/plain": [
       "list"
      ]
     },
     "execution_count": 63,
     "metadata": {},
     "output_type": "execute_result"
    }
   ],
   "source": [
    "type([])"
   ]
  },
  {
   "cell_type": "code",
   "execution_count": 76,
   "id": "fc01e942-26e9-4170-877e-7ced8465eca0",
   "metadata": {},
   "outputs": [],
   "source": [
    "list1=[1,2,3,4,5,6,7,8,9,10]"
   ]
  },
  {
   "cell_type": "code",
   "execution_count": 77,
   "id": "1f9d73bd-985f-4ef6-afdb-9474ce93083e",
   "metadata": {},
   "outputs": [
    {
     "data": {
      "text/plain": [
       "1"
      ]
     },
     "execution_count": 77,
     "metadata": {},
     "output_type": "execute_result"
    }
   ],
   "source": [
    "list1[0]"
   ]
  },
  {
   "cell_type": "code",
   "execution_count": 92,
   "id": "a93c3aac-c05b-4de2-afc3-698a623eb953",
   "metadata": {},
   "outputs": [
    {
     "name": "stdout",
     "output_type": "stream",
     "text": [
      "10\n",
      "1\n"
     ]
    }
   ],
   "source": [
    "l=len(list1)\n",
    "min1=0\n",
    "for i in range(0,l-1):\n",
    "    if list1[i]<list1[i+1]:\n",
    "        max1=list1[i+1]\n",
    "        list1[i+1]=list1[i]\n",
    "        list1[i]=max1\n",
    "print(max1)\n",
    "for i in range(0,l-1):\n",
    "    if list1[i]>list1[i+1]:\n",
    "        min1=list1[i+1]\n",
    "        list1[i+1]=list1[i]\n",
    "        list1[i]=min1\n",
    "print(min1)"
   ]
  },
  {
   "cell_type": "code",
   "execution_count": 96,
   "id": "92b1c089-d919-4ff8-a22b-4f7037875c68",
   "metadata": {},
   "outputs": [
    {
     "name": "stdout",
     "output_type": "stream",
     "text": [
      "10\n",
      "1\n"
     ]
    }
   ],
   "source": [
    "print(max(list1))\n",
    "print(min(list1))"
   ]
  },
  {
   "cell_type": "code",
   "execution_count": 100,
   "id": "dc849f13-793e-476b-9f2e-f60495253dcd",
   "metadata": {},
   "outputs": [
    {
     "name": "stdout",
     "output_type": "stream",
     "text": [
      "Alpha count  15 Upper count  3 Lower count 12 Digit count 3 Special count 0\n"
     ]
    }
   ],
   "source": [
    "name='RajShekhar Singh 123 @'\n",
    "a_count=0\n",
    "u_count=0\n",
    "l_count=0\n",
    "d_count=0\n",
    "for i in name:\n",
    "    if i.isalpha():\n",
    "        a_count=a_count+1\n",
    "    if i.isupper():\n",
    "        u_count=u_count+1\n",
    "    if i.islower():\n",
    "        l_count=l_count+1\n",
    "    if i.isdigit():\n",
    "        d_count=d_count+1\n",
    "print(\"Alpha count \",a_count,\"Upper count \",u_count,\"Lower count\",l_count,\"Digit count\",d_count,\"Special count\",0,\"Space Count\",)"
   ]
  },
  {
   "cell_type": "markdown",
   "id": "b5178dbf-242e-46d4-b386-3137f1e1bf24",
   "metadata": {},
   "source": [
    "# Lambda"
   ]
  },
  {
   "cell_type": "code",
   "execution_count": 1,
   "id": "7d158cc8-7713-415f-9192-32480799759b",
   "metadata": {},
   "outputs": [],
   "source": [
    "a = lambda c,d,e : c+d+e"
   ]
  },
  {
   "cell_type": "code",
   "execution_count": 2,
   "id": "28ce310e-53a9-4dd1-96ce-4815eb7cb2e8",
   "metadata": {},
   "outputs": [
    {
     "data": {
      "text/plain": [
       "6"
      ]
     },
     "execution_count": 2,
     "metadata": {},
     "output_type": "execute_result"
    }
   ],
   "source": [
    "a(1,2,3)"
   ]
  },
  {
   "cell_type": "code",
   "execution_count": 5,
   "id": "6a9723f2-03dd-433b-b7d9-30bb0b4ecb2d",
   "metadata": {},
   "outputs": [
    {
     "ename": "NameError",
     "evalue": "name 'kwarg' is not defined",
     "output_type": "error",
     "traceback": [
      "\u001b[0;31m---------------------------------------------------------------------------\u001b[0m",
      "\u001b[0;31mNameError\u001b[0m                                 Traceback (most recent call last)",
      "Cell \u001b[0;32mIn[5], line 1\u001b[0m\n\u001b[0;32m----> 1\u001b[0m a \u001b[38;5;241m=\u001b[39m \u001b[38;5;28;01mlambda\u001b[39;00m \u001b[38;5;241m*\u001b[39margs,\u001b[38;5;241m*\u001b[39m\u001b[38;5;241m*\u001b[39mkwarg : args,\u001b[43mkwarg\u001b[49m\n",
      "\u001b[0;31mNameError\u001b[0m: name 'kwarg' is not defined"
     ]
    }
   ],
   "source": [
    "a = lambda *args,**kwarg : args,kwarg"
   ]
  },
  {
   "cell_type": "code",
   "execution_count": 1,
   "id": "bfb72b53-68d2-40ca-a893-a1a8917226c4",
   "metadata": {},
   "outputs": [],
   "source": [
    "b=lambda r: 3.14*r**2"
   ]
  },
  {
   "cell_type": "code",
   "execution_count": 2,
   "id": "5ed7f6a5-a081-4026-b386-7d80dd417193",
   "metadata": {},
   "outputs": [
    {
     "data": {
      "text/plain": [
       "12.56"
      ]
     },
     "execution_count": 2,
     "metadata": {},
     "output_type": "execute_result"
    }
   ],
   "source": [
    "b(2)"
   ]
  },
  {
   "cell_type": "code",
   "execution_count": 3,
   "id": "1e20492f-b90e-4123-a8e6-1527cd47b429",
   "metadata": {},
   "outputs": [],
   "source": [
    "c=lambda num1,num2:num1 if num1>num2 else num2"
   ]
  },
  {
   "cell_type": "code",
   "execution_count": 5,
   "id": "925e643c-2d55-422c-a760-7516df838582",
   "metadata": {},
   "outputs": [
    {
     "data": {
      "text/plain": [
       "105"
      ]
     },
     "execution_count": 5,
     "metadata": {},
     "output_type": "execute_result"
    }
   ],
   "source": [
    "c(105,97)"
   ]
  },
  {
   "cell_type": "code",
   "execution_count": 56,
   "id": "57bd33e4-19a3-4f32-83f5-c0bdadb6ad77",
   "metadata": {},
   "outputs": [],
   "source": [
    "def sq(m):\n",
    "    return x**2"
   ]
  },
  {
   "cell_type": "markdown",
   "id": "c14c0faa-767d-4b64-9ab4-285445a56b13",
   "metadata": {},
   "source": [
    "e=lambda a:a*a[for a in range(10)]"
   ]
  },
  {
   "cell_type": "markdown",
   "id": "9362bb99-e8f3-477d-9122-9d5bd8c678e7",
   "metadata": {},
   "source": [
    "u = lambda num: l1=[] for i in l l1.append(i*2)"
   ]
  },
  {
   "cell_type": "code",
   "execution_count": 5,
   "id": "dfcc7f9a-23ac-4f4c-8d22-3eac49c3f169",
   "metadata": {},
   "outputs": [],
   "source": [
    "u=[7,5,9,0,3]"
   ]
  },
  {
   "cell_type": "code",
   "execution_count": 4,
   "id": "a093b899-cbcd-4879-aa4f-51a27c50bd01",
   "metadata": {},
   "outputs": [
    {
     "ename": "NameError",
     "evalue": "name 'sq' is not defined",
     "output_type": "error",
     "traceback": [
      "\u001b[0;31m---------------------------------------------------------------------------\u001b[0m",
      "\u001b[0;31mNameError\u001b[0m                                 Traceback (most recent call last)",
      "Cell \u001b[0;32mIn[4], line 1\u001b[0m\n\u001b[0;32m----> 1\u001b[0m \u001b[38;5;28mlist\u001b[39m(\u001b[38;5;28mmap\u001b[39m(\u001b[43msq\u001b[49m,u))\n",
      "\u001b[0;31mNameError\u001b[0m: name 'sq' is not defined"
     ]
    }
   ],
   "source": [
    "list(map(sq,u))q"
   ]
  },
  {
   "cell_type": "code",
   "execution_count": 6,
   "id": "bd06c0d8-feee-4d72-a2cc-4e294ab6d8f7",
   "metadata": {},
   "outputs": [
    {
     "data": {
      "text/plain": [
       "[7, 5, 9, 0, 3]"
      ]
     },
     "execution_count": 6,
     "metadata": {},
     "output_type": "execute_result"
    }
   ],
   "source": [
    "u"
   ]
  },
  {
   "cell_type": "code",
   "execution_count": 9,
   "id": "4fdb8e75-9686-4996-85d2-5616de697e6b",
   "metadata": {},
   "outputs": [],
   "source": [
    "def sq(x):\n",
    "    return x**2"
   ]
  },
  {
   "cell_type": "code",
   "execution_count": 12,
   "id": "ddf0432f-562f-433e-a013-e99616ea7ce6",
   "metadata": {},
   "outputs": [
    {
     "data": {
      "text/plain": [
       "[49, 25, 81, 0, 9]"
      ]
     },
     "execution_count": 12,
     "metadata": {},
     "output_type": "execute_result"
    }
   ],
   "source": [
    "list(map(sq , u))"
   ]
  },
  {
   "cell_type": "code",
   "execution_count": 44,
   "id": "cd180947-16af-45bc-8a7d-8946ee47f357",
   "metadata": {},
   "outputs": [
    {
     "name": "stdin",
     "output_type": "stream",
     "text": [
      "enter the value of r 7\n",
      "enter the value of b 7\n",
      "enter the value of h 7\n",
      "enter the value of a 7\n",
      "enter the value of d 7\n",
      "enter the value of c 7\n"
     ]
    },
    {
     "name": "stdout",
     "output_type": "stream",
     "text": [
      "area of cicle: 153.86\n",
      "area of triangle: 24.5\n",
      "perimeter of circle: 43.96\n",
      "perimeter of triangle: 21.0\n"
     ]
    }
   ],
   "source": [
    "import math\n",
    "def area(r,b,h,a,d,c):\n",
    "    res1=r**2\n",
    "    print(\"area of cicle:\",round(res1*round(math.pi,2),2))\n",
    "    res2=0.5*b*h\n",
    "    print(\"area of triangle:\",res2)\n",
    "    res3=2*r\n",
    "    print(\"perimeter of circle:\",round(res3*round(math.pi,2),2))\n",
    "    res4=a+b+c\n",
    "    print(\"perimeter of triangle:\",res4)\n",
    "    \n",
    "\n",
    "r=float(input(\"enter the value of r\"))\n",
    "b=float(input(\"enter the value of b\"))\n",
    "h=float(input(\"enter the value of h\"))\n",
    "a=float(input(\"enter the value of a\"))\n",
    "d=float(input(\"enter the value of d\"))\n",
    "c=float(input(\"enter the value of c\"))\n",
    "area(r,b,h,a,b,c)"
   ]
  },
  {
   "cell_type": "code",
   "execution_count": 66,
   "id": "c3be2a51-0bcd-4815-bd79-74db19e70453",
   "metadata": {},
   "outputs": [
    {
     "name": "stdin",
     "output_type": "stream",
     "text": [
      "Do you want to like maths: \n",
      "Enter 1 for area of circle, \n",
      "Enter 2 for peri of circle  7\n"
     ]
    },
    {
     "name": "stdout",
     "output_type": "stream",
     "text": [
      "Please select correct option\n"
     ]
    }
   ],
   "source": [
    "import math\n",
    "def area_circle(r):\n",
    "    res=round(r**2*round(math.pi,2),2)\n",
    "    return res\n",
    "def peri_circle(r):\n",
    "    res=round(2*round(math.pi,2)*r,2)\n",
    "    return res\n",
    "    \n",
    "res=int(input(\"Do you want to like maths: \\nEnter 1 for area of circle, \\nEnter 2 for peri of circle \"))\n",
    "match res:\n",
    "    case 1:\n",
    "        r=int(input(\"Enter area of circle: \"))\n",
    "        area=area_circle(r)\n",
    "        print(\"area of cicle:\",area)\n",
    "    case 2:\n",
    "        r=int(input(\"Enter peri of circle: \"))\n",
    "        peri=peri_circle(r)\n",
    "        print(\"peri of cicle:\",peri)\n",
    "    case _:\n",
    "        print(\"Please select correct option\")"
   ]
  },
  {
   "cell_type": "code",
   "execution_count": 70,
   "id": "bd5ae82b-741e-4f4f-bf6b-3d6935e0f6af",
   "metadata": {},
   "outputs": [
    {
     "name": "stdin",
     "output_type": "stream",
     "text": [
      "Do you want to like maths: \n",
      "Enter 1 for area of circle, \n",
      "Enter 2 for peri of circle ,\n",
      " enter 3 for peri of triangle, \n",
      " enter 4 for area of triangle 4\n",
      "enter peri of triangle: 7\n"
     ]
    },
    {
     "name": "stdout",
     "output_type": "stream",
     "text": [
      "peri of triangle: 21.0\n"
     ]
    }
   ],
   "source": [
    "import math\n",
    "def area_circle(r):\n",
    "    res=round(r**2*round(math.pi,2),2)\n",
    "    return res\n",
    "def peri_circle(r):\n",
    "    res=round(2*round(math.pi,2)*r,2)\n",
    "    return res\n",
    "def area_triangle(b,h):\n",
    "    res=0.5*b*h\n",
    "    return res\n",
    "def peri_triangle(a,d,c):\n",
    "    res=a+b+c\n",
    "    return res\n",
    "\n",
    "res=int(input(\"Do you want to like maths: \\nEnter 1 for area of circle, \\nEnter 2 for peri of circle ,\\n enter 3 for peri of triangle, \\n enter 4 for area of triangle\"))\n",
    "match res:\n",
    "    case 1:\n",
    "        r=int(input(\"Enter area of circle: \"))\n",
    "        area=area_circle(r)\n",
    "        print(\"area of cicle:\",area)\n",
    "    case 2:\n",
    "        r=int(input(\"Enter peri of circle: \"))\n",
    "        peri=peri_circle(r)\n",
    "        print(\"peri of cicle:\",peri)\n",
    "    case 3:\n",
    "        r=int(input(\"Enter area of triangle: \"))\n",
    "        area=area_triangle(b,h)\n",
    "        print(\"area of triangle:\",triangle)\n",
    "    case 4:\n",
    "        r=int(input(\"enter peri of triangle:\"))\n",
    "        peri=peri_triangle(a,d,c)\n",
    "        print('peri of triangle:',peri)\n",
    "    case _:\n",
    "        print(\"please select from above mentioned cases\")"
   ]
  },
  {
   "cell_type": "code",
   "execution_count": 9,
   "id": "e3dd4940-8cef-4be9-b155-811d919962f9",
   "metadata": {},
   "outputs": [],
   "source": [
    "def sqr(a):\n",
    "    return a**2"
   ]
  },
  {
   "cell_type": "code",
   "execution_count": 11,
   "id": "9b3bfc3f-133b-499f-a2d8-307b1f226b2f",
   "metadata": {},
   "outputs": [],
   "source": [
    "l1=[1,2,3,4,5,6]"
   ]
  },
  {
   "cell_type": "code",
   "execution_count": 13,
   "id": "a248b95d-f5ab-4486-9cc3-53f38d4d15e0",
   "metadata": {},
   "outputs": [
    {
     "data": {
      "text/plain": [
       "[1, 4, 9, 16, 25, 36]"
      ]
     },
     "execution_count": 13,
     "metadata": {},
     "output_type": "execute_result"
    }
   ],
   "source": [
    "list(map(sqr,l1))"
   ]
  },
  {
   "cell_type": "code",
   "execution_count": 16,
   "id": "a6dbcf95-77e7-41a1-aa27-3fb88460bfbd",
   "metadata": {},
   "outputs": [
    {
     "data": {
      "text/plain": [
       "[1, 4, 9, 16, 25, 36]"
      ]
     },
     "execution_count": 16,
     "metadata": {},
     "output_type": "execute_result"
    }
   ],
   "source": [
    "list(map(lambda x : x**2,l1))"
   ]
  },
  {
   "cell_type": "code",
   "execution_count": 12,
   "id": "1e37cbe3-3879-4b61-910e-b40a60d0227a",
   "metadata": {},
   "outputs": [],
   "source": [
    "l2=[12,13,14,15,16,17]"
   ]
  },
  {
   "cell_type": "code",
   "execution_count": 13,
   "id": "cbe456a2-3165-4c53-bdba-50b6aa01ab76",
   "metadata": {},
   "outputs": [],
   "source": [
    "def addition(x,y):\n",
    "    return x+y"
   ]
  },
  {
   "cell_type": "code",
   "execution_count": 14,
   "id": "d8bc39bd-1cfd-4743-9e86-6623996cf28d",
   "metadata": {},
   "outputs": [
    {
     "data": {
      "text/plain": [
       "[13, 15, 17, 19, 21, 23]"
      ]
     },
     "execution_count": 14,
     "metadata": {},
     "output_type": "execute_result"
    }
   ],
   "source": [
    "list(map(addition,l1,l2))"
   ]
  },
  {
   "cell_type": "code",
   "execution_count": 20,
   "id": "73430ba6-3600-4ff3-b11b-d572f94374f9",
   "metadata": {},
   "outputs": [
    {
     "data": {
      "text/plain": [
       "[13, 15, 17, 19, 21, 23]"
      ]
     },
     "execution_count": 20,
     "metadata": {},
     "output_type": "execute_result"
    }
   ],
   "source": [
    "list(map(lambda l1,l2:l1+l2,l1,l2))"
   ]
  },
  {
   "cell_type": "code",
   "execution_count": 1,
   "id": "f4ec987e-aa9b-43fd-896b-77c2a62f4257",
   "metadata": {},
   "outputs": [],
   "source": [
    "s='pw'"
   ]
  },
  {
   "cell_type": "code",
   "execution_count": 2,
   "id": "9cdb471a-aa71-406c-82d0-574cf6449140",
   "metadata": {},
   "outputs": [],
   "source": [
    "l=[1,2,4,6,7,9,8,25,78]"
   ]
  },
  {
   "cell_type": "code",
   "execution_count": 18,
   "id": "f4c0cd7f-5ad1-4fe6-925a-61db83d2d590",
   "metadata": {},
   "outputs": [],
   "source": [
    "from functools import reduce\n",
    "def add(x,y):\n",
    "    return x+y"
   ]
  },
  {
   "cell_type": "code",
   "execution_count": 19,
   "id": "c937bc95-c5a0-4b44-a185-8e79a8e32780",
   "metadata": {},
   "outputs": [
    {
     "data": {
      "text/plain": [
       "140"
      ]
     },
     "execution_count": 19,
     "metadata": {},
     "output_type": "execute_result"
    }
   ],
   "source": [
    "reduce (lambda x,y:x+y,l)"
   ]
  },
  {
   "cell_type": "code",
   "execution_count": 20,
   "id": "5411f9c3-ac9c-4394-97a5-50561df834c6",
   "metadata": {},
   "outputs": [
    {
     "data": {
      "text/plain": [
       "140"
      ]
     },
     "execution_count": 20,
     "metadata": {},
     "output_type": "execute_result"
    }
   ],
   "source": [
    "reduce(add,l)"
   ]
  },
  {
   "cell_type": "code",
   "execution_count": 22,
   "id": "dfe38324-339c-4120-b974-811038bc9bd8",
   "metadata": {},
   "outputs": [
    {
     "data": {
      "text/plain": [
       "1"
      ]
     },
     "execution_count": 22,
     "metadata": {},
     "output_type": "execute_result"
    }
   ],
   "source": [
    "reduce(lambda x,y:x if x<y else y,l)"
   ]
  },
  {
   "cell_type": "code",
   "execution_count": 28,
   "id": "72d8f0d8-1b88-48fa-8c4e-fb2b6df1593b",
   "metadata": {},
   "outputs": [
    {
     "data": {
      "text/plain": [
       "[2, 4, 6, 8, 78]"
      ]
     },
     "execution_count": 28,
     "metadata": {},
     "output_type": "execute_result"
    }
   ],
   "source": [
    "list(filter(lambda x :x%2==0,l))"
   ]
  },
  {
   "cell_type": "code",
   "execution_count": 29,
   "id": "9c012211-34c9-4906-aecd-ec800deaac20",
   "metadata": {},
   "outputs": [
    {
     "data": {
      "text/plain": [
       "[1, 7, 9, 25]"
      ]
     },
     "execution_count": 29,
     "metadata": {},
     "output_type": "execute_result"
    }
   ],
   "source": [
    "list(filter(lambda x :x%2!=0,l))"
   ]
  },
  {
   "cell_type": "code",
   "execution_count": 37,
   "id": "502b9944-3928-42ab-930e-5e0d903113ed",
   "metadata": {},
   "outputs": [
    {
     "ename": "SyntaxError",
     "evalue": "expected 'else' after 'if' expression (51410835.py, line 2)",
     "output_type": "error",
     "traceback": [
      "\u001b[0;36m  Cell \u001b[0;32mIn[37], line 2\u001b[0;36m\u001b[0m\n\u001b[0;31m    list(filter(lambda x :x if x <0,l2))\u001b[0m\n\u001b[0m                          ^\u001b[0m\n\u001b[0;31mSyntaxError\u001b[0m\u001b[0;31m:\u001b[0m expected 'else' after 'if' expression\n"
     ]
    }
   ],
   "source": [
    "l2=[-1,45,-79,34,67,8,-4,67]\n",
    "list(filter(lambda x :x if x <0,l2))"
   ]
  },
  {
   "cell_type": "code",
   "execution_count": null,
   "id": "325974e9-5a4d-43a3-8746-c4e72a194d3a",
   "metadata": {},
   "outputs": [],
   "source": []
  },
  {
   "cell_type": "code",
   "execution_count": null,
   "id": "8a75ce32-c4dc-4dad-b1cb-e18d0198068d",
   "metadata": {},
   "outputs": [],
   "source": []
  },
  {
   "cell_type": "code",
   "execution_count": null,
   "id": "bbd669bd-21f2-4ae4-b912-32c2e7f1a9c0",
   "metadata": {},
   "outputs": [],
   "source": []
  }
 ],
 "metadata": {
  "kernelspec": {
   "display_name": "Python 3 (ipykernel)",
   "language": "python",
   "name": "python3"
  },
  "language_info": {
   "codemirror_mode": {
    "name": "ipython",
    "version": 3
   },
   "file_extension": ".py",
   "mimetype": "text/x-python",
   "name": "python",
   "nbconvert_exporter": "python",
   "pygments_lexer": "ipython3",
   "version": "3.10.8"
  }
 },
 "nbformat": 4,
 "nbformat_minor": 5
}
