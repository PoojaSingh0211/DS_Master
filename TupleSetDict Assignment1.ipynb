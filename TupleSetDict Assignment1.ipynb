{
 "cells": [
  {
   "cell_type": "code",
   "execution_count": 1,
   "id": "312b0583-4f06-4472-9e88-0253798c892c",
   "metadata": {},
   "outputs": [],
   "source": [
    "#Q1. What are the characteristics of the tuples? Is tuple immutable?\n",
    "\n",
    "#Some of the characteristics features of Tuples are:\n",
    "\n",
    "#Tuples are defined in the same way as lists.\n",
    "#They are enclosed within parenthesis and not within square braces.\n",
    "#Elements of the tuple must have a defined order.\n",
    "#Negative indices are counted from the end of the tuple, just like lists.\n",
    "#Tuple also has the same structure where commas separate the values."
   ]
  },
  {
   "cell_type": "code",
   "execution_count": 3,
   "id": "3058bf80-af71-4681-8131-ceca2ddeac98",
   "metadata": {},
   "outputs": [],
   "source": [
    "tupl1 = ('computersc', 'IT', 'CSE')\n",
    "tup2 = (6,5,4,3,2,1)"
   ]
  },
  {
   "cell_type": "code",
   "execution_count": 5,
   "id": "ef8cef86-8504-487e-a773-a4073aa9396f",
   "metadata": {},
   "outputs": [
    {
     "data": {
      "text/plain": [
       "('computersc', 'IT', 'CSE')"
      ]
     },
     "execution_count": 5,
     "metadata": {},
     "output_type": "execute_result"
    }
   ],
   "source": [
    "tupl1"
   ]
  },
  {
   "cell_type": "code",
   "execution_count": 6,
   "id": "49ead389-8334-4a8e-bafe-5a5259acc0bc",
   "metadata": {},
   "outputs": [
    {
     "ename": "TypeError",
     "evalue": "'tuple' object does not support item assignment",
     "output_type": "error",
     "traceback": [
      "\u001b[0;31m---------------------------------------------------------------------------\u001b[0m",
      "\u001b[0;31mTypeError\u001b[0m                                 Traceback (most recent call last)",
      "Cell \u001b[0;32mIn[6], line 1\u001b[0m\n\u001b[0;32m----> 1\u001b[0m \u001b[43mtupl1\u001b[49m\u001b[43m[\u001b[49m\u001b[38;5;124;43m'\u001b[39;49m\u001b[38;5;124;43mIT\u001b[39;49m\u001b[38;5;124;43m'\u001b[39;49m\u001b[43m]\u001b[49m\u001b[38;5;241m=\u001b[39m\u001b[38;5;241m100\u001b[39m\n",
      "\u001b[0;31mTypeError\u001b[0m: 'tuple' object does not support item assignment"
     ]
    }
   ],
   "source": [
    "tupl1['IT']=100"
   ]
  },
  {
   "cell_type": "code",
   "execution_count": 7,
   "id": "b4fded66-57a3-406b-b632-220ea3967e4d",
   "metadata": {},
   "outputs": [
    {
     "name": "stdout",
     "output_type": "stream",
     "text": [
      "tupl1[0] computersc\n",
      "tupl3[2:4] (6, 8)\n"
     ]
    }
   ],
   "source": [
    "tupl1 = ('computersc', 'IT', 'CSE');\n",
    "tupl2 = (1993, 2016);\n",
    "tupl3 = (2, 4, 6, 8, 10, 12, 14, 16);\n",
    "\n",
    "print (\"tupl1[0]\", tupl1[0])\n",
    "print (\"tupl3[2:4]\", tupl3[2:4])"
   ]
  },
  {
   "cell_type": "code",
   "execution_count": 8,
   "id": "6b70f432-b73b-43ba-ac9b-cfb1e0f31ad2",
   "metadata": {},
   "outputs": [
    {
     "name": "stdout",
     "output_type": "stream",
     "text": [
      "(2, 3, 4, 'ab', 'cd')\n"
     ]
    }
   ],
   "source": [
    "tupl1 = (2, 3, 4);\n",
    "tupl2 = ('ab', 'cd');\n",
    "tupl3 = tupl1 + tupl2\n",
    "\n",
    "print (tupl3)"
   ]
  },
  {
   "cell_type": "code",
   "execution_count": 9,
   "id": "e59ba60c-b4ac-4ba9-a739-6354e98938c8",
   "metadata": {},
   "outputs": [],
   "source": [
    "tupl3 = (2, 4, 6, 8, 10, 12, 14, 16)\n",
    "del tupl3"
   ]
  },
  {
   "cell_type": "code",
   "execution_count": 10,
   "id": "807304c0-10c5-4d7e-a075-8f55013b9763",
   "metadata": {},
   "outputs": [
    {
     "ename": "NameError",
     "evalue": "name 'tupl3' is not defined",
     "output_type": "error",
     "traceback": [
      "\u001b[0;31m---------------------------------------------------------------------------\u001b[0m",
      "\u001b[0;31mNameError\u001b[0m                                 Traceback (most recent call last)",
      "Cell \u001b[0;32mIn[10], line 1\u001b[0m\n\u001b[0;32m----> 1\u001b[0m \u001b[43mtupl3\u001b[49m\n",
      "\u001b[0;31mNameError\u001b[0m: name 'tupl3' is not defined"
     ]
    }
   ],
   "source": [
    "tupl3"
   ]
  },
  {
   "cell_type": "code",
   "execution_count": 11,
   "id": "bad616a0-0807-47a7-94cd-3b68c311331b",
   "metadata": {},
   "outputs": [
    {
     "name": "stdout",
     "output_type": "stream",
     "text": [
      "()\n"
     ]
    }
   ],
   "source": [
    "tuple_empty= ()\n",
    "print ( tuple_empty)"
   ]
  },
  {
   "cell_type": "code",
   "execution_count": 13,
   "id": "d31f781a-0092-407e-8430-7cbf30b31405",
   "metadata": {},
   "outputs": [
    {
     "data": {
      "text/plain": [
       "1"
      ]
     },
     "execution_count": 13,
     "metadata": {},
     "output_type": "execute_result"
    }
   ],
   "source": [
    "tupl1.count(2)"
   ]
  },
  {
   "cell_type": "code",
   "execution_count": 14,
   "id": "3519f56b-34a6-44df-996a-31f30b730e9e",
   "metadata": {},
   "outputs": [
    {
     "data": {
      "text/plain": [
       "0"
      ]
     },
     "execution_count": 14,
     "metadata": {},
     "output_type": "execute_result"
    }
   ],
   "source": [
    "tupl1.index(2)"
   ]
  },
  {
   "cell_type": "code",
   "execution_count": 17,
   "id": "1595821e-5c64-4b96-a9a4-29d40b678a5c",
   "metadata": {},
   "outputs": [],
   "source": [
    "#Set is a collection which is unordered and unindexed. No duplicate members.\n",
    "List = [1, 1, 1, 2, 1, 3, 1, 4, 2, 1, 2, 2, 2, 3, 2, 4, 3, 1, 3, 2, 3, 3, 3, 4, 4, 1, 4, 2, 4, 3, 4, 4]"
   ]
  },
  {
   "cell_type": "code",
   "execution_count": 18,
   "id": "70cd5773-8658-40bc-967d-39b280176f7d",
   "metadata": {},
   "outputs": [
    {
     "data": {
      "text/plain": [
       "{1, 2, 3, 4}"
      ]
     },
     "execution_count": 18,
     "metadata": {},
     "output_type": "execute_result"
    }
   ],
   "source": [
    "set(List)"
   ]
  },
  {
   "cell_type": "code",
   "execution_count": 19,
   "id": "2cc6a542-8228-48c2-a763-744ae9002f36",
   "metadata": {},
   "outputs": [
    {
     "name": "stdout",
     "output_type": "stream",
     "text": [
      "{1, 2, 3}\n",
      "{1, 2, 3, 4, 5}\n"
     ]
    }
   ],
   "source": [
    "# A set of integers\n",
    "int_set = {10, 20, 30, 40, 50}\n",
    " \n",
    "# A set of mixed data types\n",
    "mixed_set = {9, \"This is a set element\", (1, 2)}\n",
    " \n",
    "# All set elements are unique\n",
    "my_set = {1, 2, 3, 1, 3, 3}\n",
    "print(my_set) # Output: {1, 2, 3}\n",
    " \n",
    "# A set can be made from a list\n",
    "my_set = set([1, 2, 3, 2, 4, 5, 5])\n",
    "print(my_set) # Output: {1, 2, 3, 4, 5}"
   ]
  },
  {
   "cell_type": "code",
   "execution_count": 20,
   "id": "96d4623c-514f-450d-b23f-71fe25c85a1a",
   "metadata": {},
   "outputs": [
    {
     "name": "stdout",
     "output_type": "stream",
     "text": [
      "{11, 60, 21}\n",
      "{8, 11, 13, 20, 21, 60}\n"
     ]
    }
   ],
   "source": [
    "# Initialize a set\n",
    "my_set = {11, 60}\n",
    " \n",
    "# Add an element to the set\n",
    "# Output: {11, 21, 60}\n",
    "my_set.add(21)\n",
    "print(my_set)\n",
    " \n",
    "# Add more than one element to the set\n",
    "# Output: {8, 11, 13, 20, 21, 60}\n",
    "my_set.update([20, 13, 8])\n",
    "print(my_set)"
   ]
  },
  {
   "cell_type": "code",
   "execution_count": 21,
   "id": "656ed772-dda7-4b14-a704-0314b5e00a4a",
   "metadata": {},
   "outputs": [
    {
     "name": "stdout",
     "output_type": "stream",
     "text": [
      "{1, 4, 5, 6, 7, 8}\n"
     ]
    }
   ],
   "source": [
    "# Defining the two sets\n",
    "first_set = {1, 5, 7, 4, 5}\n",
    "second_set = {4, 5, 6, 7, 8}\n",
    " \n",
    "# Creating the union of the two sets\n",
    "new_set = first_set | second_set\n",
    " \n",
    "print(new_set) # Output: {1, 2, 3, 4, 5, 6, 7, 8}"
   ]
  },
  {
   "cell_type": "code",
   "execution_count": 22,
   "id": "211b76b3-9ff7-4bbd-ace3-24ee993bb972",
   "metadata": {},
   "outputs": [],
   "source": [
    "new_set = first_set.union(second_set)"
   ]
  },
  {
   "cell_type": "code",
   "execution_count": 23,
   "id": "6d7def5b-a1b7-4441-917c-ea1e112471ed",
   "metadata": {},
   "outputs": [
    {
     "data": {
      "text/plain": [
       "{1, 4, 5, 6, 7, 8}"
      ]
     },
     "execution_count": 23,
     "metadata": {},
     "output_type": "execute_result"
    }
   ],
   "source": [
    "new_set"
   ]
  },
  {
   "cell_type": "code",
   "execution_count": 24,
   "id": "ef8550c0-7451-4c55-926f-ce37b2fbfd1a",
   "metadata": {},
   "outputs": [],
   "source": [
    "#Dictionaries are used to store data values in key:value pairs.\n",
    "\n",
    "#A dictionary is a collection which is ordered*, changeable and do not allow duplicates."
   ]
  },
  {
   "cell_type": "code",
   "execution_count": 25,
   "id": "bc0d5870-21fa-4b12-b24d-93e5d6b7488f",
   "metadata": {},
   "outputs": [
    {
     "name": "stdout",
     "output_type": "stream",
     "text": [
      "{'brand': 'Ford', 'model': 'Mustang', 'year': 1964}\n"
     ]
    }
   ],
   "source": [
    "dict = {\n",
    "  \"brand\": \"Ford\",\n",
    "  \"model\": \"Mustang\",\n",
    "  \"year\": 1964\n",
    "}\n",
    "print(dict)"
   ]
  },
  {
   "cell_type": "code",
   "execution_count": 26,
   "id": "35762aa0-3e97-4408-9eb3-939b4b327526",
   "metadata": {},
   "outputs": [
    {
     "name": "stdout",
     "output_type": "stream",
     "text": [
      "[]\n",
      "<class 'list'>\n",
      "[10, 30, 20, 40, 10, 50]\n",
      "['neha', 'pooja', 'jyoti']\n",
      "[] <class 'list'>\n",
      "['neha', 'pooja', 'jyoti']\n",
      "neha\n",
      "pooja\n",
      "jyoti\n",
      "[10, 30, 10, 30, 40, 20]\n",
      "[10, 30, 10, 30]\n",
      "True\n",
      "False\n",
      "False\n",
      "[]\n",
      "['a']\n",
      "['a', 'b']\n",
      "['a', 'b', 'c']\n",
      "['a', 'b', 'c', 'd', 'e', 'f']\n",
      "f\n",
      "['a', 'b', 'c', 'd', 'e']\n",
      "b\n",
      "None\n",
      "None\n",
      "[]\n",
      "[10, 40, 50, 20, 70, 40, 60, 30]\n",
      "[10, 20, 30, 40, 40, 50, 60, 70]\n",
      "[10, 40, 50, 20, 70, 40, 60, 30]\n",
      "[70, 60, 50, 40, 40, 30, 20, 10]\n",
      "[10, 40, 50, 20, 70, 40, 60, 30]\n",
      "[70, 60, 50, 40, 40, 30, 20, 10]\n"
     ]
    }
   ],
   "source": [
    "#WAP to demo list\n",
    "#list declare\n",
    "\n",
    "d1=[]\n",
    "print(d1)\n",
    "print(type(d1))\n",
    "\n",
    "d2=[10,30,20,40,10,50]\n",
    "print(d2)\n",
    "\n",
    "d3=[\"neha\",\"pooja\",\"jyoti\"]\n",
    "print(d3)\n",
    "\n",
    "d4=list()\n",
    "print(d4,type(d4))\n",
    "\n",
    "#display list\n",
    "print(d3)\n",
    "\n",
    "for d in d3:\n",
    "\tprint(d)\n",
    "\n",
    "#List operations\n",
    "data1=[10,30]\n",
    "data2=[10,30,40,20]\n",
    "print(data1+data2)\n",
    "print(data1*2)\n",
    "print(10 in data1)\n",
    "print(90 in data2)\n",
    "print(data1==data2)\n",
    "\n",
    "\n",
    "#add element in list\n",
    "data = []\n",
    "print([])\n",
    "data.append(\"a\")\n",
    "print(data)\n",
    "data.append(\"b\")\n",
    "print(data)\n",
    "data.append(\"c\")  #append can not add more than one element\n",
    "print(data)\n",
    "data.extend([\"d\",\"e\",\"f\"])  #to add more than 1 element\n",
    "print(data)\n",
    "\n",
    "\n",
    "#remove element\n",
    "print(data.pop())\n",
    "print(data)\n",
    "print(data.pop(1))\n",
    "print(data.remove(\"a\"))\n",
    "print(data.clear())\n",
    "print(data)\n",
    "\n",
    "\n",
    "#extract method\n",
    "\n",
    "data = [10,40,50,20,70,40,60,30]\n",
    "print(data)\n",
    "data.sort()\n",
    "print(data)\n",
    "\n",
    "\n",
    "data = [10,40,50,20,70,40,60,30]\n",
    "print(data)\n",
    "data.sort(reverse=True)\n",
    "print(data)\n",
    "\n",
    "\n",
    "data = [10,40,50,20,70,40,60,30]\n",
    "print(data)\n",
    "data.sort()\n",
    "data.reverse()\n",
    "print(data)"
   ]
  },
  {
   "cell_type": "code",
   "execution_count": 27,
   "id": "53177567-1411-43d5-8fba-ec4eb428c5e0",
   "metadata": {},
   "outputs": [],
   "source": [
    "#a nested dictionary is a dictionary inside a dictionary. It's a collection of dictionaries into one single dictionary.\n",
    "\n",
    "nested_dict = { 'dictA': {'key_1': 'value_1'},\n",
    "                'dictB': {'key_2': 'value_2'}}"
   ]
  },
  {
   "cell_type": "code",
   "execution_count": 28,
   "id": "ed2654df-2ab8-490a-acad-dc46302cf078",
   "metadata": {},
   "outputs": [
    {
     "data": {
      "text/plain": [
       "{'dictA': {'key_1': 'value_1'}, 'dictB': {'key_2': 'value_2'}}"
      ]
     },
     "execution_count": 28,
     "metadata": {},
     "output_type": "execute_result"
    }
   ],
   "source": [
    "nested_dict"
   ]
  },
  {
   "cell_type": "code",
   "execution_count": 29,
   "id": "66c2cf5c-ad72-4950-8271-78467e8af83f",
   "metadata": {},
   "outputs": [
    {
     "name": "stdout",
     "output_type": "stream",
     "text": [
      "{'a': 97, 'b': 98, 'c': 99, 'd': 100, ' ': 32}\n"
     ]
    }
   ],
   "source": [
    "d = {'a': 97, 'b': 98, 'c': 99, 'd': 100}\n",
    "# space key added using setdefault() method\n",
    "d.setdefault(' ', 32)\n",
    "print(d)"
   ]
  },
  {
   "cell_type": "code",
   "execution_count": 35,
   "id": "14fc8791-f946-4eb9-bc8b-9f0042c8d85f",
   "metadata": {},
   "outputs": [
    {
     "data": {
      "text/plain": [
       "'Python'"
      ]
     },
     "execution_count": 35,
     "metadata": {},
     "output_type": "execute_result"
    }
   ],
   "source": [
    "dis={}\n",
    "dis.setdefault('','Python')\n",
    "dis.setdefault('','Machine Learning')\n",
    "dis.setdefault('','Deep Learning')"
   ]
  },
  {
   "cell_type": "code",
   "execution_count": 36,
   "id": "8eebde8c-29a0-492e-b9fb-b04d5e6c10c0",
   "metadata": {},
   "outputs": [
    {
     "data": {
      "text/plain": [
       "{'': 'Python'}"
      ]
     },
     "execution_count": 36,
     "metadata": {},
     "output_type": "execute_result"
    }
   ],
   "source": [
    "dis"
   ]
  },
  {
   "cell_type": "code",
   "execution_count": 37,
   "id": "2cd138a5-5aa6-4e81-8afb-a333df6c6228",
   "metadata": {},
   "outputs": [
    {
     "data": {
      "text/plain": [
       "'Deep Learning'"
      ]
     },
     "execution_count": 37,
     "metadata": {},
     "output_type": "execute_result"
    }
   ],
   "source": [
    "dis={}\n",
    "dis.setdefault('A','Python')\n",
    "dis.setdefault('B','Machine Learning')\n",
    "dis.setdefault('C','Deep Learning')"
   ]
  },
  {
   "cell_type": "code",
   "execution_count": 38,
   "id": "ba5d35bc-2f97-4c80-9883-8a38e4ae3ae6",
   "metadata": {},
   "outputs": [
    {
     "data": {
      "text/plain": [
       "{'A': 'Python', 'B': 'Machine Learning', 'C': 'Deep Learning'}"
      ]
     },
     "execution_count": 38,
     "metadata": {},
     "output_type": "execute_result"
    }
   ],
   "source": [
    "dis"
   ]
  },
  {
   "cell_type": "code",
   "execution_count": 39,
   "id": "1bc6e7ed-d042-4710-b9d2-5805b1967f35",
   "metadata": {},
   "outputs": [],
   "source": [
    "#The dictionary view objects include dict.keys(), dict.values(), dict.items().\n",
    "#They are used to obtain the dynamic view of the dictionary elements in python. These objects reflect the changes made to the dictionary."
   ]
  },
  {
   "cell_type": "code",
   "execution_count": 40,
   "id": "d09a6b78-f59c-42b6-8cf9-b20305154cb1",
   "metadata": {},
   "outputs": [],
   "source": [
    "dict1 = {'Sport': 'Cricket' , 'Teams': ['India', 'Australia', 'England', 'South Africa', 'Sri Lanka', 'New Zealand']}"
   ]
  },
  {
   "cell_type": "code",
   "execution_count": 42,
   "id": "a9ea4248-37f9-4b62-b6ba-0d436061db74",
   "metadata": {},
   "outputs": [
    {
     "data": {
      "text/plain": [
       "dict_keys(['Sport', 'Teams'])"
      ]
     },
     "execution_count": 42,
     "metadata": {},
     "output_type": "execute_result"
    }
   ],
   "source": [
    "dict1.keys()"
   ]
  },
  {
   "cell_type": "code",
   "execution_count": 43,
   "id": "3132d88d-164a-4075-ab1d-4cd221e90711",
   "metadata": {},
   "outputs": [
    {
     "data": {
      "text/plain": [
       "dict_values(['Cricket', ['India', 'Australia', 'England', 'South Africa', 'Sri Lanka', 'New Zealand']])"
      ]
     },
     "execution_count": 43,
     "metadata": {},
     "output_type": "execute_result"
    }
   ],
   "source": [
    "dict1.values()"
   ]
  },
  {
   "cell_type": "code",
   "execution_count": 44,
   "id": "3b8a112a-a332-4656-9170-1dfd5819ecca",
   "metadata": {},
   "outputs": [
    {
     "data": {
      "text/plain": [
       "dict_items([('Sport', 'Cricket'), ('Teams', ['India', 'Australia', 'England', 'South Africa', 'Sri Lanka', 'New Zealand'])])"
      ]
     },
     "execution_count": 44,
     "metadata": {},
     "output_type": "execute_result"
    }
   ],
   "source": [
    "dict1.items()"
   ]
  },
  {
   "cell_type": "code",
   "execution_count": 47,
   "id": "29cc6a4a-a1fc-45fa-8f1d-c395add79b5c",
   "metadata": {},
   "outputs": [
    {
     "name": "stdout",
     "output_type": "stream",
     "text": [
      "dict_keys(['Sport', 'Teams'])\n",
      "dict_values(['Cricket', ['India', 'Australia', 'England', 'South Africa', 'Sri Lanka', 'New Zealand']])\n",
      "dict_items([('Sport', 'Cricket'), ('Teams', ['India', 'Australia', 'England', 'South Africa', 'Sri Lanka', 'New Zealand'])])\n"
     ]
    }
   ],
   "source": [
    "print(dict1.keys())\n",
    "print(dict1.values())\n",
    "print(dict1.items())"
   ]
  },
  {
   "cell_type": "code",
   "execution_count": null,
   "id": "6eb2a3c5-8f95-42d3-a545-c509a5001bd1",
   "metadata": {},
   "outputs": [],
   "source": []
  }
 ],
 "metadata": {
  "kernelspec": {
   "display_name": "Python 3 (ipykernel)",
   "language": "python",
   "name": "python3"
  },
  "language_info": {
   "codemirror_mode": {
    "name": "ipython",
    "version": 3
   },
   "file_extension": ".py",
   "mimetype": "text/x-python",
   "name": "python",
   "nbconvert_exporter": "python",
   "pygments_lexer": "ipython3",
   "version": "3.10.8"
  }
 },
 "nbformat": 4,
 "nbformat_minor": 5
}
