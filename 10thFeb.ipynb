{
 "cells": [
  {
   "cell_type": "code",
   "execution_count": 5,
   "id": "e4a2b6b3-3246-496b-8489-8202b2cef987",
   "metadata": {},
   "outputs": [
    {
     "name": "stdout",
     "output_type": "stream",
     "text": [
      "Hi\n",
      " ** ** ** ** ** ** ** ** ** **\n",
      "Hi\n"
     ]
    }
   ],
   "source": [
    "def Decorator1():\n",
    "    print(\"Hi\")\n",
    "    a=10*\" **\"\n",
    "    print(a)\n",
    "    print(\"Hi\")\n",
    "Decorator1()"
   ]
  },
  {
   "cell_type": "code",
   "execution_count": 11,
   "id": "44f05b15-39c9-4ecd-8765-a0551ff0f274",
   "metadata": {},
   "outputs": [
    {
     "name": "stdout",
     "output_type": "stream",
     "text": [
      " ** ** ** ** ** ** ** ** ** **\n",
      "Hi Hi Hi Hi Hi Hi Hi Hi Hi Hi \n",
      " ** ** ** ** ** ** ** ** ** **\n"
     ]
    },
    {
     "ename": "TypeError",
     "evalue": "'NoneType' object is not callable",
     "output_type": "error",
     "traceback": [
      "\u001b[0;31m---------------------------------------------------------------------------\u001b[0m",
      "\u001b[0;31mTypeError\u001b[0m                                 Traceback (most recent call last)",
      "Cell \u001b[0;32mIn[11], line 13\u001b[0m\n\u001b[1;32m      9\u001b[0m \u001b[38;5;129m@deco\u001b[39m\n\u001b[1;32m     10\u001b[0m \u001b[38;5;28;01mdef\u001b[39;00m \u001b[38;5;21msample\u001b[39m():\n\u001b[1;32m     11\u001b[0m     \u001b[38;5;28mprint\u001b[39m(\u001b[38;5;124m\"\u001b[39m\u001b[38;5;124mHi \u001b[39m\u001b[38;5;124m\"\u001b[39m\u001b[38;5;241m*\u001b[39m\u001b[38;5;241m10\u001b[39m)\n\u001b[0;32m---> 13\u001b[0m \u001b[43msample\u001b[49m\u001b[43m(\u001b[49m\u001b[43m)\u001b[49m\n",
      "\u001b[0;31mTypeError\u001b[0m: 'NoneType' object is not callable"
     ]
    }
   ],
   "source": [
    "def deco(func):\n",
    "    def inner_deco():\n",
    "        a=10*\" **\"\n",
    "        print(a)\n",
    "        func()\n",
    "        print(a)\n",
    "    return inner_deco()\n",
    "    \n",
    "@deco\n",
    "def sample():\n",
    "    print(\"Hi \"*10)\n",
    "    \n",
    "sample()"
   ]
  },
  {
   "cell_type": "markdown",
   "id": "dd15c211-b074-4120-ab0f-5f70a10816c3",
   "metadata": {},
   "source": [
    "# Which function is used to open a file? What are the different modes of opening a file? Explain each mode of file opening."
   ]
  },
  {
   "cell_type": "code",
   "execution_count": 10,
   "id": "f7a03f15-394d-40c3-a9df-44cab19e121e",
   "metadata": {},
   "outputs": [
    {
     "name": "stdin",
     "output_type": "stream",
     "text": [
      "Enter File name  pooja.txt\n"
     ]
    },
    {
     "name": "stdout",
     "output_type": "stream",
     "text": [
      "pooja.txt  got created.\n"
     ]
    }
   ],
   "source": [
    "#P1) Create a new File if it does not exist\n",
    "\n",
    "import os\n",
    "filename=input(\"Enter File name \")\n",
    "if os.path.exists(filename):\n",
    "\tprint(filename,\" already exist.\")\n",
    "else:\n",
    "\tf=None\n",
    "\ttry:\n",
    "\t\tf=open(filename,\"w\")\n",
    "\t\tprint(filename,\" got created.\")\n",
    "\texcept Exception as e:\n",
    "\t\tprint(\"Issue \",e)\n",
    "\tfinally:\n",
    "\t\tif f is not None:\n",
    "\t\t\tf.close()"
   ]
  },
  {
   "cell_type": "code",
   "execution_count": 11,
   "id": "7495974c-4a6b-46c6-a4bb-db8bac3e325d",
   "metadata": {},
   "outputs": [
    {
     "name": "stdin",
     "output_type": "stream",
     "text": [
      "Enter source file name :  PW\n"
     ]
    },
    {
     "name": "stdout",
     "output_type": "stream",
     "text": [
      "PW  does not exist\n"
     ]
    }
   ],
   "source": [
    "import os\n",
    "src_filename=input(\"Enter source file name : \")\n",
    "if os.path.isfile(src_filename):\n",
    "\tdes_filename=input(\"Enter dest filename: \")\n",
    "\ttry:\n",
    "\t\twith open(src_filename,\"r\") as src_f:\n",
    "\t\t\twith open(des_filename,\"w\") as des_f:\n",
    "\t\t\t\tdata=src_f.read()\n",
    "\t\t\t\tdes_f.write(data)\n",
    "\t\t\t\tprint(\"Copy Completed!!!\")\n",
    "\texcept Exception as e:\n",
    "\t\tprint(\"Issue \",e)\n",
    "else:\n",
    "\tprint(src_filename,\" does not exist\")"
   ]
  },
  {
   "cell_type": "code",
   "execution_count": 13,
   "id": "755d2ce3-a305-492a-858d-f067e1891b28",
   "metadata": {},
   "outputs": [
    {
     "name": "stdin",
     "output_type": "stream",
     "text": [
      "Enter File name  pooja.txt\n",
      "Enter something in file :  qws dvgh weretrg wergf57435 6532\n"
     ]
    }
   ],
   "source": [
    "import os\n",
    "filename=input(\"Enter File name \")\n",
    "if os.path.exists(filename):\n",
    "\tf=None\n",
    "\ttry:\n",
    "\t\tf=open(filename,\"w\")\n",
    "\t\tdata=input(\"Enter something in file : \")\n",
    "\t\tf.write(data+\"\\n\")\n",
    "\texcept Exception as e:\n",
    "\t\tprint(\"Issue \",e)\n",
    "\tfinally:\n",
    "\t\tif f is not None:\n",
    "\t\t\tf.close()\n",
    "else:\n",
    "\tprint(filename,\" does not exist.\")"
   ]
  },
  {
   "cell_type": "code",
   "execution_count": 21,
   "id": "09e7dd88-54ee-4240-a79a-930fa63cc261",
   "metadata": {},
   "outputs": [
    {
     "name": "stdin",
     "output_type": "stream",
     "text": [
      "Enter File name  pooja.txt\n"
     ]
    },
    {
     "name": "stdout",
     "output_type": "stream",
     "text": [
      "qws dvgh weretrg wergf57435 6532\n",
      "\n"
     ]
    }
   ],
   "source": [
    "import os\n",
    "filename=input(\"Enter File name \")\n",
    "if os.path.exists(filename):\n",
    "    f=None\n",
    "    try:\n",
    "        f=open(filename,\"r\")\n",
    "        data=f.read()\n",
    "        print(data)\n",
    "    except Exception as e:\n",
    "        print(\"Issue \",e)\n",
    "    finally:\n",
    "        if f is not None:\n",
    "            f.close()\n",
    "else:\n",
    "    print(filename,\" does not exist.\")"
   ]
  },
  {
   "cell_type": "markdown",
   "id": "d6af451a-4570-4119-838e-cd3998189f55",
   "metadata": {},
   "source": [
    "# Q2. Why close() function is used? Why is it important to close a file?"
   ]
  },
  {
   "cell_type": "markdown",
   "id": "3ca5707c-10c8-462c-a3e5-1883038a4a9e",
   "metadata": {},
   "source": [
    "### 1 If the file has any sort of buffering behind it it and you don't call close then you could potentially lose data.\n",
    "\n",
    "### 2 If the OS has limited resources (e.g. number of open files) then by not closing files you are wasting system resources.\n",
    "\n",
    "### 3 Using a descriptor once the file is closed is pointless at best, massive bug at worst (a bit like using memory after it has been freed)"
   ]
  },
  {
   "cell_type": "markdown",
   "id": "c96b226a-7114-4fe7-b70e-0ff0a7580952",
   "metadata": {},
   "source": [
    "# Q3. Write a python program to create a text file. Write ‘I want to become a Data Scientist’ in that file. Then close the file. Open this file and read the content of the file."
   ]
  },
  {
   "cell_type": "code",
   "execution_count": 38,
   "id": "fa7f68f7-7252-4608-b788-5486fae372bb",
   "metadata": {},
   "outputs": [
    {
     "name": "stdin",
     "output_type": "stream",
     "text": [
      "Enter 1 to write into file\n",
      "Enter 2 to read from file\n",
      " 1\n",
      "Enter file name:  xyz.txt\n",
      "Enter something to write in file:  Data Scientist\n"
     ]
    },
    {
     "name": "stdout",
     "output_type": "stream",
     "text": [
      "Data Scientist  is writter in file\n"
     ]
    }
   ],
   "source": [
    "import os\n",
    "def inputFile():\n",
    "    filename=input(\"Enter file name: \")\n",
    "    if os.path.exists(filename):\n",
    "        f=None\n",
    "        try:\n",
    "            f=open(filename,\"w\")\n",
    "            value=input(\"Enter something to write in file: \")\n",
    "            f.write(value+\"\\n\")\n",
    "            print(value,\" is writter in file\")\n",
    "        except Exception as e:\n",
    "            print(\"Issue \",e)\n",
    "        finally:\n",
    "            if f is not None:\n",
    "                f.close()\n",
    "    else:\n",
    "        print(filename,\" does not Exist.\")\n",
    "def outputFile():\n",
    "    filename=input(\"Enter file name: \")\n",
    "    if os.path.exists(filename):\n",
    "        f=None\n",
    "        try:\n",
    "            f=open(filename,\"w\")\n",
    "            value=f.read()\n",
    "            print(value)\n",
    "        except Exception as e:\n",
    "            print(\"Issue \",e)\n",
    "        finally:\n",
    "            if f is not None:\n",
    "                f.close()\n",
    "    else:\n",
    "        print(filename,\" does not Exist.\")\n",
    "def main():\n",
    "    op=int(input(\"Enter 1 to write into file\\nEnter 2 to read from file\\n\"))\n",
    "    if op==1:\n",
    "        inputFile()\n",
    "    elif op==2:\n",
    "        outputFile()\n",
    "    else:\n",
    "        print(\"Please choose correct option\")\n",
    "\n",
    "        \n",
    "main()"
   ]
  },
  {
   "cell_type": "code",
   "execution_count": 37,
   "id": "ea0f1b41-d9a1-4c6b-8e1d-2232aa388c11",
   "metadata": {},
   "outputs": [
    {
     "name": "stdin",
     "output_type": "stream",
     "text": [
      "Enter 1 to write into file\n",
      "Enter 2 to read from file\n",
      " 2\n",
      "Enter file name:  xyz.txt\n"
     ]
    },
    {
     "name": "stdout",
     "output_type": "stream",
     "text": [
      "I want to become data scienctist\n"
     ]
    }
   ],
   "source": [
    "import os\n",
    "def inputFile():\n",
    "    filename=input(\"Enter file name: \")\n",
    "    if os.path.exists(filename):\n",
    "        f=None\n",
    "        try:\n",
    "            f=open(filename,\"w\")\n",
    "            value=input(\"Enter something to write in file: \")\n",
    "            f.write(value+\"\\n\")\n",
    "            print(value,\" is writter in file\")\n",
    "        except Exception as e:\n",
    "            print(\"Issue \",e)\n",
    "        finally:\n",
    "            if f is not None:\n",
    "                f.close()\n",
    "    else:\n",
    "        print(filename,\" does not Exist.\")\n",
    "def outputFile():\n",
    "    filename=input(\"Enter file name: \")\n",
    "    if os.path.exists(filename):\n",
    "        f=None\n",
    "        try:\n",
    "            f=open(filename,\"r\")\n",
    "            value=f.read()\n",
    "            print(value)\n",
    "        except Exception as e:\n",
    "            print(\"Issue \",e)\n",
    "        finally:\n",
    "            if f is not None:\n",
    "                f.close()\n",
    "    else:\n",
    "        print(filename,\" does not Exist.\")\n",
    "def main():\n",
    "    op=int(input(\"Enter 1 to write into file\\nEnter 2 to read from file\\n\"))\n",
    "    if op==1:\n",
    "        inputFile()\n",
    "    elif op==2:\n",
    "        outputFile()\n",
    "    else:\n",
    "        print(\"Please choose correct option\")\n",
    "\n",
    "        \n",
    "main()\n"
   ]
  },
  {
   "cell_type": "markdown",
   "id": "19e2822b-ca50-40f2-9ea6-b2493507d323",
   "metadata": {},
   "source": [
    "# Q4. Explain the following with python code: read(), readline() and readlines()."
   ]
  },
  {
   "cell_type": "code",
   "execution_count": 40,
   "id": "cad4dcd3-135d-4285-b20b-590cc5a0ef7d",
   "metadata": {},
   "outputs": [
    {
     "name": "stdin",
     "output_type": "stream",
     "text": [
      "Enter file name:  xyz.txt\n"
     ]
    },
    {
     "name": "stdout",
     "output_type": "stream",
     "text": [
      "Data Scientist\n",
      "python developer\n",
      "java developer\n",
      "web developer\n",
      "system engineer\n",
      "\n"
     ]
    }
   ],
   "source": [
    "import os\n",
    "filename=input(\"Enter file name: \")\n",
    "if os.path.exists(filename):\n",
    "    f=None\n",
    "    try:\n",
    "        f=open(filename,\"r\")\n",
    "        value=f.read()\n",
    "        print(value)\n",
    "    except Exception as e:\n",
    "        print(\"Issue \",e)\n",
    "    finally:\n",
    "        if f is not None:\n",
    "            f.close()\n",
    "else:\n",
    "    print(filename,\" does not Exist.\")"
   ]
  },
  {
   "cell_type": "code",
   "execution_count": 41,
   "id": "87ebbe69-8c7d-433a-a657-d2ea3feefd30",
   "metadata": {},
   "outputs": [
    {
     "name": "stdin",
     "output_type": "stream",
     "text": [
      "Enter file name:  xyz.txt\n"
     ]
    },
    {
     "name": "stdout",
     "output_type": "stream",
     "text": [
      "Data Scientist\n",
      "\n"
     ]
    }
   ],
   "source": [
    "import os\n",
    "filename=input(\"Enter file name: \")\n",
    "if os.path.exists(filename):\n",
    "    f=None\n",
    "    try:\n",
    "        f=open(filename,\"r\")\n",
    "        value=f.readline()\n",
    "        print(value)\n",
    "    except Exception as e:\n",
    "        print(\"Issue \",e)\n",
    "    finally:\n",
    "        if f is not None:\n",
    "            f.close()\n",
    "else:\n",
    "    print(filename,\" does not Exist.\")"
   ]
  },
  {
   "cell_type": "code",
   "execution_count": 42,
   "id": "d727d801-dd14-4112-afc1-17f96c3fdd15",
   "metadata": {},
   "outputs": [
    {
     "name": "stdin",
     "output_type": "stream",
     "text": [
      "Enter file name:  xyz.txt\n"
     ]
    },
    {
     "name": "stdout",
     "output_type": "stream",
     "text": [
      "['Data Scientist\\n', 'python developer\\n', 'java developer\\n', 'web developer\\n', 'system engineer\\n']\n"
     ]
    }
   ],
   "source": [
    "import os\n",
    "filename=input(\"Enter file name: \")\n",
    "n=5\n",
    "if os.path.exists(filename):\n",
    "    f=None\n",
    "    try:\n",
    "        f=open(filename,\"r\")\n",
    "        value=f.readlines()\n",
    "        print(value)\n",
    "    except Exception as e:\n",
    "        print(\"Issue \",e)\n",
    "    finally:\n",
    "        if f is not None:\n",
    "            f.close()\n",
    "else:\n",
    "    print(filename,\" does not Exist.\")"
   ]
  },
  {
   "cell_type": "markdown",
   "id": "6aedc1c2-8397-41a5-8a5b-f6ce2d966e1d",
   "metadata": {},
   "source": [
    "### readline() can be useful if you are doing processing and just want to access particular line, but in the examples we have gone over here, readlines() and read() typically give you more flexibility to work with files."
   ]
  },
  {
   "cell_type": "code",
   "execution_count": 45,
   "id": "27844613-60a4-4fdd-93d1-fc6b282578be",
   "metadata": {},
   "outputs": [
    {
     "name": "stdin",
     "output_type": "stream",
     "text": [
      "Enter file name:  xyz.txt\n"
     ]
    },
    {
     "name": "stdout",
     "output_type": "stream",
     "text": [
      "Scientist\n",
      "\n"
     ]
    }
   ],
   "source": [
    "import os\n",
    "filename=input(\"Enter file name: \")\n",
    "n=5\n",
    "if os.path.exists(filename):\n",
    "    f=None\n",
    "    try:\n",
    "        f=open(filename,\"r\")\n",
    "        value=f.readline()[n:]\n",
    "        print(value)\n",
    "    except Exception as e:\n",
    "        print(\"Issue \",e)\n",
    "    finally:\n",
    "        if f is not None:\n",
    "            f.close()\n",
    "else:\n",
    "    print(filename,\" does not Exist.\")"
   ]
  },
  {
   "cell_type": "code",
   "execution_count": 47,
   "id": "b699dd3c-a0c4-4a54-8945-c17575d234a4",
   "metadata": {},
   "outputs": [
    {
     "name": "stdin",
     "output_type": "stream",
     "text": [
      "Enter file name:  xyz.txt\n"
     ]
    },
    {
     "name": "stdout",
     "output_type": "stream",
     "text": [
      "['Data Scientist\\n', 'python developer\\n', 'java developer\\n', 'web developer\\n', 'system engineer\\n']\n"
     ]
    }
   ],
   "source": [
    "import os\n",
    "filename=input(\"Enter file name: \")\n",
    "n=5\n",
    "if os.path.exists(filename):\n",
    "    f=None\n",
    "    try:\n",
    "        f=open(filename,\"r\")\n",
    "        value=f.readlines()[-n:]\n",
    "        print(value)\n",
    "    except Exception as e:\n",
    "        print(\"Issue \",e)\n",
    "    finally:\n",
    "        if f is not None:\n",
    "            f.close()\n",
    "else:\n",
    "    print(filename,\" does not Exist.\")"
   ]
  },
  {
   "cell_type": "markdown",
   "id": "0d36abfe-7186-4d56-8a0d-eaa9fdaed84d",
   "metadata": {},
   "source": [
    "## Q5 Explain why with statement is used with open(). What is the advantage of using with statement and open() together?\n",
    "\n",
    "### If we have opened a file using “with statement” and an exception comes inside the execution block of “with statement”. Then file will be closed before control moves to the except block.\n",
    "\n",
    "### We don’t need to call the close() function even in case of exceptions, execution block of “with statement” handles that too and closes the file before exception handling"
   ]
  },
  {
   "cell_type": "markdown",
   "id": "3e14b58e-1877-47ec-9496-7218fcea8c39",
   "metadata": {},
   "source": [
    "## Q6. Explain the write() and writelines() functions. Give a suitable example."
   ]
  },
  {
   "cell_type": "markdown",
   "id": "3246fa7b-433f-4ea4-8042-d2483125e39e",
   "metadata": {},
   "source": [
    "### Python file method writelines() writes a sequence of strings to the file."
   ]
  },
  {
   "cell_type": "code",
   "execution_count": 51,
   "id": "e0be8f0c-1ae0-4b88-9952-1541c0e726bf",
   "metadata": {},
   "outputs": [
    {
     "name": "stdin",
     "output_type": "stream",
     "text": [
      "Enter file name:  xyz.txt\n",
      "Enter something to write in file:  ['Data Scientist\\n', 'python developer\\n', 'java developer\\n', 'web developer\\n', 'system engineer\\n']\n"
     ]
    },
    {
     "name": "stdout",
     "output_type": "stream",
     "text": [
      "['Data Scientist\\n', 'python developer\\n', 'java developer\\n', 'web developer\\n', 'system engineer\\n']  is writter in file\n"
     ]
    }
   ],
   "source": [
    "filename=input(\"Enter file name: \")\n",
    "if os.path.exists(filename):\n",
    "    f=None\n",
    "    try:\n",
    "        f=open(filename,\"w\")\n",
    "        value=input(\"Enter something to write in file: \")\n",
    "        f.write(value+\"\\n\")\n",
    "        print(value,\" is writter in file\")\n",
    "    except Exception as e:\n",
    "        print(\"Issue \",e)\n",
    "    finally:\n",
    "        if f is not None:\n",
    "            f.close()\n",
    "else:\n",
    "    print(filename,\" does not Exist.\")"
   ]
  },
  {
   "cell_type": "code",
   "execution_count": 52,
   "id": "eed43fe6-da03-477c-9e62-7a41d31b4207",
   "metadata": {},
   "outputs": [
    {
     "name": "stdin",
     "output_type": "stream",
     "text": [
      "Enter file name:  xyz.txt\n",
      "Enter something to write in file:  ['Data Scientist\\n', 'python developer\\n', 'java developer\\n', 'web developer\\n', 'system engineer\\n']\n"
     ]
    },
    {
     "name": "stdout",
     "output_type": "stream",
     "text": [
      "['Data Scientist\\n', 'python developer\\n', 'java developer\\n', 'web developer\\n', 'system engineer\\n']  is writter in file\n"
     ]
    }
   ],
   "source": [
    "filename=input(\"Enter file name: \")\n",
    "if os.path.exists(filename):\n",
    "    f=None\n",
    "    try:\n",
    "        f=open(filename,\"w\")\n",
    "        value=input(\"Enter something to write in file: \")\n",
    "        f.writelines(value+\"\\n\")\n",
    "        print(value,\" is writter in file\")\n",
    "    except Exception as e:\n",
    "        print(\"Issue \",e)\n",
    "    finally:\n",
    "        if f is not None:\n",
    "            f.close()\n",
    "else:\n",
    "    print(filename,\" does not Exist.\")"
   ]
  },
  {
   "cell_type": "code",
   "execution_count": null,
   "id": "a6f8f986-9f5d-4704-813a-5e7aad072dd3",
   "metadata": {},
   "outputs": [],
   "source": []
  },
  {
   "cell_type": "code",
   "execution_count": null,
   "id": "0f85ac5e-4323-4427-8c48-b4f2673d304b",
   "metadata": {},
   "outputs": [],
   "source": []
  },
  {
   "cell_type": "code",
   "execution_count": null,
   "id": "bf464f63-4dbb-4c45-8f50-aa1f7c947816",
   "metadata": {},
   "outputs": [],
   "source": []
  },
  {
   "cell_type": "code",
   "execution_count": null,
   "id": "2715c0fc-59f1-4e52-8b6c-54c72d1ce54b",
   "metadata": {},
   "outputs": [],
   "source": []
  }
 ],
 "metadata": {
  "kernelspec": {
   "display_name": "Python 3 (ipykernel)",
   "language": "python",
   "name": "python3"
  },
  "language_info": {
   "codemirror_mode": {
    "name": "ipython",
    "version": 3
   },
   "file_extension": ".py",
   "mimetype": "text/x-python",
   "name": "python",
   "nbconvert_exporter": "python",
   "pygments_lexer": "ipython3",
   "version": "3.10.8"
  }
 },
 "nbformat": 4,
 "nbformat_minor": 5
}
