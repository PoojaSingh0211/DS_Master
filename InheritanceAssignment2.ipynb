{
 "cells": [
  {
   "cell_type": "code",
   "execution_count": 1,
   "id": "c59a2116-761e-4738-8b23-ec910cfdeeac",
   "metadata": {},
   "outputs": [],
   "source": [
    "#Create a vehicle class with an init method having instance variables as name_of_vehicle, max_speed\n",
    "#and average_of_vehicle."
   ]
  },
  {
   "cell_type": "code",
   "execution_count": 6,
   "id": "2b5fb77a-ed21-4f98-939b-638f3f564073",
   "metadata": {},
   "outputs": [],
   "source": [
    "class Vehicle:\n",
    "    def __init__(self,name_of_vehicle,max_speed,average_of_vehicle):\n",
    "        self.name_of_vehicle=name_of_vehicle\n",
    "        self.max_speed=max_speed\n",
    "        self.average_of_vehicle=average_of_vehicle"
   ]
  },
  {
   "cell_type": "code",
   "execution_count": 3,
   "id": "0ac15eff-c3e8-42fa-bdbd-6ef740e6d79b",
   "metadata": {},
   "outputs": [],
   "source": [
    "veh=Vehicle('TT',200,3357)"
   ]
  },
  {
   "cell_type": "code",
   "execution_count": 4,
   "id": "bc9aff2b-22c1-4353-ace5-d10868306cf1",
   "metadata": {},
   "outputs": [
    {
     "data": {
      "text/plain": [
       "<__main__.Vehicle at 0x7f3e34c02530>"
      ]
     },
     "execution_count": 4,
     "metadata": {},
     "output_type": "execute_result"
    }
   ],
   "source": [
    "veh"
   ]
  },
  {
   "cell_type": "code",
   "execution_count": 5,
   "id": "a78bec1a-b8d0-4ddc-950f-3201967fde56",
   "metadata": {},
   "outputs": [],
   "source": [
    "#Create a child class car from the vehicle class created in Que 1, which will inherit the vehicle class.\n",
    "#Create a method named seating_capacity which takes capacity as an argument and returns the name of\n",
    "#the vehicle and its seating capacity."
   ]
  },
  {
   "cell_type": "code",
   "execution_count": 8,
   "id": "b4fb8663-e5a9-4dfb-bc6f-3ee9d25f9670",
   "metadata": {},
   "outputs": [],
   "source": [
    "class Car(Vehicle):\n",
    "    def seating_capacity(self,capacity):\n",
    "        return f\"Car name is {self.name_of_vehicle} and Car capacity is {capacity}\""
   ]
  },
  {
   "cell_type": "code",
   "execution_count": 13,
   "id": "1dc12419-e643-4b43-8c5d-e925e542a3a5",
   "metadata": {},
   "outputs": [],
   "source": [
    "cr=Car(\"Mini Audi Test\",200,2000)"
   ]
  },
  {
   "cell_type": "code",
   "execution_count": 14,
   "id": "fca33a9a-710f-4a1c-9700-04f627adf796",
   "metadata": {},
   "outputs": [
    {
     "data": {
      "text/plain": [
       "'Car name is Mini Audi Test and Car capacity is 7'"
      ]
     },
     "execution_count": 14,
     "metadata": {},
     "output_type": "execute_result"
    }
   ],
   "source": [
    "cr.seating_capacity(7)"
   ]
  },
  {
   "cell_type": "code",
   "execution_count": 15,
   "id": "8e4244dc-a9d8-4f0c-afc6-e774580e8e83",
   "metadata": {},
   "outputs": [],
   "source": [
    "#What is multiple inheritance? Write a python code to demonstrate multiple inheritance."
   ]
  },
  {
   "cell_type": "code",
   "execution_count": 16,
   "id": "d6deac31-0300-453d-ab83-195f3dd5a482",
   "metadata": {},
   "outputs": [],
   "source": [
    "#Python facilitates inheritance of a derived class from more than one base class which is also called as multiple inheritance in Python."
   ]
  },
  {
   "cell_type": "code",
   "execution_count": 53,
   "id": "de6cbe33-219d-42a7-a4a8-4ed2d9d2ff66",
   "metadata": {},
   "outputs": [],
   "source": [
    "class Employee:\n",
    "    def __init__(self,eid,ename,esalary):\n",
    "        self.eid=eid\n",
    "        self.ename=ename\n",
    "        self.esalary=esalary\n",
    "class Employer:\n",
    "    def __init__(self,companyName):\n",
    "        self.companyName=companyName\n",
    "        "
   ]
  },
  {
   "cell_type": "code",
   "execution_count": 54,
   "id": "c710174d-d567-413f-8f18-afc0793c16ee",
   "metadata": {},
   "outputs": [],
   "source": [
    "class SystemEng(Employee,Employer):\n",
    "    def show(eid,ename,esalary,companyName):\n",
    "        print(\"EID \",eid)\n",
    "        print(\"ENAME \",ename)\n",
    "        print(\"ESALARY \",esalary)\n",
    "        print(\"CompanyName \",companyName)\n",
    "    def cal_bonus(esalary):\n",
    "        bonus=esalary*0.5/100\n",
    "        return bonus"
   ]
  },
  {
   "cell_type": "code",
   "execution_count": 55,
   "id": "d3e92ab1-0c4a-4a70-be53-6cde6cb941a0",
   "metadata": {},
   "outputs": [
    {
     "name": "stdout",
     "output_type": "stream",
     "text": [
      "EID  1001\n",
      "ENAME  John\n",
      "ESALARY  50000\n",
      "CompanyName  Google\n"
     ]
    }
   ],
   "source": [
    "SystemEng.show(\"1001\",\"John\",50000,\"Google\")"
   ]
  },
  {
   "cell_type": "code",
   "execution_count": 56,
   "id": "cbe64689-ef14-4116-8834-fd44f6fd44aa",
   "metadata": {},
   "outputs": [],
   "source": [
    "bonus=SystemEng.cal_bonus(50000)"
   ]
  },
  {
   "cell_type": "code",
   "execution_count": 57,
   "id": "7dac405f-e4aa-4143-bb01-c2cc4b6b9a1d",
   "metadata": {},
   "outputs": [
    {
     "data": {
      "text/plain": [
       "250.0"
      ]
     },
     "execution_count": 57,
     "metadata": {},
     "output_type": "execute_result"
    }
   ],
   "source": [
    "bonus"
   ]
  },
  {
   "cell_type": "code",
   "execution_count": 58,
   "id": "e683fc5d-cb9f-4790-8436-7ac85ca02d55",
   "metadata": {},
   "outputs": [],
   "source": [
    "bonus=SystemEng.cal_bonus(100000)"
   ]
  },
  {
   "cell_type": "code",
   "execution_count": 59,
   "id": "75542d60-d10c-4764-8194-d586f897c761",
   "metadata": {},
   "outputs": [
    {
     "data": {
      "text/plain": [
       "500.0"
      ]
     },
     "execution_count": 59,
     "metadata": {},
     "output_type": "execute_result"
    }
   ],
   "source": [
    "bonus"
   ]
  },
  {
   "cell_type": "code",
   "execution_count": 52,
   "id": "b23d3e30-8599-4846-92f3-f291a616429e",
   "metadata": {},
   "outputs": [
    {
     "name": "stdout",
     "output_type": "stream",
     "text": [
      "Person ID is  10\n",
      "Person Name is  Pooja\n",
      "Person Salary is  50000\n",
      "Bonus amount is  2500.0\n",
      "Person ID is  30\n",
      "Person Name is  Jyoti\n",
      "Person Salary is  100000\n",
      "Bonus amount is  5000.0\n",
      "Person ID is  30\n",
      "Person Name is  Raj\n",
      "Person Salary is  200000\n",
      "Bonus amount is  10000.0\n"
     ]
    }
   ],
   "source": [
    "#Overriding\n",
    "class Employee:\n",
    "\tdef __init__(self,id,name,salary):\n",
    "\t\tself.id=id\n",
    "\t\tself.name=name\n",
    "\t\tself.salary=salary\n",
    "\tdef show(self):\n",
    "\t\tprint(\"Person ID is \",self.id)\n",
    "\t\tprint(\"Person Name is \",self.name)\n",
    "\t\tprint(\"Person Salary is \",self.salary)\n",
    "\tdef bonus(self):\n",
    "\t\tba=self.salary*5/100\n",
    "\t\tprint(\"Bonus amount is \",ba)\n",
    "\n",
    "class SysEngg(Employee):\n",
    "\tpass\n",
    "s=SysEngg(10,\"Pooja\",50000)\n",
    "s.show()\n",
    "s.bonus()\n",
    "\n",
    "class TeamLead(Employee):\n",
    "\tdef bonus(self):\n",
    "\t\tba=self.salary*10/100\n",
    "\t\tprint(\"Bonus amount is \",self.ba)\n",
    "s=SysEngg(30,\"Jyoti\",100000)\n",
    "s.show()\n",
    "s.bonus()\n",
    "\n",
    "class AccLead(Employee):\n",
    "\tdef bonus(self):\n",
    "\t\tba=self.salary*15/100\n",
    "\t\tprint(\"Bonus amount is \",self.ba)\n",
    "s=SysEngg(30,\"Raj\",200000)\n",
    "s.show()\n",
    "s.bonus()"
   ]
  },
  {
   "cell_type": "code",
   "execution_count": 67,
   "id": "d2c39a2c-266b-450b-a462-eb01e812ed01",
   "metadata": {},
   "outputs": [],
   "source": [
    "import math\n",
    "class Circle:\n",
    "    def __init__(self,radius):\n",
    "        self.radius=radius\n",
    "    def set_Radius(self,radius):\n",
    "        self.radius = radius\n",
    "    def get_Radius(self):\n",
    "        return self.radius\n",
    "    def calculateArea(self):\n",
    "        return math.pi*self.radius**2\n",
    "    def calculatePeri(self):\n",
    "        return 2*math.pi*self.radius"
   ]
  },
  {
   "cell_type": "code",
   "execution_count": 68,
   "id": "2a24d69d-3fa1-4408-bcaa-74ef0a1dfb71",
   "metadata": {},
   "outputs": [
    {
     "data": {
      "text/plain": [
       "314.16"
      ]
     },
     "execution_count": 68,
     "metadata": {},
     "output_type": "execute_result"
    }
   ],
   "source": [
    "round(Circle(10).calculateArea(),2)"
   ]
  },
  {
   "cell_type": "code",
   "execution_count": 69,
   "id": "f426d65c-1269-46a1-ab7c-d2b78552ace6",
   "metadata": {},
   "outputs": [
    {
     "data": {
      "text/plain": [
       "62.83"
      ]
     },
     "execution_count": 69,
     "metadata": {},
     "output_type": "execute_result"
    }
   ],
   "source": [
    "round(Circle(10).calculatePeri(),2)"
   ]
  },
  {
   "cell_type": "code",
   "execution_count": null,
   "id": "2b63c372-7425-4da7-8fe9-6d7208bb93b9",
   "metadata": {},
   "outputs": [],
   "source": []
  }
 ],
 "metadata": {
  "kernelspec": {
   "display_name": "Python 3 (ipykernel)",
   "language": "python",
   "name": "python3"
  },
  "language_info": {
   "codemirror_mode": {
    "name": "ipython",
    "version": 3
   },
   "file_extension": ".py",
   "mimetype": "text/x-python",
   "name": "python",
   "nbconvert_exporter": "python",
   "pygments_lexer": "ipython3",
   "version": "3.10.8"
  }
 },
 "nbformat": 4,
 "nbformat_minor": 5
}
