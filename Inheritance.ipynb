{
 "cells": [
  {
   "cell_type": "markdown",
   "id": "f52840b9-d10f-4895-bd32-90dd57789c78",
   "metadata": {},
   "source": [
    "# Polymorphism"
   ]
  },
  {
   "cell_type": "code",
   "execution_count": 34,
   "id": "009a68ad-8b5b-4309-8e7f-d10b788d7694",
   "metadata": {},
   "outputs": [],
   "source": [
    "def test_method(a,b):\n",
    "    return a+b"
   ]
  },
  {
   "cell_type": "code",
   "execution_count": 2,
   "id": "92647fc7-a3c4-4b76-a008-12f2c2441b3d",
   "metadata": {},
   "outputs": [
    {
     "data": {
      "text/plain": [
       "7"
      ]
     },
     "execution_count": 2,
     "metadata": {},
     "output_type": "execute_result"
    }
   ],
   "source": [
    "test_method(2,5)"
   ]
  },
  {
   "cell_type": "code",
   "execution_count": 3,
   "id": "7015512b-1567-4939-94e5-0d4907f8a3b6",
   "metadata": {},
   "outputs": [
    {
     "data": {
      "text/plain": [
       "'Pooja Singh'"
      ]
     },
     "execution_count": 3,
     "metadata": {},
     "output_type": "execute_result"
    }
   ],
   "source": [
    "test_method(\"Pooja \",\"Singh\")"
   ]
  },
  {
   "cell_type": "code",
   "execution_count": 27,
   "id": "2feaa349-55b3-4a7d-b3af-c887d172e192",
   "metadata": {},
   "outputs": [],
   "source": [
    "class test_class1:\n",
    "    def method1(self):\n",
    "        print(\"Hi, test_class1\")"
   ]
  },
  {
   "cell_type": "code",
   "execution_count": 28,
   "id": "8a04ba63-f575-4dfc-9dfd-c177be2768af",
   "metadata": {},
   "outputs": [],
   "source": [
    "class test_class2:\n",
    "    def method1(self):\n",
    "        print(\"Hi, test_class2\")"
   ]
  },
  {
   "cell_type": "code",
   "execution_count": 31,
   "id": "7bd43910-4c05-49d0-80a6-4a9d017eeae1",
   "metadata": {},
   "outputs": [],
   "source": [
    "def method3(class_obj):\n",
    "    for i in class_obj:\n",
    "        i.method1()"
   ]
  },
  {
   "cell_type": "code",
   "execution_count": 30,
   "id": "8fc8f9f2-a68f-4ced-98b9-7b16cbb53017",
   "metadata": {},
   "outputs": [],
   "source": [
    "class_obj1=test_class1()\n",
    "class_obj2=test_class2()\n",
    "class_obj=[class_obj1,class_obj2]"
   ]
  },
  {
   "cell_type": "code",
   "execution_count": 33,
   "id": "b524d9b5-02a2-4271-8e26-11786eb067ed",
   "metadata": {},
   "outputs": [
    {
     "name": "stdout",
     "output_type": "stream",
     "text": [
      "Hi, test_class1\n",
      "Hi, test_class2\n"
     ]
    }
   ],
   "source": [
    "method3(class_obj)"
   ]
  },
  {
   "cell_type": "markdown",
   "id": "aa22812f-94d4-4125-a61f-17dd850e80cb",
   "metadata": {},
   "source": [
    "# Encapsulation"
   ]
  },
  {
   "cell_type": "code",
   "execution_count": 47,
   "id": "20775a43-1318-4626-80ee-040318e35f5d",
   "metadata": {},
   "outputs": [],
   "source": [
    "class test_1:\n",
    "    def __init__(self,a,b):\n",
    "        self.a=a\n",
    "        self.b=b"
   ]
  },
  {
   "cell_type": "code",
   "execution_count": 43,
   "id": "62f8f3ba-eef0-4a62-9ce9-1b8b36fbfff3",
   "metadata": {},
   "outputs": [
    {
     "data": {
      "text/plain": [
       "7"
      ]
     },
     "execution_count": 43,
     "metadata": {},
     "output_type": "execute_result"
    }
   ],
   "source": [
    "test(2,5)"
   ]
  },
  {
   "cell_type": "code",
   "execution_count": 48,
   "id": "9db5d4ec-404c-4d07-bea7-b1e41ee4f01e",
   "metadata": {},
   "outputs": [],
   "source": [
    "test_1.a=10"
   ]
  },
  {
   "cell_type": "code",
   "execution_count": 49,
   "id": "5cb9ec4a-25bb-4ffd-8687-494ca71a464b",
   "metadata": {},
   "outputs": [
    {
     "data": {
      "text/plain": [
       "10"
      ]
     },
     "execution_count": 49,
     "metadata": {},
     "output_type": "execute_result"
    }
   ],
   "source": [
    "test_1.a"
   ]
  },
  {
   "cell_type": "code",
   "execution_count": 50,
   "id": "dbab5926-3b35-4ed6-b26b-7f6b62b72fee",
   "metadata": {},
   "outputs": [],
   "source": [
    "test_1.a=20"
   ]
  },
  {
   "cell_type": "code",
   "execution_count": 51,
   "id": "68d5827e-86b7-49e1-8ed8-4ee264a75e78",
   "metadata": {},
   "outputs": [
    {
     "data": {
      "text/plain": [
       "20"
      ]
     },
     "execution_count": 51,
     "metadata": {},
     "output_type": "execute_result"
    }
   ],
   "source": [
    "test_1.a"
   ]
  },
  {
   "cell_type": "code",
   "execution_count": 62,
   "id": "b745dadd-64a6-41c2-93ca-6b3de76c45db",
   "metadata": {},
   "outputs": [],
   "source": [
    "class test_1:\n",
    "    def __init__(self,alp,blp):\n",
    "        self.__alp=alp\n",
    "        self.__blp=blp"
   ]
  },
  {
   "cell_type": "code",
   "execution_count": 63,
   "id": "a403021a-1af7-4278-8334-8bfcdf6cf771",
   "metadata": {},
   "outputs": [],
   "source": [
    "t=test_1(1,2)"
   ]
  },
  {
   "cell_type": "code",
   "execution_count": 59,
   "id": "975a9b44-2d4e-451e-853d-40d36f9c5e37",
   "metadata": {},
   "outputs": [],
   "source": [
    "t.alp=10"
   ]
  },
  {
   "cell_type": "code",
   "execution_count": 64,
   "id": "8e55a34f-aea6-4d39-add4-02030bb65590",
   "metadata": {},
   "outputs": [
    {
     "ename": "AttributeError",
     "evalue": "'test_1' object has no attribute 'alp'",
     "output_type": "error",
     "traceback": [
      "\u001b[0;31m---------------------------------------------------------------------------\u001b[0m",
      "\u001b[0;31mAttributeError\u001b[0m                            Traceback (most recent call last)",
      "Cell \u001b[0;32mIn[64], line 1\u001b[0m\n\u001b[0;32m----> 1\u001b[0m \u001b[43mt\u001b[49m\u001b[38;5;241;43m.\u001b[39;49m\u001b[43malp\u001b[49m\n",
      "\u001b[0;31mAttributeError\u001b[0m: 'test_1' object has no attribute 'alp'"
     ]
    }
   ],
   "source": [
    "t.alp"
   ]
  },
  {
   "cell_type": "code",
   "execution_count": 67,
   "id": "e423e8ce-7e02-471a-8167-1686c1cee677",
   "metadata": {},
   "outputs": [],
   "source": [
    "class car:\n",
    "    def __init__(self,year,model,name):\n",
    "        self.__year=year\n",
    "        self.__model=model\n",
    "        self.__name=name\n",
    "        "
   ]
  },
  {
   "cell_type": "code",
   "execution_count": 68,
   "id": "91c2c753-eb4c-4b92-bfcf-0b6a11f998be",
   "metadata": {},
   "outputs": [],
   "source": [
    "c=car(2021,\"toyota\",'Mini')"
   ]
  },
  {
   "cell_type": "code",
   "execution_count": 71,
   "id": "4a7a0e00-f6f9-4d96-8332-fd44b60974ad",
   "metadata": {},
   "outputs": [
    {
     "data": {
      "text/plain": [
       "2021"
      ]
     },
     "execution_count": 71,
     "metadata": {},
     "output_type": "execute_result"
    }
   ],
   "source": [
    "c._car__year"
   ]
  },
  {
   "cell_type": "code",
   "execution_count": 72,
   "id": "267e3375-21ed-4f25-95f5-b9aeeeb6221f",
   "metadata": {},
   "outputs": [],
   "source": [
    "c._car__year=2023"
   ]
  },
  {
   "cell_type": "code",
   "execution_count": 73,
   "id": "03f760ee-072e-496c-b3fd-eefbeed68073",
   "metadata": {},
   "outputs": [
    {
     "data": {
      "text/plain": [
       "2023"
      ]
     },
     "execution_count": 73,
     "metadata": {},
     "output_type": "execute_result"
    }
   ],
   "source": [
    "c._car__year"
   ]
  },
  {
   "cell_type": "code",
   "execution_count": 92,
   "id": "43524a5d-3b66-4c74-8afe-a57d9f4a41f3",
   "metadata": {},
   "outputs": [],
   "source": [
    "class car:\n",
    "    def __init__(self,year,model,name):\n",
    "        self.__year=year\n",
    "        self.__model=model\n",
    "        self.__name=name\n",
    "    def set_year(self,year):\n",
    "        self.__year=2028\n",
    "    def get_year(self):\n",
    "        #self.__year=2030\n",
    "        return self.__year"
   ]
  },
  {
   "cell_type": "code",
   "execution_count": 93,
   "id": "b908ee50-3680-4111-bb5d-d8b5d9b49d0e",
   "metadata": {},
   "outputs": [],
   "source": [
    "cr=car(2020,\"A\",\"B\")"
   ]
  },
  {
   "cell_type": "code",
   "execution_count": 94,
   "id": "22cc612b-ca9b-4468-92e1-668a8f453858",
   "metadata": {},
   "outputs": [
    {
     "data": {
      "text/plain": [
       "2020"
      ]
     },
     "execution_count": 94,
     "metadata": {},
     "output_type": "execute_result"
    }
   ],
   "source": [
    "cr.get_year()"
   ]
  },
  {
   "cell_type": "code",
   "execution_count": 95,
   "id": "6a0811b5-7226-4d22-8d6b-254df155b47c",
   "metadata": {},
   "outputs": [],
   "source": [
    "cr.set_year(2056)"
   ]
  },
  {
   "cell_type": "code",
   "execution_count": 96,
   "id": "23d320f0-9068-474f-afc9-3d5608efb184",
   "metadata": {},
   "outputs": [
    {
     "data": {
      "text/plain": [
       "2028"
      ]
     },
     "execution_count": 96,
     "metadata": {},
     "output_type": "execute_result"
    }
   ],
   "source": [
    "cr.get_year()"
   ]
  },
  {
   "cell_type": "code",
   "execution_count": 97,
   "id": "5c64ad6e-cb16-4723-8dfd-c9374952ac7c",
   "metadata": {},
   "outputs": [],
   "source": [
    "class Bank:\n",
    "    def __init__(self,balance):\n",
    "        self.__balance=balance\n",
    "    def deposit(self,balance):\n",
    "        self.__balance=self.__balance+balance\n",
    "    def withdraw(self,incash):\n",
    "        self.__incash=self.__balance-incash\n",
    "        return self.__incash"
   ]
  },
  {
   "cell_type": "code",
   "execution_count": 98,
   "id": "4b9d0aa9-8b4e-4353-af11-e9fcd4592d22",
   "metadata": {},
   "outputs": [],
   "source": [
    "ban=Bank(1000)"
   ]
  },
  {
   "cell_type": "code",
   "execution_count": 99,
   "id": "e1d5b39a-d99b-4d01-8565-b5c339c8bf8f",
   "metadata": {},
   "outputs": [],
   "source": [
    "ban.deposit(1000)"
   ]
  },
  {
   "cell_type": "code",
   "execution_count": 100,
   "id": "3b08c154-1b81-4683-88d8-2d372ae4bdde",
   "metadata": {},
   "outputs": [
    {
     "data": {
      "text/plain": [
       "1500"
      ]
     },
     "execution_count": 100,
     "metadata": {},
     "output_type": "execute_result"
    }
   ],
   "source": [
    "ban.withdraw(500)"
   ]
  },
  {
   "cell_type": "code",
   "execution_count": 101,
   "id": "8ccc28ca-3778-46b5-ba16-e9710407255a",
   "metadata": {},
   "outputs": [
    {
     "data": {
      "text/plain": [
       "1400"
      ]
     },
     "execution_count": 101,
     "metadata": {},
     "output_type": "execute_result"
    }
   ],
   "source": [
    "ban.withdraw(600)"
   ]
  },
  {
   "cell_type": "code",
   "execution_count": 102,
   "id": "deaf68d6-2c7b-411c-9e30-aa2bdf43fac8",
   "metadata": {},
   "outputs": [],
   "source": [
    "class Bank:\n",
    "    def __init__(self,balance):\n",
    "        self.__balance=balance\n",
    "    def show_balance(self):\n",
    "        return self.__balance\n",
    "    def deposit(self,add_balance):\n",
    "        self.__balance=self.__balance+add_balance\n",
    "        return self.__balance\n",
    "    def withdraw(self,incash):\n",
    "        self.__balance=self.__balance-incash\n",
    "        return self.__balance"
   ]
  },
  {
   "cell_type": "code",
   "execution_count": 105,
   "id": "f687b41a-2bda-47d6-8c8b-498a8f1065e4",
   "metadata": {},
   "outputs": [],
   "source": [
    "ban=Bank(1000)"
   ]
  },
  {
   "cell_type": "code",
   "execution_count": 106,
   "id": "7e6d1def-8bb9-4aa7-9ce8-5fca28ba6dc3",
   "metadata": {},
   "outputs": [
    {
     "data": {
      "text/plain": [
       "1000"
      ]
     },
     "execution_count": 106,
     "metadata": {},
     "output_type": "execute_result"
    }
   ],
   "source": [
    "ban.show_balance()"
   ]
  },
  {
   "cell_type": "code",
   "execution_count": 107,
   "id": "769a4f1d-264d-4eb9-97af-44fb32cafe98",
   "metadata": {},
   "outputs": [
    {
     "data": {
      "text/plain": [
       "400"
      ]
     },
     "execution_count": 107,
     "metadata": {},
     "output_type": "execute_result"
    }
   ],
   "source": [
    "ban.withdraw(600)"
   ]
  },
  {
   "cell_type": "code",
   "execution_count": 108,
   "id": "ef645ce6-fc23-424c-b224-3368b00a34d6",
   "metadata": {},
   "outputs": [
    {
     "data": {
      "text/plain": [
       "1200"
      ]
     },
     "execution_count": 108,
     "metadata": {},
     "output_type": "execute_result"
    }
   ],
   "source": [
    "ban.deposit(800)"
   ]
  },
  {
   "cell_type": "code",
   "execution_count": 109,
   "id": "6c455810-8c47-4730-a654-1d0a024c7a6f",
   "metadata": {},
   "outputs": [
    {
     "data": {
      "text/plain": [
       "1200"
      ]
     },
     "execution_count": 109,
     "metadata": {},
     "output_type": "execute_result"
    }
   ],
   "source": [
    "ban.show_balance()"
   ]
  },
  {
   "cell_type": "code",
   "execution_count": 113,
   "id": "78a86b86-50ae-402e-ae29-1ccdf20c27dc",
   "metadata": {},
   "outputs": [
    {
     "ename": "SyntaxError",
     "evalue": "invalid syntax (23169317.py, line 19)",
     "output_type": "error",
     "traceback": [
      "\u001b[0;36m  Cell \u001b[0;32mIn[113], line 19\u001b[0;36m\u001b[0m\n\u001b[0;31m    bnk.deposit(addmoney)\u001b[0m\n\u001b[0m    ^\u001b[0m\n\u001b[0;31mSyntaxError\u001b[0m\u001b[0;31m:\u001b[0m invalid syntax\n"
     ]
    }
   ],
   "source": [
    "class Bank:\n",
    "    def __init__(self,balance):\n",
    "        self.__balance=balance\n",
    "    def show_balance(self):\n",
    "        return self.__balance\n",
    "    def deposit(self,add_balance):\n",
    "        self.__balance=self.__balance+add_balance\n",
    "        return self.__balance\n",
    "    def withdraw(self,incash):\n",
    "        self.__balance=self.__balance-incash\n",
    "        return self.__balance\n",
    "print(\"Enter some amount to your account : \")\n",
    "m=rount(float(input()),2)\n",
    "bnk=Bank(m)\n",
    "res=int(input(\"Please choose an action to perform 1.Show balace 2.deposit 3.Withdraw 4.Menu 5.Exit\"))\n",
    "match res:\n",
    "    case 1:show_balance()\n",
    "    case 2:addmoney=round(float(input(\"How much you want to deposite: \")))\n",
    "    bnk.deposit(addmoney)\n",
    "    case 3:withdrawmoney=round(float(input(\"How much you want to deposite: \")))\n",
    "    bnk.withdraw(withdrawmoney)\n",
    "    case 4:res=int(input(\"Please choose an action to perform 1.Show balace 2.deposit 3.Withdraw 4.Exit\"))\n",
    "    case 5:break\n",
    "    case _:res=int(input(\"Please choose an action to perform 1.Show balace 2.deposit 3.Withdraw 4.Exit\"))"
   ]
  },
  {
   "cell_type": "code",
   "execution_count": 127,
   "id": "34502f83-2fc1-4659-ad3c-85adc2281c77",
   "metadata": {},
   "outputs": [
    {
     "name": "stdout",
     "output_type": "stream",
     "text": [
      "Enter some amount to your account : \n"
     ]
    },
    {
     "name": "stdin",
     "output_type": "stream",
     "text": [
      " 1000\n",
      "How much you want to deposite:  600\n"
     ]
    },
    {
     "name": "stdout",
     "output_type": "stream",
     "text": [
      "2200.0 has been deposited to your account \n",
      " you now have 2200.0 in your account\n"
     ]
    },
    {
     "name": "stdin",
     "output_type": "stream",
     "text": [
      "How much you want to withdraw:  500\n"
     ]
    },
    {
     "name": "stdout",
     "output_type": "stream",
     "text": [
      "500 has been withdrawn \n",
      " you now have 1700.0 in your account\n"
     ]
    }
   ],
   "source": [
    "class Bank:\n",
    "    def __init__(self,balance):\n",
    "        self.__balance=balance\n",
    "    def show_balance(self):\n",
    "        return self.__balance\n",
    "    def deposit(self,add_balance):\n",
    "        self.__balance=self.__balance+add_balance\n",
    "        return self.__balance\n",
    "    def withdraw(self,incash):\n",
    "        self.__balance=self.__balance-incash\n",
    "        return self.__balance\n",
    "print(\"Enter some amount to your account : \")\n",
    "m=round(float(input()),2)\n",
    "bnk=Bank(m)\n",
    "bnk.show_balance()\n",
    "addmoney=round(float(input(\"How much you want to deposite: \")))\n",
    "bnk.deposit(addmoney)\n",
    "print(f\"{bnk.deposit(addmoney)} has been deposited to your account \\n you now have {bnk.show_balance()} in your account\")\n",
    "withdrawmoney=round(float(input(\"How much you want to withdraw: \")))\n",
    "print(f'{withdrawmoney} has been withdrawn \\n you now have {bnk.withdraw(withdrawmoney)} in your account')"
   ]
  },
  {
   "cell_type": "code",
   "execution_count": 124,
   "id": "a586c6d3-a5aa-4260-832c-0de2ba873e9d",
   "metadata": {},
   "outputs": [
    {
     "name": "stdout",
     "output_type": "stream",
     "text": [
      " 10 has been deposited to your account \n",
      " you now have 20 in your account\n"
     ]
    }
   ],
   "source": [
    "a=10\n",
    "b=20\n",
    "print(f\" {a} has been deposited to your account \\n you now have {b} in your account\")"
   ]
  },
  {
   "cell_type": "markdown",
   "id": "dcb009be-d8aa-49bf-9f3e-ee9992afdbe6",
   "metadata": {},
   "source": [
    "# Create a vehicle class with an init method having instance variables as name_of_vehicle, max_speed and average_of_vehicle."
   ]
  },
  {
   "cell_type": "code",
   "execution_count": 129,
   "id": "e47bdb53-fb9b-4f0f-b2bb-e7e7463e4ac2",
   "metadata": {},
   "outputs": [
    {
     "data": {
      "text/plain": [
       "800"
      ]
     },
     "execution_count": 129,
     "metadata": {},
     "output_type": "execute_result"
    }
   ],
   "source": [
    "class Car:\n",
    "    def __init__(self,name_of_vehicle,max_speed,average_of_vehicle):\n",
    "        self.__average_of_vehicle=average_of_vehicle\n",
    "        self.name_of_vehicle=name_of_vehicle\n",
    "        self.__max_speed=max_speed\n",
    "    def set_average_of_vehicle(self,average_of_vehicle):\n",
    "        self.__average_of_vehicle=average_of_vehicle\n",
    "    def get_average_of_vehicle(self):\n",
    "        #self.__year=2030\n",
    "        return self.__average_of_vehicle\n",
    "cr=Car(\"Toyota\",400,500)\n",
    "cr.set_average_of_vehicle(800)\n",
    "cr.get_average_of_vehicle()"
   ]
  },
  {
   "cell_type": "markdown",
   "id": "b1d8aa9a-6db7-4706-af85-846edd9ca590",
   "metadata": {},
   "source": [
    "### Create a child class car from the vehicle class created in Que 1, which will inherit the vehicle class.\n",
    "### Create a method named seating_capacity which takes capacity as an argument and returns the name of\n",
    "### the vehicle and its seating capacity."
   ]
  },
  {
   "cell_type": "code",
   "execution_count": 6,
   "id": "3cb3c93f-5975-4189-9e22-517a8080aa45",
   "metadata": {},
   "outputs": [
    {
     "name": "stdin",
     "output_type": "stream",
     "text": [
      "Enter car capacity :  12\n"
     ]
    },
    {
     "name": "stdout",
     "output_type": "stream",
     "text": [
      "The seating capacity of a Sedan is 12 passengers\n"
     ]
    }
   ],
   "source": [
    "class Vehicle:\n",
    "    def __init__(self, name, max_speed, mileage):\n",
    "        self.name = name\n",
    "        self.max_speed = max_speed\n",
    "        self.mileage = mileage\n",
    "\n",
    "    def seating_capacity(self, capacity):\n",
    "        return f\"The seating capacity of a {self.name} is {capacity} passengers\"\n",
    "\n",
    "class Car(Vehicle):\n",
    "    # assign default value to capacity\n",
    "    def seating_capacity(self, capacity):\n",
    "        return super().seating_capacity(capacity)\n",
    "cp=int(input(\"Enter car capacity : \"))\n",
    "cr = Car(\"Sedan\", 180, cp)\n",
    "print(cr.seating_capacity(cp))"
   ]
  },
  {
   "cell_type": "markdown",
   "id": "1dd87d03-6bc6-4b5b-a53b-0238a90d3de0",
   "metadata": {},
   "source": [
    "# What is multiple inheritance? Write a python code to demonstrate multiple inheritance."
   ]
  },
  {
   "cell_type": "code",
   "execution_count": 55,
   "id": "21521974-ae32-489d-aed8-6830f5303288",
   "metadata": {},
   "outputs": [
    {
     "name": "stdout",
     "output_type": "stream",
     "text": [
      "Booking from Indigo is confirmed, Ticket Price is 100\n",
      "Cancelation from A is confirmed, refund is 0.0\n"
     ]
    }
   ],
   "source": [
    "class Indigo:\n",
    "    def __init__(self,price):\n",
    "        self.price=price\n",
    "    def book(self,price):\n",
    "        print(f\"Booking from Indigo is confirmed, Ticket Price is {self.price}\")\n",
    "class AirIndia:\n",
    "    def __init__(self,name,price):\n",
    "        pass\n",
    "    def cancel(self,name,price):\n",
    "        cancelation_charge=self.price-((self.price/100)*100)\n",
    "        print(f\"Cancelation from {name} is confirmed, refund is {cancelation_charge}\") \n",
    "class BookFlight(Indigo,AirIndia):\n",
    "    pass\n",
    "\n",
    "if __name__ == '__main__':\n",
    "    fc = BookFlight(100)\n",
    "    fc.book(4000)\n",
    "    fc.cancel(\"A\",4000)"
   ]
  },
  {
   "cell_type": "code",
   "execution_count": 58,
   "id": "b1cd6030-3a9a-4d71-90c0-5d39266c77b5",
   "metadata": {},
   "outputs": [
    {
     "name": "stdout",
     "output_type": "stream",
     "text": [
      "Going\n",
      "Flying\n"
     ]
    }
   ],
   "source": [
    "class Car:\n",
    "    def go(self):\n",
    "        print('Going')\n",
    "class Flyable:\n",
    "    def fly(self):\n",
    "        print('Flying')\n",
    "class FlyingCar(Flyable, Car):\n",
    "    pass\n",
    "if __name__ == '__main__':\n",
    "    fc = FlyingCar()\n",
    "    fc.go()\n",
    "    fc.fly()"
   ]
  },
  {
   "cell_type": "markdown",
   "id": "d65f5c70-38cb-4e7e-910a-0e9a4f1221b4",
   "metadata": {},
   "source": [
    "# What are getter and setter in python? Create a class and create a getter and a setter method in this class."
   ]
  },
  {
   "cell_type": "markdown",
   "id": "3c2b3225-05a2-46ae-ad32-15f3e87f3bb1",
   "metadata": {},
   "source": [
    "# A getter method is actually an Accessor Method that returns the value of an instance variable. While a Setter method is also called a Mutator method. It is used to set the value of an instance variable in a Python class."
   ]
  },
  {
   "cell_type": "code",
   "execution_count": 83,
   "id": "0920da96-2546-43cb-9d5b-929ad5778133",
   "metadata": {},
   "outputs": [
    {
     "name": "stdout",
     "output_type": "stream",
     "text": [
      "First Iteration: \n",
      "Radius of circle is:  2  \n",
      "Area of circle is:  12.57  \n",
      "Perimeter of Circle is:  12.57\n",
      "\n",
      "\n",
      "\n",
      "Second Iteration: \n",
      "Radius of circle is:  5  \n",
      "Area of circle is:  78.54  \n",
      "Perimeter of Circle is:  31.42\n"
     ]
    }
   ],
   "source": [
    "import math\n",
    "class Circle:\n",
    "    def __init__(self,radius):\n",
    "        self.radius=radius\n",
    "    def set_Radius(self,radius):\n",
    "        self.radius = radius\n",
    "    def get_Radius(self):\n",
    "        return self.radius\n",
    "    def calculateArea(self):\n",
    "        return math.pi*self.radius**2\n",
    "    def calculatePeri(self):\n",
    "        return 2*math.pi*self.radius\n",
    "\n",
    "def main():\n",
    "    print(\"First Iteration: \")\n",
    "    c=Circle(2)\n",
    "    area=c.calculateArea()\n",
    "    per=c.calculatePeri()\n",
    "    val=c.get_Radius()\n",
    "    print(\"Radius of circle is: \",round(val,2),\" \\nArea of circle is: \",round(area,2),\" \\nPerimeter of Circle is: \",round(per,2))\n",
    "    print(\"\\n\\n\\nSecond Iteration: \")\n",
    "    r=c.set_Radius(5)\n",
    "    area=c.calculateArea()\n",
    "    per=c.calculatePeri()\n",
    "    val=c.get_Radius()\n",
    "    print(\"Radius of circle is: \",round(val,2),\" \\nArea of circle is: \",round(area,2),\" \\nPerimeter of Circle is: \",round(per,2))\n",
    "main()"
   ]
  },
  {
   "cell_type": "code",
   "execution_count": null,
   "id": "21eec703-f2f2-4c3a-8a6f-a575d707eac2",
   "metadata": {},
   "outputs": [],
   "source": [
    "class Employee:\n",
    "    def message(self):\n",
    "        print('This message is from Employee ')\n",
    "class Department(Employee):\n",
    "    def message(self):\n",
    "        print('This Department inherited from Employee')\n",
    "class Sales(Employee):\n",
    "    def message(self):\n",
    "        print('This Sales is also inherited from Employee')\n",
    "         \n",
    "emp = Employee()\n",
    "emp.message()\n",
    "  \n",
    "print('------------')\n",
    "dept = Department()\n",
    "dept.message()\n",
    " \n",
    "\n",
    "print('------------')\n",
    "sl = Sales()\n",
    "sl.message()"
   ]
  },
  {
   "cell_type": "code",
   "execution_count": null,
   "id": "9a7b3951-042f-483f-a772-19fbb628ca54",
   "metadata": {},
   "outputs": [],
   "source": []
  },
  {
   "cell_type": "code",
   "execution_count": null,
   "id": "8b7a536f-96c9-4cc2-9687-730863d9290e",
   "metadata": {},
   "outputs": [],
   "source": []
  },
  {
   "cell_type": "code",
   "execution_count": null,
   "id": "c076c70e-a615-4579-8c8a-3950e005a61a",
   "metadata": {},
   "outputs": [],
   "source": []
  },
  {
   "cell_type": "code",
   "execution_count": null,
   "id": "86a5dc5b-a117-4277-9350-4a8c33b3aa96",
   "metadata": {},
   "outputs": [],
   "source": []
  },
  {
   "cell_type": "code",
   "execution_count": null,
   "id": "0ce1c6de-7c01-4925-9231-fbf2ffd800e6",
   "metadata": {},
   "outputs": [],
   "source": []
  },
  {
   "cell_type": "code",
   "execution_count": null,
   "id": "fb9ea880-1656-4320-9dff-55e61cce25c1",
   "metadata": {},
   "outputs": [],
   "source": []
  },
  {
   "cell_type": "code",
   "execution_count": null,
   "id": "50018975-4ac0-4e30-9a56-1b03fccbef34",
   "metadata": {},
   "outputs": [],
   "source": []
  },
  {
   "cell_type": "code",
   "execution_count": null,
   "id": "87d18b30-7b1f-4e9a-80bb-6db8ceecaa66",
   "metadata": {},
   "outputs": [],
   "source": []
  },
  {
   "cell_type": "code",
   "execution_count": null,
   "id": "ea03a310-3a14-427e-8fe0-cefe13ded9a4",
   "metadata": {},
   "outputs": [],
   "source": []
  },
  {
   "cell_type": "code",
   "execution_count": null,
   "id": "e230c70c-1d76-4036-b8b8-0b3d4d0a86cc",
   "metadata": {},
   "outputs": [],
   "source": []
  },
  {
   "cell_type": "code",
   "execution_count": null,
   "id": "91f6dccf-64e2-4db8-b6d9-8b1d89d4f1f5",
   "metadata": {},
   "outputs": [],
   "source": []
  },
  {
   "cell_type": "code",
   "execution_count": null,
   "id": "48beef04-d80b-44e2-bd24-4b7c94da2604",
   "metadata": {},
   "outputs": [],
   "source": []
  },
  {
   "cell_type": "code",
   "execution_count": null,
   "id": "196b11d0-d194-4dd5-a282-feb5c2df679f",
   "metadata": {},
   "outputs": [],
   "source": []
  },
  {
   "cell_type": "code",
   "execution_count": null,
   "id": "f3bd2ac8-d9aa-4279-8692-90ac19a1f18a",
   "metadata": {},
   "outputs": [],
   "source": []
  },
  {
   "cell_type": "code",
   "execution_count": null,
   "id": "62bfce56-d127-4fd7-b47c-72ae623c4871",
   "metadata": {},
   "outputs": [],
   "source": []
  },
  {
   "cell_type": "code",
   "execution_count": null,
   "id": "9a5053d1-8bb0-4493-b6af-7d35289fc4c5",
   "metadata": {},
   "outputs": [],
   "source": []
  },
  {
   "cell_type": "code",
   "execution_count": null,
   "id": "4d07bc5a-d1bd-4fe5-af62-be415640b6a3",
   "metadata": {},
   "outputs": [],
   "source": []
  },
  {
   "cell_type": "code",
   "execution_count": null,
   "id": "f84dbb40-4335-4e44-bad7-e0b28b8ae10c",
   "metadata": {},
   "outputs": [],
   "source": []
  },
  {
   "cell_type": "code",
   "execution_count": null,
   "id": "4e716303-7f38-42e6-9a7a-e113605b7436",
   "metadata": {},
   "outputs": [],
   "source": []
  }
 ],
 "metadata": {
  "kernelspec": {
   "display_name": "Python 3 (ipykernel)",
   "language": "python",
   "name": "python3"
  },
  "language_info": {
   "codemirror_mode": {
    "name": "ipython",
    "version": 3
   },
   "file_extension": ".py",
   "mimetype": "text/x-python",
   "name": "python",
   "nbconvert_exporter": "python",
   "pygments_lexer": "ipython3",
   "version": "3.10.8"
  }
 },
 "nbformat": 4,
 "nbformat_minor": 5
}
