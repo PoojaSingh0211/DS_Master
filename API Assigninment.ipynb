{
 "cells": [
  {
   "cell_type": "code",
   "execution_count": 4,
   "id": "603035e7-6e9e-4020-9a56-8c180d6d1129",
   "metadata": {},
   "outputs": [],
   "source": [
    "# API\n",
    "# 1.a set of functions and procedures allowing the creation of applications that access the features or data of an operating system, application, \n",
    "# or other service."
   ]
  },
  {
   "cell_type": "code",
   "execution_count": 3,
   "id": "6ff44cc2-a681-409e-9a43-46993f75d232",
   "metadata": {},
   "outputs": [],
   "source": [
    "# Differentiating between SOAP API and REST API\n",
    "# SOAP API                                                         # REST API\n",
    "\n",
    "# Relies on SOAP (Simple Object Access Protocol)\t               Relies on REST (Representational State Transfer) architecture using HTTP.\n",
    "# Transports data in standard XML format.\t                       Generally transports data in JSON. It is based on URI. Because REST follows stateless model, REST does not enforces message format as XML or JSON etc.\n",
    "# Because it is XML based and relies on SOAP, it works with WSDL\tIt works with GET, POST, PUT, DELETE\n",
    "# Works over HTTP, HTTPS, SMTP, XMPP\t                            Works over HTTP and HTTPS\n",
    "# Highly structured/typed\t                                         Less structured -> less bulky data\n",
    "# Designed with large enterprise applications in mind\t             Designed with mobile devices in mind\n",
    " \t "
   ]
  },
  {
   "cell_type": "code",
   "execution_count": 5,
   "id": "8bc48699-236b-4f6e-8357-353d6e0654fd",
   "metadata": {},
   "outputs": [
    {
     "ename": "SyntaxError",
     "evalue": "invalid character '’' (U+2019) (1036791735.py, line 4)",
     "output_type": "error",
     "traceback": [
      "\u001b[0;36m  Cell \u001b[0;32mIn[5], line 4\u001b[0;36m\u001b[0m\n\u001b[0;31m    APIs provides product or service to communicate with other products and services without having to know how they’re implemented.\u001b[0m\n\u001b[0m                                                                                                                    ^\u001b[0m\n\u001b[0;31mSyntaxError\u001b[0m\u001b[0;31m:\u001b[0m invalid character '’' (U+2019)\n"
     ]
    }
   ],
   "source": [
    "What is an API?\n",
    "API is the acronym for Application Programming Interface. It is a software interface that allows two applications to interact with each other without any user intervention.\n",
    "\n",
    "APIs provides product or service to communicate with other products and services without having to know how they’re implemented.\n",
    "\n",
    "What is a Web Service?\n",
    "A Web service is a collection of open protocols and standards which are widely used for exchanging data between systems or applications.\n",
    "\n",
    "Software applications are written using various programming languages and running on multiple platforms. It allows you to use web services to exchange data over computer networks.\n",
    "\n",
    "Types of Web Services\n",
    "Web services should be implemented in various ways. The two types of widely used web services are SOAP and RESTful web services.\n",
    "\n",
    "SOAP – SOAP is a protocol which was designed before REST came into the picture. The main idea behind creating SOAP was to ensure that programs built on different platforms and programming languages could securely exchange data.\n",
    "\n",
    "\n",
    "REST – This was designed specifically for working with components such as media components, files, or even objects on a particular hardware device. Any web service which is defined on the principles of REST can be called a RESTful web service. REST uses the normal HTTP verbs of GET, POST, PUT and DELETE for working with the required components.\n",
    "Features of Web API\n",
    "Here are some essential features of API:\n",
    "\n",
    "Efficiency\n",
    "Wider reach\n",
    "Customizable\n",
    "Personalization\n",
    "Data ownership\n",
    "Easy integration with GUI\n",
    "Time effective\n",
    "Language-independent\n",
    "Features of Web Services\n",
    "Here are some essential features of web services:\n",
    "\n",
    "Loosely coupled\n",
    "Synchronous or asynchronous functionality\n",
    "Ability to support remote procedure calls\n",
    "Supports document exchange\n",
    "\n",
    "Differences between Web Services and API\n",
    "Here are important differences between Web services and API.\n",
    "\n",
    "Web Serviced\tAPI\n",
    "All web services are APIs.\tAll APIs are not web services.\n",
    "It supports XML.\tResponses are formatted using Web API’s MediaTypeFormatter into XML, JSON, or any other given format.\n",
    "You need a SOAP protocol to send or receive and data over the network. Therefore it does not have light-weight architecture.\tAPI has a light-weight architecture.\n",
    "It can be used by any client who understands XML.\tIt can be used by a client who understands JSON or XML.\n",
    "Web service uses three styles: REST, SOAP, and XML-RPC for communication.\tAPI can be used for any style of communication.\n",
    "It provides supports only for the HTTP protocol.\tIt provides support for the HTTP/s protocol: URL Request/Response Headers, etc.\n",
    "Advantages of API Services\n",
    "Here are pros/benefits of using API:\n",
    "\n",
    "API supports traditional CRUD (Create Read Update Delete) actions as it works with HTTP verbs GET, PUT, POST, and DELETE.\n",
    "API helps you to expose service data to the browser\n",
    "It is based on HTTP, which is easy to define, expose in REST-full way.\n",
    "Advantages of Web Services\n",
    "Here are the important pros/benefits of using web services:\n",
    "\n",
    "Offers faster communications within and across organizations\n",
    "Each service exists independently of other services.\n",
    "Interoperability has the highest priority.\n",
    "Using Web services, your application helps you to publish its message or function to the rest of the world.\n",
    "Web services help solve interoperability issues by giving different applications a way to link their data.\n",
    "Web services help you to exchange data between different applications and different platforms.\n",
    "It allows applications to communicate, exchange data, and shared services among themselves.\n",
    "Web services are specifically designed to be used as a web page request and help you to receive data.\n",
    "It serves as building blocks which makes it easy to reuse web service components in other services. Web Services are deployed on internet standards such as standard Apache, and Axis2. It provides WSDL, HTTP, driven services.\n",
    "Disadvantages of API\n",
    "Here are important drawbacks/cons of using API services:\n",
    "\n",
    "Creating API is a very time-consuming process\n",
    "A fixed scale is necessary\n",
    "Imprecise boundary delineation\n",
    "To create API, programming knowledge is necessary\n",
    "Maintenance cost is very high\n",
    "It can crash when testing API\n",
    "Disadvantages of Web Services\n",
    "Drawbacks/cons of using Web services:\n",
    "\n",
    "It does not access from browser\n",
    "Not leverage emerging Web developments (Semantic Web, AJAX XMLHttpRequest, etc.)\n",
    "Some web services are simple to use, but there are some flaws of using it.\n",
    "Any time one creates a service to handle a variety of customers, there is a demand for specialized machine requirements.\n",
    "The HTTP protocol is not reliable, so it does not offer any guarantee of delivery of the response.\n"
   ]
  },
  {
   "cell_type": "code",
   "execution_count": null,
   "id": "b65528fb-a8eb-42a8-a6a7-20f2dfb00cbd",
   "metadata": {},
   "outputs": [],
   "source": []
  }
 ],
 "metadata": {
  "kernelspec": {
   "display_name": "Python 3 (ipykernel)",
   "language": "python",
   "name": "python3"
  },
  "language_info": {
   "codemirror_mode": {
    "name": "ipython",
    "version": 3
   },
   "file_extension": ".py",
   "mimetype": "text/x-python",
   "name": "python",
   "nbconvert_exporter": "python",
   "pygments_lexer": "ipython3",
   "version": "3.10.8"
  }
 },
 "nbformat": 4,
 "nbformat_minor": 5
}
