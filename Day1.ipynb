{
 "cells": [
  {
   "cell_type": "code",
   "execution_count": 1,
   "id": "46bf8dc6-f06f-45b3-a906-3518bfa63235",
   "metadata": {},
   "outputs": [
    {
     "name": "stdout",
     "output_type": "stream",
     "text": [
      "Python\n"
     ]
    }
   ],
   "source": [
    "print(\"Python\")"
   ]
  },
  {
   "cell_type": "code",
   "execution_count": 2,
   "id": "b7693186-2faa-4e4d-acae-d5adc1532433",
   "metadata": {},
   "outputs": [
    {
     "data": {
      "text/plain": [
       "2"
      ]
     },
     "execution_count": 2,
     "metadata": {},
     "output_type": "execute_result"
    }
   ],
   "source": [
    "1+1"
   ]
  },
  {
   "cell_type": "code",
   "execution_count": 3,
   "id": "4f7b5faa-8576-4338-afac-da96da823733",
   "metadata": {},
   "outputs": [],
   "source": [
    "#this is just a comment\n",
    "a=10\n"
   ]
  },
  {
   "cell_type": "code",
   "execution_count": 4,
   "id": "72feb4f6-31a2-4733-9cbe-708074448353",
   "metadata": {},
   "outputs": [
    {
     "data": {
      "text/plain": [
       "10"
      ]
     },
     "execution_count": 4,
     "metadata": {},
     "output_type": "execute_result"
    }
   ],
   "source": [
    "a"
   ]
  },
  {
   "cell_type": "code",
   "execution_count": 5,
   "id": "ef69e628-c659-418c-849e-727a285363e1",
   "metadata": {},
   "outputs": [
    {
     "data": {
      "text/plain": [
       "'\\nHello this comment line'"
      ]
     },
     "execution_count": 5,
     "metadata": {},
     "output_type": "execute_result"
    }
   ],
   "source": [
    "'''\n",
    "Hello this comment line'''"
   ]
  },
  {
   "cell_type": "markdown",
   "id": "305de3db-4b24-423c-9b96-4a5138ef7868",
   "metadata": {},
   "source": [
    "# hello\n",
    "## hello\n",
    "### hello"
   ]
  },
  {
   "cell_type": "code",
   "execution_count": 9,
   "id": "772bd18c-32d7-429c-9c55-b538dcb8dd48",
   "metadata": {},
   "outputs": [],
   "source": [
    "name=\"Pooja\"\n",
    "company=\"nividous\"\n",
    "number=10\n"
   ]
  },
  {
   "cell_type": "code",
   "execution_count": 10,
   "id": "915d17f0-a571-4178-a0bb-3cfa79ca9a7b",
   "metadata": {},
   "outputs": [
    {
     "data": {
      "text/plain": [
       "'Pooja'"
      ]
     },
     "execution_count": 10,
     "metadata": {},
     "output_type": "execute_result"
    }
   ],
   "source": [
    "name"
   ]
  },
  {
   "cell_type": "code",
   "execution_count": 11,
   "id": "3e8ed59e-cedf-4fb9-a9cd-c5e0ed0ab8b2",
   "metadata": {},
   "outputs": [
    {
     "data": {
      "text/plain": [
       "'nividous'"
      ]
     },
     "execution_count": 11,
     "metadata": {},
     "output_type": "execute_result"
    }
   ],
   "source": [
    "company"
   ]
  },
  {
   "cell_type": "code",
   "execution_count": 12,
   "id": "d9b60610-b00d-4271-8db1-166e4523063e",
   "metadata": {},
   "outputs": [
    {
     "data": {
      "text/plain": [
       "10"
      ]
     },
     "execution_count": 12,
     "metadata": {},
     "output_type": "execute_result"
    }
   ],
   "source": [
    "number"
   ]
  },
  {
   "cell_type": "code",
   "execution_count": 13,
   "id": "53ca2257-0b39-44c8-927b-effbe88d6338",
   "metadata": {},
   "outputs": [],
   "source": [
    "name=\"duja\""
   ]
  },
  {
   "cell_type": "markdown",
   "id": "5270079b-fb7d-4308-9dd1-f6d617a6bcc9",
   "metadata": {},
   "source": [
    "### name is overriden"
   ]
  },
  {
   "cell_type": "code",
   "execution_count": 14,
   "id": "92605b24-e533-428e-a216-d2a4b96e456c",
   "metadata": {},
   "outputs": [
    {
     "data": {
      "text/plain": [
       "'duja'"
      ]
     },
     "execution_count": 14,
     "metadata": {},
     "output_type": "execute_result"
    }
   ],
   "source": [
    "name"
   ]
  },
  {
   "cell_type": "markdown",
   "id": "9751c7a6-22bb-459c-b0ff-cbb53bdc7c32",
   "metadata": {},
   "source": [
    "## TO check type"
   ]
  },
  {
   "cell_type": "code",
   "execution_count": 16,
   "id": "4c0b7932-4fb2-4168-9f78-2c82020e45ca",
   "metadata": {},
   "outputs": [
    {
     "data": {
      "text/plain": [
       "str"
      ]
     },
     "execution_count": 16,
     "metadata": {},
     "output_type": "execute_result"
    }
   ],
   "source": [
    "type(\"\")"
   ]
  },
  {
   "cell_type": "code",
   "execution_count": 17,
   "id": "37b579ca-8a20-4051-8a56-46720f8bd047",
   "metadata": {},
   "outputs": [
    {
     "data": {
      "text/plain": [
       "str"
      ]
     },
     "execution_count": 17,
     "metadata": {},
     "output_type": "execute_result"
    }
   ],
   "source": [
    "type('')"
   ]
  },
  {
   "cell_type": "code",
   "execution_count": 18,
   "id": "2865dcb3-b041-429e-8a9c-bbf8fb1a5678",
   "metadata": {},
   "outputs": [
    {
     "data": {
      "text/plain": [
       "int"
      ]
     },
     "execution_count": 18,
     "metadata": {},
     "output_type": "execute_result"
    }
   ],
   "source": [
    "type(10)"
   ]
  },
  {
   "cell_type": "code",
   "execution_count": 19,
   "id": "3ddcbfd4-bd6c-43c7-a32d-29e7cb97a583",
   "metadata": {},
   "outputs": [
    {
     "data": {
      "text/plain": [
       "int"
      ]
     },
     "execution_count": 19,
     "metadata": {},
     "output_type": "execute_result"
    }
   ],
   "source": [
    "type(number)"
   ]
  },
  {
   "cell_type": "code",
   "execution_count": 20,
   "id": "c393b80c-b859-4caf-baca-66754e489116",
   "metadata": {},
   "outputs": [],
   "source": [
    "d=2.5"
   ]
  },
  {
   "cell_type": "code",
   "execution_count": 21,
   "id": "c231cea2-db44-41d7-9833-6112b48796c9",
   "metadata": {},
   "outputs": [
    {
     "data": {
      "text/plain": [
       "float"
      ]
     },
     "execution_count": 21,
     "metadata": {},
     "output_type": "execute_result"
    }
   ],
   "source": [
    "type(d)"
   ]
  },
  {
   "cell_type": "code",
   "execution_count": 22,
   "id": "8a96055d-f656-44b0-917b-2811170d99f5",
   "metadata": {},
   "outputs": [
    {
     "data": {
      "text/plain": [
       "complex"
      ]
     },
     "execution_count": 22,
     "metadata": {},
     "output_type": "execute_result"
    }
   ],
   "source": [
    "type(1+2j)"
   ]
  },
  {
   "cell_type": "markdown",
   "id": "e46618cf-32ce-46b4-a780-ca7ea29cf2c7",
   "metadata": {},
   "source": [
    "### Boollean"
   ]
  },
  {
   "cell_type": "code",
   "execution_count": 27,
   "id": "17370439-2963-439f-b128-f0d8f84c695f",
   "metadata": {},
   "outputs": [
    {
     "data": {
      "text/plain": [
       "True"
      ]
     },
     "execution_count": 27,
     "metadata": {},
     "output_type": "execute_result"
    }
   ],
   "source": [
    "not False"
   ]
  },
  {
   "cell_type": "code",
   "execution_count": 25,
   "id": "14c61916-8382-42b5-bbbf-68f1221234b6",
   "metadata": {},
   "outputs": [
    {
     "data": {
      "text/plain": [
       "bool"
      ]
     },
     "execution_count": 25,
     "metadata": {},
     "output_type": "execute_result"
    }
   ],
   "source": [
    "type(True)"
   ]
  },
  {
   "cell_type": "code",
   "execution_count": 29,
   "id": "f8c176d0-cd57-4f66-aaab-c41c0de95ab2",
   "metadata": {},
   "outputs": [
    {
     "data": {
      "text/plain": [
       "True"
      ]
     },
     "execution_count": 29,
     "metadata": {},
     "output_type": "execute_result"
    }
   ],
   "source": [
    "bool(1)"
   ]
  },
  {
   "cell_type": "code",
   "execution_count": 30,
   "id": "705da5a4-8230-4e45-9838-f6faaea8f2f7",
   "metadata": {},
   "outputs": [
    {
     "data": {
      "text/plain": [
       "False"
      ]
     },
     "execution_count": 30,
     "metadata": {},
     "output_type": "execute_result"
    }
   ],
   "source": [
    "bool(0)"
   ]
  },
  {
   "cell_type": "code",
   "execution_count": 31,
   "id": "eb6484d6-9ef2-475d-b963-662d8459e78b",
   "metadata": {},
   "outputs": [
    {
     "data": {
      "text/plain": [
       "False"
      ]
     },
     "execution_count": 31,
     "metadata": {},
     "output_type": "execute_result"
    }
   ],
   "source": [
    "not True"
   ]
  },
  {
   "cell_type": "code",
   "execution_count": 34,
   "id": "0500ef51-7a22-48e0-890a-364d41b57282",
   "metadata": {},
   "outputs": [
    {
     "name": "stdout",
     "output_type": "stream",
     "text": [
      "True\n"
     ]
    }
   ],
   "source": [
    "a=1\n",
    "if bool(1)==True:\n",
    "    print(True)"
   ]
  },
  {
   "cell_type": "markdown",
   "id": "c002f020-ddef-4f52-9b1a-78a2bf578a92",
   "metadata": {},
   "source": [
    "# Dynamic Typing"
   ]
  },
  {
   "cell_type": "code",
   "execution_count": 35,
   "id": "469053ec-cd2e-4332-89fb-38acf11057a4",
   "metadata": {},
   "outputs": [],
   "source": [
    "a=12"
   ]
  },
  {
   "cell_type": "code",
   "execution_count": 36,
   "id": "1f9741f0-9f9a-4d0c-af66-dd5342d022d8",
   "metadata": {},
   "outputs": [
    {
     "data": {
      "text/plain": [
       "1"
      ]
     },
     "execution_count": 36,
     "metadata": {},
     "output_type": "execute_result"
    }
   ],
   "source": [
    "int(1.5)"
   ]
  },
  {
   "cell_type": "code",
   "execution_count": 37,
   "id": "3ef82fc5-9a9a-492b-a93e-88e68892d9e9",
   "metadata": {},
   "outputs": [
    {
     "data": {
      "text/plain": [
       "'11'"
      ]
     },
     "execution_count": 37,
     "metadata": {},
     "output_type": "execute_result"
    }
   ],
   "source": [
    "\"1\"+'1'"
   ]
  },
  {
   "cell_type": "code",
   "execution_count": 38,
   "id": "051b8f1d-e5ef-413e-98b4-ceee26970188",
   "metadata": {},
   "outputs": [
    {
     "data": {
      "text/plain": [
       "100"
      ]
     },
     "execution_count": 38,
     "metadata": {},
     "output_type": "execute_result"
    }
   ],
   "source": [
    "1*100"
   ]
  },
  {
   "cell_type": "code",
   "execution_count": 39,
   "id": "545e7c6f-7ca7-445a-9880-b4c9818a69ed",
   "metadata": {},
   "outputs": [
    {
     "data": {
      "text/plain": [
       "'1111111111111111111111111111111111111111111111111111111111111111111111111111111111111111111111111111'"
      ]
     },
     "execution_count": 39,
     "metadata": {},
     "output_type": "execute_result"
    }
   ],
   "source": [
    "\"1\"*100\n"
   ]
  },
  {
   "cell_type": "code",
   "execution_count": null,
   "id": "d73fcf87-6152-4edb-a97f-33972453a102",
   "metadata": {},
   "outputs": [],
   "source": []
  }
 ],
 "metadata": {
  "kernelspec": {
   "display_name": "Python 3 (ipykernel)",
   "language": "python",
   "name": "python3"
  },
  "language_info": {
   "codemirror_mode": {
    "name": "ipython",
    "version": 3
   },
   "file_extension": ".py",
   "mimetype": "text/x-python",
   "name": "python",
   "nbconvert_exporter": "python",
   "pygments_lexer": "ipython3",
   "version": "3.10.8"
  }
 },
 "nbformat": 4,
 "nbformat_minor": 5
}
