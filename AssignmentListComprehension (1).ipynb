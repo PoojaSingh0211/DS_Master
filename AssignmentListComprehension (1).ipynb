{
 "cells": [
  {
   "cell_type": "code",
   "execution_count": 2,
   "id": "21c1b0de-7456-421c-8283-35a28bf38f25",
   "metadata": {},
   "outputs": [],
   "source": [
    "# both using list comprehension\n",
    "# Find Prime number\n",
    "list1=[1,2,3,4,5,6,7,8,9,10]"
   ]
  },
  {
   "cell_type": "code",
   "execution_count": 23,
   "id": "23afc946-c794-4609-acb5-2f4874c80169",
   "metadata": {},
   "outputs": [
    {
     "data": {
      "text/plain": [
       "[1, 2, 3, 5, 7]"
      ]
     },
     "execution_count": 23,
     "metadata": {},
     "output_type": "execute_result"
    }
   ],
   "source": [
    "[x for x in list1 if all (x % y != 0 for y in range (2, x))]"
   ]
  },
  {
   "cell_type": "code",
   "execution_count": null,
   "id": "aa39080f-630b-473c-a50e-956a8684c473",
   "metadata": {},
   "outputs": [],
   "source": []
  }
 ],
 "metadata": {
  "kernelspec": {
   "display_name": "Python 3 (ipykernel)",
   "language": "python",
   "name": "python3"
  },
  "language_info": {
   "codemirror_mode": {
    "name": "ipython",
    "version": 3
   },
   "file_extension": ".py",
   "mimetype": "text/x-python",
   "name": "python",
   "nbconvert_exporter": "python",
   "pygments_lexer": "ipython3",
   "version": "3.10.8"
  }
 },
 "nbformat": 4,
 "nbformat_minor": 5
}
