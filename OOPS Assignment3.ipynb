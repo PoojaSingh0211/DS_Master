{
 "cells": [
  {
   "cell_type": "markdown",
   "id": "40ecd907-02ff-49a8-89fe-36998bcb2649",
   "metadata": {},
   "source": [
    "# Chat Bot"
   ]
  },
  {
   "cell_type": "code",
   "execution_count": 7,
   "id": "adac1807-3e52-466d-bc96-48ba950fa39a",
   "metadata": {},
   "outputs": [
    {
     "name": "stdin",
     "output_type": "stream",
     "text": [
      "Enter your question :  hi\n"
     ]
    },
    {
     "name": "stdout",
     "output_type": "stream",
     "text": [
      "Hello\n"
     ]
    },
    {
     "name": "stdin",
     "output_type": "stream",
     "text": [
      "Enter your question :  how are you?\n"
     ]
    },
    {
     "name": "stdout",
     "output_type": "stream",
     "text": [
      "I am good. \n",
      "what about you?\n"
     ]
    },
    {
     "name": "stdin",
     "output_type": "stream",
     "text": [
      "Enter your question :  i am also good\n"
     ]
    },
    {
     "name": "stdout",
     "output_type": "stream",
     "text": [
      "Sorry, I dont understand!\n"
     ]
    },
    {
     "name": "stdin",
     "output_type": "stream",
     "text": [
      "Enter your question :  why\n"
     ]
    },
    {
     "name": "stdout",
     "output_type": "stream",
     "text": [
      "Sorry, I dont understand!\n"
     ]
    },
    {
     "name": "stdin",
     "output_type": "stream",
     "text": [
      "Enter your question :  ok\n"
     ]
    },
    {
     "name": "stdout",
     "output_type": "stream",
     "text": [
      "Sorry, I dont understand!\n"
     ]
    },
    {
     "name": "stdin",
     "output_type": "stream",
     "text": [
      "Enter your question :  hi\n"
     ]
    },
    {
     "name": "stdout",
     "output_type": "stream",
     "text": [
      "Hello\n"
     ]
    },
    {
     "name": "stdin",
     "output_type": "stream",
     "text": [
      "Enter your question :  bye\n"
     ]
    }
   ],
   "source": [
    "info={\"hi\":\"Hello\",\n",
    "     \"how are you?\":\"I am good. \\nwhat about you?\"}\n",
    "while True:\n",
    "    ask_ur_question=input(\"Enter your question : \")\n",
    "    if ask_ur_question==\"bye\":\n",
    "        break\n",
    "    elif info.get(ask_ur_question)!=None:\n",
    "        print(info.get(ask_ur_question))\n",
    "    else:\n",
    "        print(\"Sorry, I dont understand!\")"
   ]
  },
  {
   "cell_type": "code",
   "execution_count": 2,
   "id": "be2955f2-0a89-45c2-8c84-abc51e823870",
   "metadata": {},
   "outputs": [
    {
     "name": "stdin",
     "output_type": "stream",
     "text": [
      "Enter ur q :  hi\n"
     ]
    },
    {
     "name": "stdout",
     "output_type": "stream",
     "text": [
      "hello\n"
     ]
    },
    {
     "name": "stdin",
     "output_type": "stream",
     "text": [
      "Enter ur q :  hello\n"
     ]
    },
    {
     "name": "stdout",
     "output_type": "stream",
     "text": [
      "hi\n"
     ]
    },
    {
     "name": "stdin",
     "output_type": "stream",
     "text": [
      "Enter ur q :  bye\n"
     ]
    },
    {
     "name": "stdout",
     "output_type": "stream",
     "text": [
      "Sorry i dont understand\n"
     ]
    },
    {
     "name": "stdin",
     "output_type": "stream",
     "text": [
      "Enter ur q :  q\n"
     ]
    }
   ],
   "source": [
    "#WAPP to make chatbot\n",
    "\n",
    "conv={\n",
    "\"hi\":\"hello\",\n",
    "\"hello\":\"hi\",\n",
    "\"A\":\"B\",\n",
    "\"B\":\"C\",\n",
    "\"C\":\"D\",\n",
    "\"D\":\"Donkey\"\n",
    "\n",
    "}\n",
    "while True:\n",
    "\tqts=input(\"Enter ur q : \")\n",
    "\tif qts==\"q\":\n",
    "\t\tbreak\n",
    "\telif conv.get(qts)!=None:\n",
    "\t\tans=conv[qts]\n",
    "\t\tprint(ans)\n",
    "\telse:\n",
    "\t\tprint(\"Sorry i dont understand\")"
   ]
  },
  {
   "cell_type": "code",
   "execution_count": 8,
   "id": "435a0ccd-8beb-45b4-ac20-30643c0baf54",
   "metadata": {},
   "outputs": [
    {
     "name": "stdin",
     "output_type": "stream",
     "text": [
      "Enter your question :  hi\n"
     ]
    },
    {
     "name": "stdout",
     "output_type": "stream",
     "text": [
      "Hello\n"
     ]
    },
    {
     "name": "stdin",
     "output_type": "stream",
     "text": [
      "Enter your question :  i need a help\n"
     ]
    },
    {
     "name": "stdout",
     "output_type": "stream",
     "text": [
      "Sorry, I dont understand!\n"
     ]
    },
    {
     "name": "stdin",
     "output_type": "stream",
     "text": [
      "Enter your question :  help\n"
     ]
    },
    {
     "name": "stdout",
     "output_type": "stream",
     "text": [
      "OK\n"
     ]
    },
    {
     "name": "stdin",
     "output_type": "stream",
     "text": [
      "Enter your question :  how are you?\n"
     ]
    },
    {
     "name": "stdout",
     "output_type": "stream",
     "text": [
      "I am good. \n",
      "what about you?\n"
     ]
    },
    {
     "name": "stdin",
     "output_type": "stream",
     "text": [
      "Enter your question :  i am also good\n"
     ]
    },
    {
     "name": "stdout",
     "output_type": "stream",
     "text": [
      "Sorry, I dont understand!\n"
     ]
    },
    {
     "name": "stdin",
     "output_type": "stream",
     "text": [
      "Enter your question :  i am good too\n"
     ]
    },
    {
     "name": "stdout",
     "output_type": "stream",
     "text": [
      "Sounds good! \n",
      " how can i help you?\n"
     ]
    },
    {
     "name": "stdin",
     "output_type": "stream",
     "text": [
      "Enter your question :  bye\n"
     ]
    }
   ],
   "source": [
    "info={\"hi\":\"Hello\",\n",
    "     \"how are you?\":\"I am good. \\nwhat about you?\",\n",
    "     \"i am good too\":\"Sounds good! \\n how can i help you?\",\n",
    "     \"help\":\"OK\"}\n",
    "while True:\n",
    "    ask_ur_question=input(\"Enter your question : \")\n",
    "    if ask_ur_question==\"bye\":\n",
    "        break\n",
    "    elif info.get(ask_ur_question)!=None:\n",
    "        print(info.get(ask_ur_question))\n",
    "    else:\n",
    "        print(\"Sorry, I dont understand!\")"
   ]
  },
  {
   "cell_type": "code",
   "execution_count": 9,
   "id": "bfdb7173-c3c6-4631-8d70-029795f732cb",
   "metadata": {},
   "outputs": [
    {
     "name": "stdout",
     "output_type": "stream",
     "text": [
      "{'idli': '40', 'poha': '40', 'medu': '20'} <class 'dict'>\n",
      "{'idli': '40', 'poha': '40', 'upma': '20'} <class 'dict'>\n",
      "{'idli': '40', 'poha': '40', 'sambhar': '20'} <class 'dict'>\n",
      "None\n",
      "{'idli': '40', 'poha': '40', 'medu': '20'}\n",
      "None\n",
      "{'poha': '40', 'medu': '20'}\n",
      "None\n"
     ]
    }
   ],
   "source": [
    "#dictionary operations\n",
    "#add/update\n",
    "dict1={\"idli\":\"40\",\"poha\":\"40\",\"medu\":\"20\"}\n",
    "print(dict1,type(dict1))\n",
    "\n",
    "dict2={\"idli\":\"40\",\"poha\":\"40\",\"upma\":\"20\"}\n",
    "print(dict2,type(dict2))\n",
    "\n",
    "dict3={\"idli\":\"40\",\"poha\":\"40\",\"sambhar\":\"20\"}\n",
    "print(dict3,type(dict3))\n",
    "\n",
    "print(dict1.get(\"pizza\"))\n",
    "print(dict1)\n",
    "#print(dict1[\"pizza\"])\n",
    "print(dict1.get(\"abc\"))\n",
    "#print(dict1[\"abc\"])   #diff between get and this\n",
    "\n",
    "#remove\n",
    "dict1.pop(\"idli\")\n",
    "print(dict1)\n",
    "print(dict1.clear())"
   ]
  },
  {
   "cell_type": "code",
   "execution_count": 10,
   "id": "8dd12443-e347-4a54-bda4-e8f1ee96cbcd",
   "metadata": {},
   "outputs": [
    {
     "name": "stdout",
     "output_type": "stream",
     "text": [
      "{'idli': '40', 'poha': '40', 'medu': '20'} <class 'dict'>\n",
      "{'idli': '40', 'poha': '40', 'upma': '20'} <class 'dict'>\n",
      "{'idli': '40', 'poha': '40', 'sambhar': '20'} <class 'dict'>\n",
      "{} <class 'dict'>\n",
      "idli  Rs  40\n",
      "poha  Rs  40\n",
      "medu  Rs  20\n",
      "{'idli': '40', 'poha': '40', 'medu': '20', 'momo': 80}\n",
      "{'idli': '40', 'poha': '40', 'medu': '20', 'momo': 80, 'upma': 100}\n",
      "{'idli': '40', 'poha': '40', 'medu': '20', 'momo': 80, 'upma': 100, 'pizza': 180}\n",
      "{'idli': 60, 'poha': '40', 'medu': '20', 'momo': 80, 'upma': 100, 'pizza': 180}\n"
     ]
    }
   ],
   "source": [
    "#WAPP to represent dic\n",
    "\n",
    "dict1={\"idli\":\"40\",\"poha\":\"40\",\"medu\":\"20\"}\n",
    "print(dict1,type(dict1))\n",
    "\n",
    "dict2={\"idli\":\"40\",\"poha\":\"40\",\"upma\":\"20\"}\n",
    "print(dict2,type(dict2))\n",
    "\n",
    "dict3={\"idli\":\"40\",\"poha\":\"40\",\"sambhar\":\"20\"}\n",
    "print(dict3,type(dict3))\n",
    "\n",
    "dict4={}\n",
    "print(dict4,type(dict4))\n",
    "\n",
    "#display\n",
    "for m in dict1:\n",
    "\tprint(m,\" Rs \",dict1[m])\n",
    "\n",
    "#add/update\n",
    "dict1[\"momo\"]=80\n",
    "print(dict1)\n",
    "dict1[\"upma\"]=100\n",
    "print(dict1)\n",
    "dict1[\"pizza\"]=180\n",
    "print(dict1)\n",
    "dict1[\"idli\"]=60\n",
    "print(dict1)"
   ]
  },
  {
   "cell_type": "code",
   "execution_count": 11,
   "id": "b652df1b-8f73-43b8-8de5-cebe3fcb1bba",
   "metadata": {},
   "outputs": [
    {
     "name": "stdin",
     "output_type": "stream",
     "text": [
      "1.new, 2.view,3.remove and 4.exit 1\n",
      "Enter email :  pooja.singh@gmail.com\n"
     ]
    },
    {
     "name": "stdout",
     "output_type": "stream",
     "text": [
      "pooja.singh@gmail.com  added\n"
     ]
    },
    {
     "name": "stdin",
     "output_type": "stream",
     "text": [
      "1.new, 2.view,3.remove and 4.exit 2\n"
     ]
    },
    {
     "name": "stdout",
     "output_type": "stream",
     "text": [
      "{'pooja.singh@gmail.com'}\n"
     ]
    },
    {
     "name": "stdin",
     "output_type": "stream",
     "text": [
      "1.new, 2.view,3.remove and 4.exit 1\n",
      "Enter email :  njfjenfk@yahoo.com\n"
     ]
    },
    {
     "name": "stdout",
     "output_type": "stream",
     "text": [
      "njfjenfk@yahoo.com  added\n"
     ]
    },
    {
     "name": "stdin",
     "output_type": "stream",
     "text": [
      "1.new, 2.view,3.remove and 4.exit 4\n"
     ]
    }
   ],
   "source": [
    "#WAPP to collect email id of students\n",
    "\n",
    "ea=set()\n",
    "while True:\n",
    "\top=int(input(\"1.new, 2.view,3.remove and 4.exit\"))\n",
    "\tif op==1:\n",
    "\t\tem=input(\"Enter email : \")\n",
    "\t\tlen1=len(ea)\n",
    "\t\tea.add(em)\n",
    "\t\tlen2=len(ea)\n",
    "\t\tif len1<len2:\n",
    "\t\t\tprint(em, \" added\")\n",
    "\t\telse:\n",
    "\t\t\tprint(em, \" already exist \")\n",
    "\telif op==2:\n",
    "\t\tprint(ea)\n",
    "\telif op==3:\n",
    "\t\t#pass\n",
    "\t\tem=input(\"Enter email : \")\n",
    "\t\tlen1=len(ea)\n",
    "\t\tea.discard(em)\n",
    "\t\tlen2=len(ea)\n",
    "\t\tif len2<len1:\n",
    "\t\t\tprint(em, \" removed\")\n",
    "\t\telse:\n",
    "\t\t\tprint(em, \" does not exist \")\n",
    "\telif op==4:\n",
    "\t\tbreak\n",
    "\telse:\n",
    "\t\tprint(\"Sorry i dont undestand\")\n",
    "\t"
   ]
  },
  {
   "cell_type": "code",
   "execution_count": 12,
   "id": "b8878491-2419-4b21-9a9b-8fa5db9387a3",
   "metadata": {},
   "outputs": [
    {
     "name": "stdin",
     "output_type": "stream",
     "text": [
      "You want to enter details y/n :   y\n",
      "Enter your ID  11\n",
      "Enter your Name  pooja\n",
      "Enter your Address  asdf\n",
      "Enter your Phone  123467\n",
      "Do you want to enter more y/n  y\n",
      "Enter your ID  12\n",
      "Enter your Name  jyoti\n",
      "Enter your Address  axy\n",
      "Enter your Phone  9876543123\n",
      "Do you want to enter more y/n  n\n"
     ]
    },
    {
     "name": "stdout",
     "output_type": "stream",
     "text": [
      "Person ID is  11\n",
      "Person Name is  pooja\n",
      "Person Address is  asdf\n",
      "Person Phone is  123467\n",
      "----------------------------------------\n",
      "Person ID is  12\n",
      "Person Name is  jyoti\n",
      "Person Address is  axy\n",
      "Person Phone is  9876543123\n",
      "----------------------------------------\n"
     ]
    }
   ],
   "source": [
    "class Person:\n",
    "\tdef __init__(self,id,name,address,phone):\n",
    "\t\tself.id=id\n",
    "\t\tself.name=name\n",
    "\t\tself.address=address\n",
    "\t\tself.phone=phone\n",
    "\tdef show(self):\n",
    "\t\tprint(\"Person ID is \",self.id)\n",
    "\t\tprint(\"Person Name is \",self.name)\n",
    "\t\tprint(\"Person Address is \",self.address)\n",
    "\t\tprint(\"Person Phone is \",self.phone)\n",
    "data=[]\n",
    "res=input(\"You want to enter details y/n :  \")\n",
    "while res==\"y\":\n",
    "\tid=int(input(\"Enter your ID \"))\n",
    "\tname=input(\"Enter your Name \")\n",
    "\taddress=input(\"Enter your Address \")\n",
    "\tphone=int(input(\"Enter your Phone \"))\n",
    "\tp=Person(id,name,address,phone)\n",
    "\tdata.append(p)\n",
    "\tres=input(\"Do you want to enter more y/n \")\n",
    "\n",
    "for d in data:\n",
    "\td.show()\n",
    "\tprint(\"-\"*40)"
   ]
  },
  {
   "cell_type": "code",
   "execution_count": null,
   "id": "8f4fa14a-d897-4fea-93d3-d4cb8b898b75",
   "metadata": {},
   "outputs": [],
   "source": []
  }
 ],
 "metadata": {
  "kernelspec": {
   "display_name": "Python 3 (ipykernel)",
   "language": "python",
   "name": "python3"
  },
  "language_info": {
   "codemirror_mode": {
    "name": "ipython",
    "version": 3
   },
   "file_extension": ".py",
   "mimetype": "text/x-python",
   "name": "python",
   "nbconvert_exporter": "python",
   "pygments_lexer": "ipython3",
   "version": "3.10.8"
  }
 },
 "nbformat": 4,
 "nbformat_minor": 5
}
