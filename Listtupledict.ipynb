{
 "cells": [
  {
   "cell_type": "code",
   "execution_count": 4,
   "id": "039ad6a7-2ef8-45d1-bcd3-d85b70b0cc40",
   "metadata": {},
   "outputs": [],
   "source": [
    "t=(0,1,2,3,4,5,6,7,8,9)"
   ]
  },
  {
   "cell_type": "code",
   "execution_count": 5,
   "id": "be7c8a9f-d7a2-4a34-9b26-82cea15350b3",
   "metadata": {},
   "outputs": [
    {
     "data": {
      "text/plain": [
       "tuple"
      ]
     },
     "execution_count": 5,
     "metadata": {},
     "output_type": "execute_result"
    }
   ],
   "source": [
    "type(t)"
   ]
  },
  {
   "cell_type": "code",
   "execution_count": 6,
   "id": "a46ee5b7-d3f4-4c6f-a9d9-c506c13323f6",
   "metadata": {},
   "outputs": [
    {
     "data": {
      "text/plain": [
       "(0, 1, 2, 3, 4, 5, 6, 7, 8, 9)"
      ]
     },
     "execution_count": 6,
     "metadata": {},
     "output_type": "execute_result"
    }
   ],
   "source": [
    "t"
   ]
  },
  {
   "cell_type": "code",
   "execution_count": 12,
   "id": "8abed4d5-e5cf-4742-8ede-69cb6a0f1ddc",
   "metadata": {},
   "outputs": [
    {
     "data": {
      "text/plain": [
       "(3, 4, 5)"
      ]
     },
     "execution_count": 12,
     "metadata": {},
     "output_type": "execute_result"
    }
   ],
   "source": [
    "t[3:6]"
   ]
  },
  {
   "cell_type": "code",
   "execution_count": 27,
   "id": "b62ff397-4bd1-4a73-b5a5-facfde59f78f",
   "metadata": {},
   "outputs": [],
   "source": [
    "t1=(2,3,,0)"
   ]
  },
  {
   "cell_type": "code",
   "execution_count": 14,
   "id": "23a6b3b3-6832-43ae-9418-b3e5f2847c53",
   "metadata": {},
   "outputs": [
    {
     "data": {
      "text/plain": [
       "tuple"
      ]
     },
     "execution_count": 14,
     "metadata": {},
     "output_type": "execute_result"
    }
   ],
   "source": [
    "type(t1)"
   ]
  },
  {
   "cell_type": "code",
   "execution_count": 15,
   "id": "224e62fa-be44-4745-93b7-62cfc9aef114",
   "metadata": {},
   "outputs": [
    {
     "data": {
      "text/plain": [
       "0"
      ]
     },
     "execution_count": 15,
     "metadata": {},
     "output_type": "execute_result"
    }
   ],
   "source": [
    "t1.count(4)"
   ]
  },
  {
   "cell_type": "code",
   "execution_count": 19,
   "id": "e47647cb-f6bd-4dda-a6e7-b6382316d224",
   "metadata": {},
   "outputs": [
    {
     "data": {
      "text/plain": [
       "1"
      ]
     },
     "execution_count": 19,
     "metadata": {},
     "output_type": "execute_result"
    }
   ],
   "source": [
    "t1.index(3)"
   ]
  },
  {
   "cell_type": "code",
   "execution_count": 34,
   "id": "4b9c49fd-ef80-4b37-9cfb-24dbe35ce50f",
   "metadata": {},
   "outputs": [
    {
     "data": {
      "text/plain": [
       "1"
      ]
     },
     "execution_count": 34,
     "metadata": {},
     "output_type": "execute_result"
    }
   ],
   "source": [
    "t1.count(False)"
   ]
  },
  {
   "cell_type": "code",
   "execution_count": 36,
   "id": "826c10ee-2903-4a1a-99f0-b1564daf7484",
   "metadata": {},
   "outputs": [
    {
     "ename": "TypeError",
     "evalue": "'tuple' object does not support item assignment",
     "output_type": "error",
     "traceback": [
      "\u001b[0;31m---------------------------------------------------------------------------\u001b[0m",
      "\u001b[0;31mTypeError\u001b[0m                                 Traceback (most recent call last)",
      "Cell \u001b[0;32mIn[36], line 1\u001b[0m\n\u001b[0;32m----> 1\u001b[0m \u001b[43mt1\u001b[49m\u001b[43m[\u001b[49m\u001b[38;5;241;43m0\u001b[39;49m\u001b[43m]\u001b[49m\u001b[38;5;241m=\u001b[39m\u001b[38;5;241m245\u001b[39m\n",
      "\u001b[0;31mTypeError\u001b[0m: 'tuple' object does not support item assignment"
     ]
    }
   ],
   "source": [
    "t1[0]=245"
   ]
  },
  {
   "cell_type": "code",
   "execution_count": 39,
   "id": "c4806e29-9145-40d9-8c1e-5a8823fe6cbb",
   "metadata": {},
   "outputs": [],
   "source": [
    "t4=[0,1,2,3,4,5]"
   ]
  },
  {
   "cell_type": "code",
   "execution_count": 41,
   "id": "eeb720f0-fa67-47c5-abc2-87e7dfe1a481",
   "metadata": {},
   "outputs": [],
   "source": [
    "t4[0]=45"
   ]
  },
  {
   "cell_type": "code",
   "execution_count": 42,
   "id": "55779ff6-0cba-4646-b307-f9eeabc56217",
   "metadata": {},
   "outputs": [
    {
     "data": {
      "text/plain": [
       "[45, 1, 2, 3, 4, 5]"
      ]
     },
     "execution_count": 42,
     "metadata": {},
     "output_type": "execute_result"
    }
   ],
   "source": [
    "t4"
   ]
  },
  {
   "cell_type": "code",
   "execution_count": 46,
   "id": "7110e60f-9104-47ee-932c-7e3e5ef5b533",
   "metadata": {},
   "outputs": [
    {
     "name": "stdout",
     "output_type": "stream",
     "text": [
      "0 <class 'int'>\n",
      "1 <class 'int'>\n",
      "2 <class 'int'>\n",
      "3 <class 'int'>\n",
      "4 <class 'int'>\n",
      "5 <class 'int'>\n"
     ]
    }
   ],
   "source": [
    "for i in t1:\n",
    "    print(i,type(i))"
   ]
  },
  {
   "cell_type": "code",
   "execution_count": 47,
   "id": "b2bd72d0-bcc0-4d63-b7c5-65bd227865d1",
   "metadata": {},
   "outputs": [
    {
     "data": {
      "text/plain": [
       "5"
      ]
     },
     "execution_count": 47,
     "metadata": {},
     "output_type": "execute_result"
    }
   ],
   "source": [
    "max(t1)"
   ]
  },
  {
   "cell_type": "code",
   "execution_count": 48,
   "id": "10ea8c23-b036-4b7d-ab9d-12add5e35062",
   "metadata": {},
   "outputs": [
    {
     "data": {
      "text/plain": [
       "0"
      ]
     },
     "execution_count": 48,
     "metadata": {},
     "output_type": "execute_result"
    }
   ],
   "source": [
    "min(t1)"
   ]
  },
  {
   "cell_type": "code",
   "execution_count": 49,
   "id": "08f213d2-7f1b-4054-a35b-56ab15908ab8",
   "metadata": {},
   "outputs": [],
   "source": [
    "del t4"
   ]
  },
  {
   "cell_type": "code",
   "execution_count": 50,
   "id": "08f3b969-7024-47ac-a9dd-39b1b98ac1e1",
   "metadata": {},
   "outputs": [
    {
     "ename": "NameError",
     "evalue": "name 't4' is not defined",
     "output_type": "error",
     "traceback": [
      "\u001b[0;31m---------------------------------------------------------------------------\u001b[0m",
      "\u001b[0;31mNameError\u001b[0m                                 Traceback (most recent call last)",
      "Cell \u001b[0;32mIn[50], line 1\u001b[0m\n\u001b[0;32m----> 1\u001b[0m \u001b[43mt4\u001b[49m\n",
      "\u001b[0;31mNameError\u001b[0m: name 't4' is not defined"
     ]
    }
   ],
   "source": [
    "t4"
   ]
  },
  {
   "cell_type": "code",
   "execution_count": 57,
   "id": "887b8b15-eba9-4d3a-b3e1-652138cdc9ac",
   "metadata": {},
   "outputs": [
    {
     "data": {
      "text/plain": [
       "True"
      ]
     },
     "execution_count": 57,
     "metadata": {},
     "output_type": "execute_result"
    }
   ],
   "source": [
    "1 in t"
   ]
  },
  {
   "cell_type": "code",
   "execution_count": 54,
   "id": "79cb792c-0dd6-4e17-bdb5-949fc7ecdce4",
   "metadata": {},
   "outputs": [
    {
     "data": {
      "text/plain": [
       "10"
      ]
     },
     "execution_count": 54,
     "metadata": {},
     "output_type": "execute_result"
    }
   ],
   "source": [
    "len(t)"
   ]
  },
  {
   "cell_type": "markdown",
   "id": "0057a405-0760-4bb3-8c02-1a9a2c592fce",
   "metadata": {},
   "source": [
    "# Tuple"
   ]
  },
  {
   "cell_type": "code",
   "execution_count": 58,
   "id": "b39e85dd-67a4-43ce-9e88-0fbb9bb2ca3a",
   "metadata": {},
   "outputs": [],
   "source": [
    "t1=('raj','pooja','jyoti')"
   ]
  },
  {
   "cell_type": "code",
   "execution_count": 60,
   "id": "f9c3f04c-6a44-4c77-8abe-c199e340149d",
   "metadata": {},
   "outputs": [
    {
     "data": {
      "text/plain": [
       "1"
      ]
     },
     "execution_count": 60,
     "metadata": {},
     "output_type": "execute_result"
    }
   ],
   "source": [
    "t1.count('raj')"
   ]
  },
  {
   "cell_type": "code",
   "execution_count": 61,
   "id": "ef79e88d-95b1-42e0-8e6e-95ef9f3476f9",
   "metadata": {},
   "outputs": [
    {
     "data": {
      "text/plain": [
       "['raj', 'pooja', 'jyoti']"
      ]
     },
     "execution_count": 61,
     "metadata": {},
     "output_type": "execute_result"
    }
   ],
   "source": [
    "list(t1)"
   ]
  },
  {
   "cell_type": "markdown",
   "id": "b433c6fd-816f-48a7-a6c0-614f94b16886",
   "metadata": {},
   "source": [
    "# set"
   ]
  },
  {
   "cell_type": "code",
   "execution_count": 63,
   "id": "a9165f78-8fcb-4752-99de-66e845a6626e",
   "metadata": {},
   "outputs": [],
   "source": [
    "s={}"
   ]
  },
  {
   "cell_type": "code",
   "execution_count": 64,
   "id": "5ed997cf-898f-4603-8efe-3cea94d7eb59",
   "metadata": {},
   "outputs": [
    {
     "data": {
      "text/plain": [
       "dict"
      ]
     },
     "execution_count": 64,
     "metadata": {},
     "output_type": "execute_result"
    }
   ],
   "source": [
    "type(s)"
   ]
  },
  {
   "cell_type": "code",
   "execution_count": 65,
   "id": "4c8df8ef-fc0e-484c-8921-681ac5379493",
   "metadata": {},
   "outputs": [],
   "source": [
    "s1={1,2,3,4,5}"
   ]
  },
  {
   "cell_type": "code",
   "execution_count": 66,
   "id": "968e6e30-30ad-4643-a5e9-39f2fa787a6d",
   "metadata": {},
   "outputs": [
    {
     "data": {
      "text/plain": [
       "set"
      ]
     },
     "execution_count": 66,
     "metadata": {},
     "output_type": "execute_result"
    }
   ],
   "source": [
    "type(s1)"
   ]
  },
  {
   "cell_type": "code",
   "execution_count": 71,
   "id": "d92322a1-cf48-461c-92d0-e9b5a6969382",
   "metadata": {},
   "outputs": [],
   "source": [
    "s2={1,1,2,2,3,3,4,4,5,5}"
   ]
  },
  {
   "cell_type": "code",
   "execution_count": 70,
   "id": "b28d88ff-173f-4ea5-bbcf-ce7815ee8b9f",
   "metadata": {},
   "outputs": [
    {
     "data": {
      "text/plain": [
       "{1, 2, 3, 4, 5}"
      ]
     },
     "execution_count": 70,
     "metadata": {},
     "output_type": "execute_result"
    }
   ],
   "source": [
    "s2"
   ]
  },
  {
   "cell_type": "code",
   "execution_count": 75,
   "id": "e395dc4c-251c-4661-b34e-bead45d4b54f",
   "metadata": {},
   "outputs": [],
   "source": [
    "s3={\"raj\",\"raj\",1,2,3,4}"
   ]
  },
  {
   "cell_type": "code",
   "execution_count": 77,
   "id": "a5686555-aa75-4324-a34f-6efc08df9d37",
   "metadata": {},
   "outputs": [
    {
     "data": {
      "text/plain": [
       "{1, 2, 3, 4, 'raj'}"
      ]
     },
     "execution_count": 77,
     "metadata": {},
     "output_type": "execute_result"
    }
   ],
   "source": [
    "s3"
   ]
  },
  {
   "cell_type": "code",
   "execution_count": 76,
   "id": "07ebf5c1-ebde-4a56-9348-0c3d91b82cc6",
   "metadata": {},
   "outputs": [
    {
     "name": "stdout",
     "output_type": "stream",
     "text": [
      "1\n",
      "2\n",
      "3\n",
      "4\n",
      "raj\n"
     ]
    }
   ],
   "source": [
    "for i in s3:\n",
    "    print(i)"
   ]
  },
  {
   "cell_type": "code",
   "execution_count": 78,
   "id": "5f823e2f-f233-41d0-981a-c506773f14da",
   "metadata": {},
   "outputs": [],
   "source": [
    "s3.add(9)"
   ]
  },
  {
   "cell_type": "code",
   "execution_count": 79,
   "id": "9d7026c5-bd03-4e8b-a7df-353907b738e7",
   "metadata": {},
   "outputs": [
    {
     "data": {
      "text/plain": [
       "{1, 2, 3, 4, 9, 'raj'}"
      ]
     },
     "execution_count": 79,
     "metadata": {},
     "output_type": "execute_result"
    }
   ],
   "source": [
    "s3"
   ]
  },
  {
   "cell_type": "code",
   "execution_count": 80,
   "id": "3c38b405-6e18-4a0f-b342-b29790ce9e96",
   "metadata": {},
   "outputs": [
    {
     "data": {
      "text/plain": [
       "6"
      ]
     },
     "execution_count": 80,
     "metadata": {},
     "output_type": "execute_result"
    }
   ],
   "source": [
    "len(s3)"
   ]
  },
  {
   "cell_type": "code",
   "execution_count": 84,
   "id": "50ba57ee-0ada-4f0e-9f91-b0553deadf60",
   "metadata": {},
   "outputs": [
    {
     "data": {
      "text/plain": [
       "1"
      ]
     },
     "execution_count": 84,
     "metadata": {},
     "output_type": "execute_result"
    }
   ],
   "source": [
    "s3.pop()"
   ]
  },
  {
   "cell_type": "code",
   "execution_count": 1,
   "id": "d511e005-1b4d-4eb2-9cdb-38d9b61dc517",
   "metadata": {},
   "outputs": [],
   "source": [
    "s8={1,2,3,4}\n",
    "s9={1,2,3,5}"
   ]
  },
  {
   "cell_type": "code",
   "execution_count": 2,
   "id": "8cc7370c-232e-45c3-a710-99abafa18f6b",
   "metadata": {},
   "outputs": [
    {
     "data": {
      "text/plain": [
       "{4}"
      ]
     },
     "execution_count": 2,
     "metadata": {},
     "output_type": "execute_result"
    }
   ],
   "source": [
    "s8.difference(s9)"
   ]
  },
  {
   "cell_type": "code",
   "execution_count": 3,
   "id": "26b92812-bbcc-468f-8dfa-a93845121e8e",
   "metadata": {},
   "outputs": [
    {
     "data": {
      "text/plain": [
       "{5}"
      ]
     },
     "execution_count": 3,
     "metadata": {},
     "output_type": "execute_result"
    }
   ],
   "source": [
    "s9.difference(s8)"
   ]
  },
  {
   "cell_type": "code",
   "execution_count": 91,
   "id": "a684d29c-eda8-464a-a4d7-24e9cafebe86",
   "metadata": {},
   "outputs": [
    {
     "ename": "AttributeError",
     "evalue": "'set' object has no attribute 'index'",
     "output_type": "error",
     "traceback": [
      "\u001b[0;31m---------------------------------------------------------------------------\u001b[0m",
      "\u001b[0;31mAttributeError\u001b[0m                            Traceback (most recent call last)",
      "Cell \u001b[0;32mIn[91], line 1\u001b[0m\n\u001b[0;32m----> 1\u001b[0m \u001b[43ms9\u001b[49m\u001b[38;5;241;43m.\u001b[39;49m\u001b[43mindex\u001b[49m()\n",
      "\u001b[0;31mAttributeError\u001b[0m: 'set' object has no attribute 'index'"
     ]
    }
   ],
   "source": [
    "s9.index()"
   ]
  },
  {
   "cell_type": "code",
   "execution_count": 5,
   "id": "fb011caa-be09-40e8-8f9f-d4e703ad0289",
   "metadata": {},
   "outputs": [
    {
     "data": {
      "text/plain": [
       "{1, 2, 3, 4, 5}"
      ]
     },
     "execution_count": 5,
     "metadata": {},
     "output_type": "execute_result"
    }
   ],
   "source": [
    "s8.union(s9)"
   ]
  },
  {
   "cell_type": "code",
   "execution_count": 6,
   "id": "ef003d2a-d4cc-48fb-b75d-ecf3b577b3da",
   "metadata": {},
   "outputs": [],
   "source": [
    "# Diction"
   ]
  },
  {
   "cell_type": "code",
   "execution_count": 7,
   "id": "8dd5a4b0-e765-44c9-95d7-0f3ad4705443",
   "metadata": {},
   "outputs": [
    {
     "data": {
      "text/plain": [
       "False"
      ]
     },
     "execution_count": 7,
     "metadata": {},
     "output_type": "execute_result"
    }
   ],
   "source": [
    "s8.issubset(s9)"
   ]
  },
  {
   "cell_type": "code",
   "execution_count": 8,
   "id": "327452df-d89b-4317-a43b-8d36656c46d3",
   "metadata": {},
   "outputs": [],
   "source": [
    "s10={1,2,3}"
   ]
  },
  {
   "cell_type": "code",
   "execution_count": 10,
   "id": "1c40fe4b-3076-492f-ad23-7685994f7011",
   "metadata": {},
   "outputs": [
    {
     "data": {
      "text/plain": [
       "True"
      ]
     },
     "execution_count": 10,
     "metadata": {},
     "output_type": "execute_result"
    }
   ],
   "source": [
    "s10.issubset(s8)"
   ]
  },
  {
   "cell_type": "code",
   "execution_count": 11,
   "id": "96f161dd-4547-431d-a1a2-e4292c826608",
   "metadata": {},
   "outputs": [],
   "source": [
    "a=[1,2,3,4,5,6,7,8]"
   ]
  },
  {
   "cell_type": "code",
   "execution_count": 12,
   "id": "b4a51c23-67b4-47ad-883d-44eeeb713f90",
   "metadata": {},
   "outputs": [
    {
     "data": {
      "text/plain": [
       "6"
      ]
     },
     "execution_count": 12,
     "metadata": {},
     "output_type": "execute_result"
    }
   ],
   "source": [
    "a.index(7)"
   ]
  },
  {
   "cell_type": "code",
   "execution_count": 14,
   "id": "4bc5cc33-5885-4864-a5a9-9c3db6752004",
   "metadata": {},
   "outputs": [],
   "source": [
    "a.extend('10')"
   ]
  },
  {
   "cell_type": "code",
   "execution_count": 15,
   "id": "2c1af4b8-a36a-4b9b-b0fb-2c33dbbe5fbc",
   "metadata": {},
   "outputs": [
    {
     "data": {
      "text/plain": [
       "[1, 2, 3, 4, 5, 6, 7, 8, '1', '0']"
      ]
     },
     "execution_count": 15,
     "metadata": {},
     "output_type": "execute_result"
    }
   ],
   "source": [
    "a"
   ]
  },
  {
   "cell_type": "code",
   "execution_count": 16,
   "id": "1ccd75a0-6d79-42cd-a59b-d6ad145077aa",
   "metadata": {},
   "outputs": [],
   "source": [
    "a.reverse()"
   ]
  },
  {
   "cell_type": "code",
   "execution_count": 17,
   "id": "44cca896-89a8-4675-9bf7-e6ba4ef7aaa6",
   "metadata": {},
   "outputs": [
    {
     "data": {
      "text/plain": [
       "['0', '1', 8, 7, 6, 5, 4, 3, 2, 1]"
      ]
     },
     "execution_count": 17,
     "metadata": {},
     "output_type": "execute_result"
    }
   ],
   "source": [
    "a"
   ]
  },
  {
   "cell_type": "code",
   "execution_count": 18,
   "id": "03e18abc-3a45-4612-801d-053375b58bb2",
   "metadata": {},
   "outputs": [
    {
     "ename": "TypeError",
     "evalue": "'<' not supported between instances of 'int' and 'str'",
     "output_type": "error",
     "traceback": [
      "\u001b[0;31m---------------------------------------------------------------------------\u001b[0m",
      "\u001b[0;31mTypeError\u001b[0m                                 Traceback (most recent call last)",
      "Cell \u001b[0;32mIn[18], line 1\u001b[0m\n\u001b[0;32m----> 1\u001b[0m \u001b[43ma\u001b[49m\u001b[38;5;241;43m.\u001b[39;49m\u001b[43msort\u001b[49m\u001b[43m(\u001b[49m\u001b[43m)\u001b[49m\n",
      "\u001b[0;31mTypeError\u001b[0m: '<' not supported between instances of 'int' and 'str'"
     ]
    }
   ],
   "source": [
    "a.sort()"
   ]
  },
  {
   "cell_type": "code",
   "execution_count": 19,
   "id": "e88b5ce0-3477-40bc-a64a-bc420f5d001c",
   "metadata": {},
   "outputs": [
    {
     "name": "stdin",
     "output_type": "stream",
     "text": [
      "Do you want to enter student details:  Press Y/N  Y\n",
      "enter student's roll no 10\n",
      "enter student's name pooja\n",
      "Do you want to enter more details: Press Y/N  N\n"
     ]
    },
    {
     "name": "stdout",
     "output_type": "stream",
     "text": [
      "[10, 'pooja']\n"
     ]
    }
   ],
   "source": [
    "student=[]\n",
    "res=input(\"Do you want to enter student details:  Press Y/N \")\n",
    "while res=='Y':\n",
    "    rollno=int(input(\"enter student's roll no\"))\n",
    "    name=input(\"enter student's name\")\n",
    "    student.append(rollno)\n",
    "    student.append(name)\n",
    "    res=input(\"Do you want to enter more details: Press Y/N \")\n",
    "print(student)"
   ]
  },
  {
   "cell_type": "code",
   "execution_count": 20,
   "id": "7469d769-841e-4e22-8c70-e0184387caa2",
   "metadata": {},
   "outputs": [
    {
     "name": "stdin",
     "output_type": "stream",
     "text": [
      "want to insert data?:press y/n y\n",
      "enter salary of employee 200000000\n",
      "enter name of employee qwerty\n",
      "do you want yo insert more data: press y/n y\n",
      "enter salary of employee 2345667\n",
      "enter name of employee tyuiop\n",
      "do you want yo insert more data: press y/n n\n"
     ]
    },
    {
     "name": "stdout",
     "output_type": "stream",
     "text": [
      "[200000000, 'qwerty', 2345667, 'tyuiop']\n"
     ]
    }
   ],
   "source": [
    "employee=[]\n",
    "res=input(\"want to insert data?:press y/n\")\n",
    "while res=='y':\n",
    "    salary=int(input(\"enter salary of employee\"))\n",
    "    name=input(\"enter name of employee\")\n",
    "    employee.append(salary)\n",
    "    employee.append(name)\n",
    "    res=input(\"do you want yo insert more data: press y/n\")\n",
    "print(employee)"
   ]
  },
  {
   "cell_type": "code",
   "execution_count": 21,
   "id": "2af15d8d-f639-4a04-9570-079fb4de6367",
   "metadata": {},
   "outputs": [],
   "source": [
    "l1=[1,2,3]\n",
    "l2=[4,5,6]\n",
    "l3=[7,8,9]"
   ]
  },
  {
   "cell_type": "code",
   "execution_count": 22,
   "id": "92ad9031-cf2f-4f2b-ad55-b6c961fdc59d",
   "metadata": {},
   "outputs": [],
   "source": [
    "matrix=[l1,l2,l3]"
   ]
  },
  {
   "cell_type": "code",
   "execution_count": 23,
   "id": "1bdda63d-1186-4d60-9c3f-2bab2698fa02",
   "metadata": {},
   "outputs": [
    {
     "data": {
      "text/plain": [
       "[[4, 5, 6], [7, 8, 9]]"
      ]
     },
     "execution_count": 23,
     "metadata": {},
     "output_type": "execute_result"
    }
   ],
   "source": [
    "matrix[1:]"
   ]
  },
  {
   "cell_type": "code",
   "execution_count": 24,
   "id": "cdc437e4-2487-432f-ac74-d90f3c4db46e",
   "metadata": {},
   "outputs": [
    {
     "data": {
      "text/plain": [
       "[[1, 2, 3]]"
      ]
     },
     "execution_count": 24,
     "metadata": {},
     "output_type": "execute_result"
    }
   ],
   "source": [
    "matrix[0:][::3]"
   ]
  },
  {
   "cell_type": "code",
   "execution_count": 26,
   "id": "7c3748e3-df78-417b-886f-4244b21d7219",
   "metadata": {},
   "outputs": [
    {
     "data": {
      "text/plain": [
       "[1, 2, 3, 4, 5, 6, 7, 8, 9]"
      ]
     },
     "execution_count": 26,
     "metadata": {},
     "output_type": "execute_result"
    }
   ],
   "source": [
    "[j for i in matrix for j in i]"
   ]
  },
  {
   "cell_type": "code",
   "execution_count": 27,
   "id": "230585e7-1b96-44e4-b785-83ce0a4de7d8",
   "metadata": {},
   "outputs": [
    {
     "name": "stdin",
     "output_type": "stream",
     "text": [
      "Enter rollno  56\n",
      "enter name  qwerty\n"
     ]
    },
    {
     "data": {
      "text/plain": [
       "{'rollno': 56, 'name': 'qwerty'}"
      ]
     },
     "execution_count": 27,
     "metadata": {},
     "output_type": "execute_result"
    }
   ],
   "source": [
    "diction={}\n",
    "roll={}\n",
    "rn=int(input(\"Enter rollno \"))\n",
    "name=input(\"enter name \")\n",
    "diction[\"rollno\"]=rn\n",
    "diction[\"name\"]=name\n",
    "diction"
   ]
  },
  {
   "cell_type": "code",
   "execution_count": 29,
   "id": "8f7ed377-0a26-4024-aacc-e0de5d658349",
   "metadata": {},
   "outputs": [],
   "source": [
    "list1=[1,2,3,4,5,6,7,8,9,10]"
   ]
  },
  {
   "cell_type": "code",
   "execution_count": 30,
   "id": "e36c1c21-16f7-480f-acc4-ae3886e97be5",
   "metadata": {},
   "outputs": [
    {
     "name": "stdout",
     "output_type": "stream",
     "text": [
      "10\n",
      "1\n"
     ]
    }
   ],
   "source": [
    "l=len(list1)\n",
    "min1=0\n",
    "for i in range(0,l-1):\n",
    "    if list1[i]<list1[i+1]:\n",
    "        max1=list1[i+1]\n",
    "        list1[i+1]=list1[i]\n",
    "        list1[i]=max1\n",
    "print(max1)\n",
    "for i in range(0,l-1):\n",
    "    if list1[i]>list1[i+1]:\n",
    "        min1=list1[i+1]\n",
    "        list1[i+1]=list1[i]\n",
    "        list1[i]=min1\n",
    "print(min1)"
   ]
  },
  {
   "cell_type": "code",
   "execution_count": 31,
   "id": "6665a804-7f23-4c64-805d-56b06f553bb1",
   "metadata": {},
   "outputs": [
    {
     "name": "stdout",
     "output_type": "stream",
     "text": [
      "10\n",
      "1\n"
     ]
    }
   ],
   "source": [
    "print(max(list1))\n",
    "print(min(list1))"
   ]
  },
  {
   "cell_type": "code",
   "execution_count": 32,
   "id": "463e5aa3-5598-44d7-aa64-cda1a7788205",
   "metadata": {},
   "outputs": [
    {
     "name": "stdout",
     "output_type": "stream",
     "text": [
      "Alpha count  15 Upper count  3 Lower count 12 Digit count 3 Special count 0 Space Count\n"
     ]
    }
   ],
   "source": [
    "name='RajShekhar Singh 123 @'\n",
    "a_count=0\n",
    "u_count=0\n",
    "l_count=0\n",
    "d_count=0\n",
    "for i in name:\n",
    "    if i.isalpha():\n",
    "        a_count=a_count+1\n",
    "    if i.isupper():\n",
    "        u_count=u_count+1\n",
    "    if i.islower():\n",
    "        l_count=l_count+1\n",
    "    if i.isdigit():\n",
    "        d_count=d_count+1\n",
    "print(\"Alpha count \",a_count,\"Upper count \",u_count,\"Lower count\",l_count,\"Digit count\",d_count,\"Special count\",0,\"Space Count\",)"
   ]
  },
  {
   "cell_type": "code",
   "execution_count": 33,
   "id": "2c756988-8428-487e-bb66-0c44ad0f6920",
   "metadata": {},
   "outputs": [
    {
     "name": "stdin",
     "output_type": "stream",
     "text": [
      "enter first number 10\n",
      "enter second digit 56\n"
     ]
    },
    {
     "name": "stdout",
     "output_type": "stream",
     "text": [
      "10 is lesser\n"
     ]
    }
   ],
   "source": [
    "def minimum(num1,num2): \n",
    "        if(num1>num2):\n",
    "            print(f\"{num1} is greater than {num2}\")\n",
    "        elif(num1<num2):\n",
    "            print(f\"{num1} is lesser\")\n",
    "num1=int(input(\"enter first number\"))\n",
    "num2=int(input(\"enter second digit\"))\n",
    "minimum(num1,num2)"
   ]
  },
  {
   "cell_type": "code",
   "execution_count": null,
   "id": "2d0b03fe-59ed-47cd-a011-9dd9f401645a",
   "metadata": {},
   "outputs": [],
   "source": [
    "def square(num):\n",
    "    for i in range(0,num,2):\n",
    "        print(i,\"=\",i*i)\n",
    "        \n",
    "num=int(input(\"Enter number \"))\n",
    "square(num)\n"
   ]
  },
  {
   "cell_type": "code",
   "execution_count": null,
   "id": "a905e1db-3b67-4f4d-b6c4-f2791bf76dac",
   "metadata": {},
   "outputs": [],
   "source": []
  }
 ],
 "metadata": {
  "kernelspec": {
   "display_name": "Python 3 (ipykernel)",
   "language": "python",
   "name": "python3"
  },
  "language_info": {
   "codemirror_mode": {
    "name": "ipython",
    "version": 3
   },
   "file_extension": ".py",
   "mimetype": "text/x-python",
   "name": "python",
   "nbconvert_exporter": "python",
   "pygments_lexer": "ipython3",
   "version": "3.10.8"
  }
 },
 "nbformat": 4,
 "nbformat_minor": 5
}
