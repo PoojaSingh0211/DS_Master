{
 "cells": [
  {
   "cell_type": "code",
   "execution_count": 1,
   "id": "0901d973-826a-4aa7-b221-c4042d29d05c",
   "metadata": {},
   "outputs": [],
   "source": [
    "a=\"12345\""
   ]
  },
  {
   "cell_type": "code",
   "execution_count": 2,
   "id": "11c8ac07-5e38-4d9f-96a3-6f202d779a58",
   "metadata": {},
   "outputs": [
    {
     "data": {
      "text/plain": [
       "str"
      ]
     },
     "execution_count": 2,
     "metadata": {},
     "output_type": "execute_result"
    }
   ],
   "source": [
    "type(a)"
   ]
  },
  {
   "cell_type": "code",
   "execution_count": 3,
   "id": "8b4d8512-69ee-45ed-8d1f-a3afcb867bd3",
   "metadata": {},
   "outputs": [
    {
     "name": "stdout",
     "output_type": "stream",
     "text": [
      "<class 'str'>\n"
     ]
    }
   ],
   "source": [
    "print(type(a))"
   ]
  },
  {
   "cell_type": "code",
   "execution_count": 4,
   "id": "0e0b0c04-9403-4da9-b6d6-2477680330f0",
   "metadata": {},
   "outputs": [],
   "source": [
    "class Test:\n",
    "    pass"
   ]
  },
  {
   "cell_type": "code",
   "execution_count": 5,
   "id": "df4450d4-a506-4b8b-9c37-c031d49fb899",
   "metadata": {},
   "outputs": [],
   "source": [
    "b=Test()"
   ]
  },
  {
   "cell_type": "code",
   "execution_count": 6,
   "id": "841fb553-48b7-46f4-b683-414210df2e89",
   "metadata": {},
   "outputs": [
    {
     "data": {
      "text/plain": [
       "__main__.Test"
      ]
     },
     "execution_count": 6,
     "metadata": {},
     "output_type": "execute_result"
    }
   ],
   "source": [
    "type(b)"
   ]
  },
  {
   "cell_type": "code",
   "execution_count": 13,
   "id": "528fba06-e4b3-41c1-891a-cf2edec33732",
   "metadata": {},
   "outputs": [
    {
     "name": "stdout",
     "output_type": "stream",
     "text": [
      "method_Sample_1\n",
      "method_Sample_2\n"
     ]
    }
   ],
   "source": [
    "class Sample_1:\n",
    "    def method_Sample_1(self):\n",
    "        return \"method_Sample_1\"\n",
    "    def method_Sample_2(self):\n",
    "        return \"method_Sample_2\"\n",
    "s1=Sample_1()\n",
    "print(s1.method_Sample_1())\n",
    "s2=Sample_1()\n",
    "print(s2.method_Sample_2())"
   ]
  },
  {
   "cell_type": "code",
   "execution_count": 19,
   "id": "25d035a3-ce82-462b-95b3-702d6e7ba4c4",
   "metadata": {},
   "outputs": [
    {
     "name": "stdin",
     "output_type": "stream",
     "text": [
      "Input integer 1:  1\n",
      "Input integer 2:  2\n"
     ]
    },
    {
     "name": "stdout",
     "output_type": "stream",
     "text": [
      "3\n"
     ]
    },
    {
     "name": "stdin",
     "output_type": "stream",
     "text": [
      "Enter your name  pooja\n"
     ]
    },
    {
     "name": "stdout",
     "output_type": "stream",
     "text": [
      "pooja\n"
     ]
    }
   ],
   "source": [
    "class Sample_1:\n",
    "    def returnAddition(self,num1,num2):\n",
    "        return num1+num2\n",
    "    def returnName(self,name):\n",
    "        return name\n",
    "a=int(input(\"Input integer 1: \"))\n",
    "b=int(input(\"Input integer 2: \"))\n",
    "s1=Sample_1()\n",
    "print(s1.returnAddition(a,b))\n",
    "n=input(\"Enter your name \")\n",
    "print(s1.returnName(n))"
   ]
  },
  {
   "cell_type": "markdown",
   "id": "da7d487b-6b6c-4aa4-b390-e6b243b9d142",
   "metadata": {},
   "source": [
    "# Contructor"
   ]
  },
  {
   "cell_type": "code",
   "execution_count": 27,
   "id": "7de0f02b-c6fd-4d35-8b55-2830a7b0c8dc",
   "metadata": {},
   "outputs": [
    {
     "name": "stdin",
     "output_type": "stream",
     "text": [
      "Enter phone number  1233\n",
      "Enter Address  dewfew\n",
      "Enter ID number  23\n"
     ]
    },
    {
     "data": {
      "text/plain": [
       "(1233, 'dewfew', 23)"
      ]
     },
     "execution_count": 27,
     "metadata": {},
     "output_type": "execute_result"
    }
   ],
   "source": [
    "class ContructorDemo:\n",
    "    def __init__(self,phone,address,id1):\n",
    "        self.phone=phone\n",
    "        self.address=address\n",
    "        self.id1=id1\n",
    "    \n",
    "    def show_details(self):\n",
    "        return self.phone,self.address,self.id1\n",
    "    \n",
    "p=int(input(\"Enter phone number \"))\n",
    "a=input(\"Enter Address \")\n",
    "i=int(input(\"Enter ID number \"))\n",
    "c1=ContructorDemo(p,a,i)\n",
    "c1.show_details()"
   ]
  },
  {
   "cell_type": "code",
   "execution_count": 28,
   "id": "f0f077c5-f962-463d-9625-345146331888",
   "metadata": {},
   "outputs": [
    {
     "data": {
      "text/plain": [
       "1233"
      ]
     },
     "execution_count": 28,
     "metadata": {},
     "output_type": "execute_result"
    }
   ],
   "source": [
    "c1.phone"
   ]
  },
  {
   "cell_type": "code",
   "execution_count": 29,
   "id": "fd06c2d8-c2f6-4252-b2ea-02d0dd8749f9",
   "metadata": {},
   "outputs": [
    {
     "data": {
      "text/plain": [
       "23"
      ]
     },
     "execution_count": 29,
     "metadata": {},
     "output_type": "execute_result"
    }
   ],
   "source": [
    "c1.id1"
   ]
  },
  {
   "cell_type": "code",
   "execution_count": 30,
   "id": "b0604451-d81f-4ce6-ad57-a753b57d6b58",
   "metadata": {},
   "outputs": [],
   "source": [
    "# WAPP to show Book,Name,Author,Title,Price using Class"
   ]
  },
  {
   "cell_type": "code",
   "execution_count": 37,
   "id": "545606aa-1198-4777-8a8e-c2e8a4bd0c71",
   "metadata": {},
   "outputs": [
    {
     "name": "stdin",
     "output_type": "stream",
     "text": [
      "Enter book name  Python\n",
      "Enter author  PW\n",
      "Book Price  3200\n"
     ]
    },
    {
     "data": {
      "text/plain": [
       "('Python', 'PW', 3200)"
      ]
     },
     "execution_count": 37,
     "metadata": {},
     "output_type": "execute_result"
    }
   ],
   "source": [
    "class Book:\n",
    "    def __init__(self,bookname,bookauthor,bookprice):\n",
    "        self.bookname=bookname\n",
    "        self.bookauthor=bookauthor\n",
    "        self.bookprice=bookprice\n",
    "    def show(self):\n",
    "        return self.bookname,self.bookauthor,self.bookprice\n",
    "n,a,p=[],[],[]\n",
    "name=input(\"Enter book name \")\n",
    "author=input(\"Enter author \")\n",
    "price=int(input(\"Book Price \"))\n",
    "b1=Book(name,author,price)\n",
    "b1.show()"
   ]
  },
  {
   "cell_type": "code",
   "execution_count": 41,
   "id": "6397f946-f50d-4ac3-8cc8-fa608516dd09",
   "metadata": {},
   "outputs": [
    {
     "name": "stdin",
     "output_type": "stream",
     "text": [
      "Do you want to enter book info: press y/n  y\n",
      "Enter book name  Python\n",
      "Enter author  PW\n",
      "Book Price  3200\n",
      "Do you want to enter more book info: press y/n  y\n",
      "Enter book name  Java\n",
      "Enter author  3500\n",
      "Book Price  3500\n",
      "Do you want to enter more book info: press y/n  n\n"
     ]
    },
    {
     "data": {
      "text/plain": [
       "(['Python', 'Java'], ['PW', '3500'], [3200, 3500])"
      ]
     },
     "execution_count": 41,
     "metadata": {},
     "output_type": "execute_result"
    }
   ],
   "source": [
    "class Book:\n",
    "    def __init__(self,bookname,bookauthor,bookprice):\n",
    "        self.bookname=bookname\n",
    "        self.bookauthor=bookauthor\n",
    "        self.bookprice=bookprice\n",
    "    def show(self):\n",
    "        return self.bookname,self.bookauthor,self.bookprice\n",
    "n,a,p=[],[],[]\n",
    "res=input(\"Do you want to enter book info: press y/n \")\n",
    "while res=='y':\n",
    "    name=input(\"Enter book name \")\n",
    "    author=input(\"Enter author \")\n",
    "    price=int(input(\"Book Price \"))\n",
    "    n.append(name)\n",
    "    a.append(author)\n",
    "    p.append(price)\n",
    "    res=input(\"Do you want to enter more book info: press y/n \")\n",
    "b1=Book(n,a,p)\n",
    "b1.show()"
   ]
  },
  {
   "cell_type": "code",
   "execution_count": 43,
   "id": "cfd7f758-766c-49d6-b52a-b5d53c37bf1d",
   "metadata": {},
   "outputs": [
    {
     "name": "stdin",
     "output_type": "stream",
     "text": [
      "Do you want to enter book info: press y/n  y\n",
      "Enter book name  Python\n",
      "Enter author  PW\n",
      "Book Price  3200\n",
      "Do you want to enter more book info: press y/n  Java\n"
     ]
    },
    {
     "data": {
      "text/plain": [
       "(['Python'], ['PW'], [3200])"
      ]
     },
     "execution_count": 43,
     "metadata": {},
     "output_type": "execute_result"
    }
   ],
   "source": [
    "class Book:\n",
    "    def __init__(self,bookname,bookauthor,bookprice):\n",
    "        self.bookname=bookname\n",
    "        self.bookauthor=bookauthor\n",
    "        self.bookprice=bookprice\n",
    "    def show(self):\n",
    "        return self.bookname,self.bookauthor,self.bookprice\n",
    "n,a,p=[],[],[]\n",
    "res=input(\"Do you want to enter book info: press y/n \")\n",
    "while res=='y':\n",
    "    name=input(\"Enter book name \")\n",
    "    author=input(\"Enter author \")\n",
    "    price=int(input(\"Book Price \"))\n",
    "    n.append(name)\n",
    "    a.append(author)\n",
    "    p.append(price)\n",
    "    res=input(\"Do you want to enter more book info: press y/n \")\n",
    "b1=Book(n,a,p)\n",
    "b1.show()"
   ]
  },
  {
   "cell_type": "code",
   "execution_count": 44,
   "id": "f3ea9e09-b236-4e04-ae93-aa7c9c694a0f",
   "metadata": {},
   "outputs": [
    {
     "name": "stdin",
     "output_type": "stream",
     "text": [
      "Do you want to enter book info: press y/n  y\n",
      "Enter book name  java\n",
      "Enter author  pw\n",
      "Book Price  3500\n",
      "Do you want to enter more book info: press y/n  y\n",
      "Enter book name  python\n",
      "Enter author  pw\n",
      "Book Price  3200\n",
      "Do you want to enter more book info: press y/n  y\n",
      "Enter book name  Data Science\n",
      "Enter author  pw\n",
      "Book Price  3500\n",
      "Do you want to enter more book info: press y/n  n\n"
     ]
    },
    {
     "data": {
      "text/plain": [
       "(['java', 'python', 'Data Science'], ['pw', 'pw', 'pw'], [3500, 3200, 3500])"
      ]
     },
     "execution_count": 44,
     "metadata": {},
     "output_type": "execute_result"
    }
   ],
   "source": [
    "class Book:\n",
    "    def __init__(self,bookname,bookauthor,bookprice):\n",
    "        self.bookname=bookname\n",
    "        self.bookauthor=bookauthor\n",
    "        self.bookprice=bookprice\n",
    "    def show(self):\n",
    "        return self.bookname,self.bookauthor,self.bookprice\n",
    "n,a,p=[],[],[]\n",
    "res=input(\"Do you want to enter book info: press y/n \")\n",
    "while res=='y':\n",
    "    name=input(\"Enter book name \")\n",
    "    author=input(\"Enter author \")\n",
    "    price=int(input(\"Book Price \"))\n",
    "    n.append(name)\n",
    "    a.append(author)\n",
    "    p.append(price)\n",
    "    res=input(\"Do you want to enter more book info: press y/n \")\n",
    "b1=Book(n,a,p)\n",
    "b1.show()"
   ]
  },
  {
   "cell_type": "code",
   "execution_count": 47,
   "id": "e15801ce-2e09-4279-a919-8836be184c4b",
   "metadata": {},
   "outputs": [
    {
     "name": "stdin",
     "output_type": "stream",
     "text": [
      "Do you want to enter book info: press y/n  y\n",
      "Enter book name  Python\n",
      "Enter author  pw\n",
      "Book Price  3200\n",
      "Do you want to enter more book info: press y/n  y\n",
      "Enter book name  Java\n",
      "Enter author  pw\n",
      "Book Price  3500\n",
      "Do you want to enter more book info: press y/n  n\n"
     ]
    },
    {
     "data": {
      "text/plain": [
       "('Cheapest price is ', 3200)"
      ]
     },
     "execution_count": 47,
     "metadata": {},
     "output_type": "execute_result"
    }
   ],
   "source": [
    "class Book:\n",
    "    def __init__(self,bookname,bookauthor,bookprice):\n",
    "        self.bookname=bookname\n",
    "        self.bookauthor=bookauthor\n",
    "        self.bookprice=bookprice\n",
    "    def show(self):\n",
    "        return self.bookname,self.bookauthor,self.bookprice\n",
    "    def cheapbook(self):\n",
    "        return \"Cheapest price is \",min(self.bookprice)\n",
    "n,a,p=[],[],[]\n",
    "res=input(\"Do you want to enter book info: press y/n \")\n",
    "while res=='y':\n",
    "    name=input(\"Enter book name \")\n",
    "    author=input(\"Enter author \")\n",
    "    price=int(input(\"Book Price \"))\n",
    "    n.append(name)\n",
    "    a.append(author)\n",
    "    p.append(price)\n",
    "    res=input(\"Do you want to enter more book info: press y/n \")\n",
    "b1=Book(n,a,p)\n",
    "b1.show()\n",
    "b1.cheapbook()"
   ]
  },
  {
   "cell_type": "code",
   "execution_count": null,
   "id": "c1ff2115-0ee2-4726-9ea7-6113319f0880",
   "metadata": {},
   "outputs": [],
   "source": []
  },
  {
   "cell_type": "code",
   "execution_count": null,
   "id": "910d632b-4392-4044-af08-7d0ad36357cb",
   "metadata": {},
   "outputs": [],
   "source": []
  },
  {
   "cell_type": "code",
   "execution_count": null,
   "id": "17b408cd-875d-478e-9f5e-c613ecab8fa6",
   "metadata": {},
   "outputs": [],
   "source": []
  },
  {
   "cell_type": "code",
   "execution_count": null,
   "id": "a79cfad2-8c3a-450c-a2f3-3c0950deb08f",
   "metadata": {},
   "outputs": [],
   "source": []
  },
  {
   "cell_type": "code",
   "execution_count": null,
   "id": "be8cc0c1-0786-4b18-a7de-28aca3aac471",
   "metadata": {},
   "outputs": [],
   "source": []
  },
  {
   "cell_type": "code",
   "execution_count": null,
   "id": "b5922351-79c7-4015-871c-b287dee023b9",
   "metadata": {},
   "outputs": [],
   "source": []
  },
  {
   "cell_type": "code",
   "execution_count": null,
   "id": "9c15bb3e-1b8b-4041-800e-34026007d15d",
   "metadata": {},
   "outputs": [],
   "source": []
  },
  {
   "cell_type": "code",
   "execution_count": null,
   "id": "4120c157-6e15-465a-8b5f-2f6e127c5011",
   "metadata": {},
   "outputs": [],
   "source": []
  },
  {
   "cell_type": "code",
   "execution_count": null,
   "id": "dd443f50-2fd3-4d4e-8319-7cc72d9b1921",
   "metadata": {},
   "outputs": [],
   "source": []
  }
 ],
 "metadata": {
  "kernelspec": {
   "display_name": "Python 3 (ipykernel)",
   "language": "python",
   "name": "python3"
  },
  "language_info": {
   "codemirror_mode": {
    "name": "ipython",
    "version": 3
   },
   "file_extension": ".py",
   "mimetype": "text/x-python",
   "name": "python",
   "nbconvert_exporter": "python",
   "pygments_lexer": "ipython3",
   "version": "3.10.8"
  }
 },
 "nbformat": 4,
 "nbformat_minor": 5
}
