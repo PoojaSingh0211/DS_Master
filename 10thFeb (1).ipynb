{
 "cells": [
  {
   "cell_type": "code",
   "execution_count": 1,
   "id": "2de4aab2-87e8-45f9-9be2-3430f1f91cc9",
   "metadata": {},
   "outputs": [],
   "source": [
    "# Which function is used to open a file? What are the different modes of opening a file? Explain each mode of file opening."
   ]
  },
  {
   "cell_type": "code",
   "execution_count": 2,
   "id": "f7a03f15-394d-40c3-a9df-44cab19e121e",
   "metadata": {},
   "outputs": [
    {
     "name": "stdin",
     "output_type": "stream",
     "text": [
      "Enter File name  Test1.txt\n"
     ]
    },
    {
     "name": "stdout",
     "output_type": "stream",
     "text": [
      "Test1.txt  got created.\n"
     ]
    }
   ],
   "source": [
    "import os\n",
    "filename=input(\"Enter File name \")\n",
    "if os.path.exists(filename):\n",
    "\tprint(filename,\" already exist.\")\n",
    "else:\n",
    "\tf=None\n",
    "\ttry:\n",
    "\t\tf=open(filename,\"w\")\n",
    "\t\tprint(filename,\" got created.\")\n",
    "\texcept Exception as e:\n",
    "\t\tprint(\"Issue \",e)\n",
    "\tfinally:\n",
    "\t\tif f is not None:\n",
    "\t\t\tf.close()"
   ]
  },
  {
   "cell_type": "code",
   "execution_count": 3,
   "id": "7495974c-4a6b-46c6-a4bb-db8bac3e325d",
   "metadata": {},
   "outputs": [
    {
     "name": "stdin",
     "output_type": "stream",
     "text": [
      "Enter source file name :  Test1.txt\n",
      "Enter dest filename:  Test2.txt\n"
     ]
    },
    {
     "name": "stdout",
     "output_type": "stream",
     "text": [
      "Copy Completed!!!\n"
     ]
    }
   ],
   "source": [
    "import os\n",
    "src_filename=input(\"Enter source file name : \")\n",
    "if os.path.isfile(src_filename):\n",
    "\tdes_filename=input(\"Enter dest filename: \")\n",
    "\ttry:\n",
    "\t\twith open(src_filename,\"r\") as src_f:\n",
    "\t\t\twith open(des_filename,\"w\") as des_f:\n",
    "\t\t\t\tdata=src_f.read()\n",
    "\t\t\t\tdes_f.write(data)\n",
    "\t\t\t\tprint(\"Copy Completed!!!\")\n",
    "\texcept Exception as e:\n",
    "\t\tprint(\"Issue \",e)\n",
    "else:\n",
    "\tprint(src_filename,\" does not exist\")"
   ]
  },
  {
   "cell_type": "code",
   "execution_count": 4,
   "id": "755d2ce3-a305-492a-858d-f067e1891b28",
   "metadata": {},
   "outputs": [
    {
     "name": "stdin",
     "output_type": "stream",
     "text": [
      "Enter File name  Test1.txt\n",
      "Enter something in file :  Data Science Masters\n"
     ]
    }
   ],
   "source": [
    "import os\n",
    "filename=input(\"Enter File name \")\n",
    "if os.path.exists(filename):\n",
    "\tf=None\n",
    "\ttry:\n",
    "\t\tf=open(filename,\"w\")\n",
    "\t\tdata=input(\"Enter something in file : \")\n",
    "\t\tf.write(data+\"\\n\")\n",
    "\texcept Exception as e:\n",
    "\t\tprint(\"Issue \",e)\n",
    "\tfinally:\n",
    "\t\tif f is not None:\n",
    "\t\t\tf.close()\n",
    "else:\n",
    "\tprint(filename,\" does not exist.\")"
   ]
  },
  {
   "cell_type": "code",
   "execution_count": 5,
   "id": "09e7dd88-54ee-4240-a79a-930fa63cc261",
   "metadata": {},
   "outputs": [
    {
     "name": "stdin",
     "output_type": "stream",
     "text": [
      "Enter File name  Test1.txt\n"
     ]
    },
    {
     "name": "stdout",
     "output_type": "stream",
     "text": [
      "Data Science Masters\n",
      "\n"
     ]
    }
   ],
   "source": [
    "import os\n",
    "filename=input(\"Enter File name \")\n",
    "if os.path.exists(filename):\n",
    "    f=None\n",
    "    try:\n",
    "        f=open(filename,\"r\")\n",
    "        data=f.read()\n",
    "        print(data)\n",
    "    except Exception as e:\n",
    "        print(\"Issue \",e)\n",
    "    finally:\n",
    "        if f is not None:\n",
    "            f.close()\n",
    "else:\n",
    "    print(filename,\" does not exist.\")"
   ]
  },
  {
   "cell_type": "code",
   "execution_count": 6,
   "id": "4d0f58e7-93fe-4631-96fa-df95642d9765",
   "metadata": {},
   "outputs": [],
   "source": [
    "# Q2. Why close() function is used? Why is it important to close a file?"
   ]
  },
  {
   "cell_type": "code",
   "execution_count": 9,
   "id": "2d7b4cf3-61e3-4bb4-aaeb-ed0c9ff5182e",
   "metadata": {},
   "outputs": [],
   "source": [
    "# 1 If the file has any sort of buffering behind it it and you don't call close then you could potentially lose data.\n",
    "# 2 If the OS has limited resources (e.g. number of open files) then by not closing files you are wasting system resources.\n",
    "# 3 Using a descriptor once the file is closed is pointless at best, massive bug at worst (a bit like using memory after it has been freed)"
   ]
  },
  {
   "cell_type": "code",
   "execution_count": 8,
   "id": "c863228a-5bce-4fc8-9c5a-e0e0a56a0e69",
   "metadata": {},
   "outputs": [],
   "source": [
    "# Q3. Write a python program to create a text file. Write ‘I want to become a Data Scientist’ in that file. Then close the file. Open this file and read the content of the file."
   ]
  },
  {
   "cell_type": "code",
   "execution_count": 38,
   "id": "fa7f68f7-7252-4608-b788-5486fae372bb",
   "metadata": {},
   "outputs": [
    {
     "name": "stdin",
     "output_type": "stream",
     "text": [
      "Enter 1 to write into file\n",
      "Enter 2 to read from file\n",
      " 1\n",
      "Enter file name:  xyz.txt\n",
      "Enter something to write in file:  Data Scientist\n"
     ]
    },
    {
     "name": "stdout",
     "output_type": "stream",
     "text": [
      "Data Scientist  is writter in file\n"
     ]
    }
   ],
   "source": [
    "import os\n",
    "def inputFile():\n",
    "    filename=input(\"Enter file name: \")\n",
    "    if os.path.exists(filename):\n",
    "        f=None\n",
    "        try:\n",
    "            f=open(filename,\"w\")\n",
    "            value=input(\"Enter something to write in file: \")\n",
    "            f.write(value+\"\\n\")\n",
    "            print(value,\" is writter in file\")\n",
    "        except Exception as e:\n",
    "            print(\"Issue \",e)\n",
    "        finally:\n",
    "            if f is not None:\n",
    "                f.close()\n",
    "    else:\n",
    "        print(filename,\" does not Exist.\")\n",
    "def outputFile():\n",
    "    filename=input(\"Enter file name: \")\n",
    "    if os.path.exists(filename):\n",
    "        f=None\n",
    "        try:\n",
    "            f=open(filename,\"w\")\n",
    "            value=f.read()\n",
    "            print(value)\n",
    "        except Exception as e:\n",
    "            print(\"Issue \",e)\n",
    "        finally:\n",
    "            if f is not None:\n",
    "                f.close()\n",
    "    else:\n",
    "        print(filename,\" does not Exist.\")\n",
    "def main():\n",
    "    op=int(input(\"Enter 1 to write into file\\nEnter 2 to read from file\\n\"))\n",
    "    if op==1:\n",
    "        inputFile()\n",
    "    elif op==2:\n",
    "        outputFile()\n",
    "    else:\n",
    "        print(\"Please choose correct option\")\n",
    "\n",
    "        \n",
    "main()"
   ]
  },
  {
   "cell_type": "code",
   "execution_count": 37,
   "id": "ea0f1b41-d9a1-4c6b-8e1d-2232aa388c11",
   "metadata": {},
   "outputs": [
    {
     "name": "stdin",
     "output_type": "stream",
     "text": [
      "Enter 1 to write into file\n",
      "Enter 2 to read from file\n",
      " 2\n",
      "Enter file name:  xyz.txt\n"
     ]
    },
    {
     "name": "stdout",
     "output_type": "stream",
     "text": [
      "I want to become data scienctist\n"
     ]
    }
   ],
   "source": [
    "import os\n",
    "def inputFile():\n",
    "    filename=input(\"Enter file name: \")\n",
    "    if os.path.exists(filename):\n",
    "        f=None\n",
    "        try:\n",
    "            f=open(filename,\"w\")\n",
    "            value=input(\"Enter something to write in file: \")\n",
    "            f.write(value+\"\\n\")\n",
    "            print(value,\" is writter in file\")\n",
    "        except Exception as e:\n",
    "            print(\"Issue \",e)\n",
    "        finally:\n",
    "            if f is not None:\n",
    "                f.close()\n",
    "    else:\n",
    "        print(filename,\" does not Exist.\")\n",
    "def outputFile():\n",
    "    filename=input(\"Enter file name: \")\n",
    "    if os.path.exists(filename):\n",
    "        f=None\n",
    "        try:\n",
    "            f=open(filename,\"r\")\n",
    "            value=f.read()\n",
    "            print(value)\n",
    "        except Exception as e:\n",
    "            print(\"Issue \",e)\n",
    "        finally:\n",
    "            if f is not None:\n",
    "                f.close()\n",
    "    else:\n",
    "        print(filename,\" does not Exist.\")\n",
    "def main():\n",
    "    op=int(input(\"Enter 1 to write into file\\nEnter 2 to read from file\\n\"))\n",
    "    if op==1:\n",
    "        inputFile()\n",
    "    elif op==2:\n",
    "        outputFile()\n",
    "    else:\n",
    "        print(\"Please choose correct option\")\n",
    "\n",
    "        \n",
    "main()\n"
   ]
  },
  {
   "cell_type": "code",
   "execution_count": 10,
   "id": "c17f03b5-88f8-4ca9-bc04-a9e59e750043",
   "metadata": {},
   "outputs": [],
   "source": [
    "# Q4. Explain the following with python code: read(), readline() and readlines()."
   ]
  },
  {
   "cell_type": "code",
   "execution_count": 40,
   "id": "cad4dcd3-135d-4285-b20b-590cc5a0ef7d",
   "metadata": {},
   "outputs": [
    {
     "name": "stdin",
     "output_type": "stream",
     "text": [
      "Enter file name:  xyz.txt\n"
     ]
    },
    {
     "name": "stdout",
     "output_type": "stream",
     "text": [
      "Data Scientist\n",
      "python developer\n",
      "java developer\n",
      "web developer\n",
      "system engineer\n",
      "\n"
     ]
    }
   ],
   "source": [
    "import os\n",
    "filename=input(\"Enter file name: \")\n",
    "if os.path.exists(filename):\n",
    "    f=None\n",
    "    try:\n",
    "        f=open(filename,\"r\")\n",
    "        value=f.read()\n",
    "        print(value)\n",
    "    except Exception as e:\n",
    "        print(\"Issue \",e)\n",
    "    finally:\n",
    "        if f is not None:\n",
    "            f.close()\n",
    "else:\n",
    "    print(filename,\" does not Exist.\")"
   ]
  },
  {
   "cell_type": "code",
   "execution_count": 41,
   "id": "87ebbe69-8c7d-433a-a657-d2ea3feefd30",
   "metadata": {},
   "outputs": [
    {
     "name": "stdin",
     "output_type": "stream",
     "text": [
      "Enter file name:  xyz.txt\n"
     ]
    },
    {
     "name": "stdout",
     "output_type": "stream",
     "text": [
      "Data Scientist\n",
      "\n"
     ]
    }
   ],
   "source": [
    "import os\n",
    "filename=input(\"Enter file name: \")\n",
    "if os.path.exists(filename):\n",
    "    f=None\n",
    "    try:\n",
    "        f=open(filename,\"r\")\n",
    "        value=f.readline()\n",
    "        print(value)\n",
    "    except Exception as e:\n",
    "        print(\"Issue \",e)\n",
    "    finally:\n",
    "        if f is not None:\n",
    "            f.close()\n",
    "else:\n",
    "    print(filename,\" does not Exist.\")"
   ]
  },
  {
   "cell_type": "code",
   "execution_count": 42,
   "id": "d727d801-dd14-4112-afc1-17f96c3fdd15",
   "metadata": {},
   "outputs": [
    {
     "name": "stdin",
     "output_type": "stream",
     "text": [
      "Enter file name:  xyz.txt\n"
     ]
    },
    {
     "name": "stdout",
     "output_type": "stream",
     "text": [
      "['Data Scientist\\n', 'python developer\\n', 'java developer\\n', 'web developer\\n', 'system engineer\\n']\n"
     ]
    }
   ],
   "source": [
    "import os\n",
    "filename=input(\"Enter file name: \")\n",
    "n=5\n",
    "if os.path.exists(filename):\n",
    "    f=None\n",
    "    try:\n",
    "        f=open(filename,\"r\")\n",
    "        value=f.readlines()\n",
    "        print(value)\n",
    "    except Exception as e:\n",
    "        print(\"Issue \",e)\n",
    "    finally:\n",
    "        if f is not None:\n",
    "            f.close()\n",
    "else:\n",
    "    print(filename,\" does not Exist.\")"
   ]
  },
  {
   "cell_type": "code",
   "execution_count": 11,
   "id": "a1cefa1d-6b5a-4c0f-ae27-6225662ed56f",
   "metadata": {},
   "outputs": [],
   "source": [
    "# readline() can be useful if you are doing processing and just want to access particular line, but in the examples we have gone over here, readlines() and read() typically give you more flexibility to work with files."
   ]
  },
  {
   "cell_type": "code",
   "execution_count": 45,
   "id": "27844613-60a4-4fdd-93d1-fc6b282578be",
   "metadata": {},
   "outputs": [
    {
     "name": "stdin",
     "output_type": "stream",
     "text": [
      "Enter file name:  xyz.txt\n"
     ]
    },
    {
     "name": "stdout",
     "output_type": "stream",
     "text": [
      "Scientist\n",
      "\n"
     ]
    }
   ],
   "source": [
    "import os\n",
    "filename=input(\"Enter file name: \")\n",
    "n=5\n",
    "if os.path.exists(filename):\n",
    "    f=None\n",
    "    try:\n",
    "        f=open(filename,\"r\")\n",
    "        value=f.readline()[n:]\n",
    "        print(value)\n",
    "    except Exception as e:\n",
    "        print(\"Issue \",e)\n",
    "    finally:\n",
    "        if f is not None:\n",
    "            f.close()\n",
    "else:\n",
    "    print(filename,\" does not Exist.\")"
   ]
  },
  {
   "cell_type": "code",
   "execution_count": 47,
   "id": "b699dd3c-a0c4-4a54-8945-c17575d234a4",
   "metadata": {},
   "outputs": [
    {
     "name": "stdin",
     "output_type": "stream",
     "text": [
      "Enter file name:  xyz.txt\n"
     ]
    },
    {
     "name": "stdout",
     "output_type": "stream",
     "text": [
      "['Data Scientist\\n', 'python developer\\n', 'java developer\\n', 'web developer\\n', 'system engineer\\n']\n"
     ]
    }
   ],
   "source": [
    "import os\n",
    "filename=input(\"Enter file name: \")\n",
    "n=5\n",
    "if os.path.exists(filename):\n",
    "    f=None\n",
    "    try:\n",
    "        f=open(filename,\"r\")\n",
    "        value=f.readlines()[-n:]\n",
    "        print(value)\n",
    "    except Exception as e:\n",
    "        print(\"Issue \",e)\n",
    "    finally:\n",
    "        if f is not None:\n",
    "            f.close()\n",
    "else:\n",
    "    print(filename,\" does not Exist.\")"
   ]
  },
  {
   "cell_type": "code",
   "execution_count": 12,
   "id": "5bdb84fb-791e-44b1-b767-a152638c61a9",
   "metadata": {},
   "outputs": [],
   "source": [
    "# Q5 Explain why with statement is used with open(). What is the advantage of using with statement and open() together?\n",
    "# If we have opened a file using “with statement” and an exception comes inside the execution block of “with statement”. Then file will be closed before control moves to the except block.\n",
    "# We don’t need to call the close() function even in case of exceptions, execution block of “with statement” handles that too and closes the file before exception handling"
   ]
  },
  {
   "cell_type": "code",
   "execution_count": 13,
   "id": "92c1c419-9802-4a93-95c0-9ee61d031fe3",
   "metadata": {},
   "outputs": [],
   "source": [
    "# Q6. Explain the write() and writelines() functions. Give a suitable example."
   ]
  },
  {
   "cell_type": "code",
   "execution_count": 14,
   "id": "85037046-dd31-4f68-89f1-404e8c2f88cc",
   "metadata": {},
   "outputs": [],
   "source": [
    "# Python file method writelines() writes a sequence of strings to the file."
   ]
  },
  {
   "cell_type": "code",
   "execution_count": 51,
   "id": "e0be8f0c-1ae0-4b88-9952-1541c0e726bf",
   "metadata": {},
   "outputs": [
    {
     "name": "stdin",
     "output_type": "stream",
     "text": [
      "Enter file name:  xyz.txt\n",
      "Enter something to write in file:  ['Data Scientist\\n', 'python developer\\n', 'java developer\\n', 'web developer\\n', 'system engineer\\n']\n"
     ]
    },
    {
     "name": "stdout",
     "output_type": "stream",
     "text": [
      "['Data Scientist\\n', 'python developer\\n', 'java developer\\n', 'web developer\\n', 'system engineer\\n']  is writter in file\n"
     ]
    }
   ],
   "source": [
    "filename=input(\"Enter file name: \")\n",
    "if os.path.exists(filename):\n",
    "    f=None\n",
    "    try:\n",
    "        f=open(filename,\"w\")\n",
    "        value=input(\"Enter something to write in file: \")\n",
    "        f.write(value+\"\\n\")\n",
    "        print(value,\" is writter in file\")\n",
    "    except Exception as e:\n",
    "        print(\"Issue \",e)\n",
    "    finally:\n",
    "        if f is not None:\n",
    "            f.close()\n",
    "else:\n",
    "    print(filename,\" does not Exist.\")"
   ]
  },
  {
   "cell_type": "code",
   "execution_count": 52,
   "id": "eed43fe6-da03-477c-9e62-7a41d31b4207",
   "metadata": {},
   "outputs": [
    {
     "name": "stdin",
     "output_type": "stream",
     "text": [
      "Enter file name:  xyz.txt\n",
      "Enter something to write in file:  ['Data Scientist\\n', 'python developer\\n', 'java developer\\n', 'web developer\\n', 'system engineer\\n']\n"
     ]
    },
    {
     "name": "stdout",
     "output_type": "stream",
     "text": [
      "['Data Scientist\\n', 'python developer\\n', 'java developer\\n', 'web developer\\n', 'system engineer\\n']  is writter in file\n"
     ]
    }
   ],
   "source": [
    "filename=input(\"Enter file name: \")\n",
    "if os.path.exists(filename):\n",
    "    f=None\n",
    "    try:\n",
    "        f=open(filename,\"w\")\n",
    "        value=input(\"Enter something to write in file: \")\n",
    "        f.writelines(value+\"\\n\")\n",
    "        print(value,\" is writter in file\")\n",
    "    except Exception as e:\n",
    "        print(\"Issue \",e)\n",
    "    finally:\n",
    "        if f is not None:\n",
    "            f.close()\n",
    "else:\n",
    "    print(filename,\" does not Exist.\")"
   ]
  },
  {
   "cell_type": "code",
   "execution_count": 53,
   "id": "a6f8f986-9f5d-4704-813a-5e7aad072dd3",
   "metadata": {},
   "outputs": [
    {
     "name": "stdout",
     "output_type": "stream",
     "text": [
      "Decorated\n",
      "Ordinary\n"
     ]
    }
   ],
   "source": [
    "def mk(x):\n",
    "\n",
    "    def mk1():\n",
    "\n",
    "        print(\"Decorated\")\n",
    "\n",
    "        x()\n",
    "\n",
    "    return mk1\n",
    "\n",
    "def mk2():\n",
    "\n",
    "    print(\"Ordinary\")\n",
    "\n",
    "p = mk(mk2)\n",
    "\n",
    "p()"
   ]
  },
  {
   "cell_type": "code",
   "execution_count": null,
   "id": "0f85ac5e-4323-4427-8c48-b4f2673d304b",
   "metadata": {},
   "outputs": [],
   "source": []
  },
  {
   "cell_type": "code",
   "execution_count": null,
   "id": "bf464f63-4dbb-4c45-8f50-aa1f7c947816",
   "metadata": {},
   "outputs": [],
   "source": []
  },
  {
   "cell_type": "code",
   "execution_count": null,
   "id": "2715c0fc-59f1-4e52-8b6c-54c72d1ce54b",
   "metadata": {},
   "outputs": [],
   "source": []
  }
 ],
 "metadata": {
  "kernelspec": {
   "display_name": "Python 3 (ipykernel)",
   "language": "python",
   "name": "python3"
  },
  "language_info": {
   "codemirror_mode": {
    "name": "ipython",
    "version": 3
   },
   "file_extension": ".py",
   "mimetype": "text/x-python",
   "name": "python",
   "nbconvert_exporter": "python",
   "pygments_lexer": "ipython3",
   "version": "3.10.8"
  }
 },
 "nbformat": 4,
 "nbformat_minor": 5
}
