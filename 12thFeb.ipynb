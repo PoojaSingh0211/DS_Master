{
 "cells": [
  {
   "cell_type": "markdown",
   "id": "b93943f1-d505-458e-826f-2ddf031bf0bb",
   "metadata": {},
   "source": [
    "# When the interpreter identifies a statement that has an error, syntax errors occur"
   ]
  },
  {
   "cell_type": "markdown",
   "id": "c234666d-0ad5-46cb-9475-23bd9e0ade8e",
   "metadata": {},
   "source": [
    "# When syntactically valid Python code produces an error, this is the kind of error that arises. The output's last line specified the name of the exception error code encountered. Instead of displaying just \"exception error\", Python displays information about the sort of exception error that occurred. It was a NameError in this situation."
   ]
  },
  {
   "cell_type": "code",
   "execution_count": 1,
   "id": "8cd1f7bf-41ce-4eea-9c43-6a485926e68d",
   "metadata": {},
   "outputs": [
    {
     "ename": "NameError",
     "evalue": "name 'o' is not defined",
     "output_type": "error",
     "traceback": [
      "\u001b[0;31m---------------------------------------------------------------------------\u001b[0m",
      "\u001b[0;31mNameError\u001b[0m                                 Traceback (most recent call last)",
      "Cell \u001b[0;32mIn[1], line 5\u001b[0m\n\u001b[1;32m      2\u001b[0m string \u001b[38;5;241m=\u001b[39m \u001b[38;5;124m\"\u001b[39m\u001b[38;5;124mPython Exceptions\u001b[39m\u001b[38;5;124m\"\u001b[39m  \n\u001b[1;32m      4\u001b[0m \u001b[38;5;28;01mfor\u001b[39;00m s \u001b[38;5;129;01min\u001b[39;00m string:  \n\u001b[0;32m----> 5\u001b[0m     \u001b[38;5;28;01mif\u001b[39;00m (s \u001b[38;5;241m!=\u001b[39m \u001b[43mo\u001b[49m):  \n\u001b[1;32m      6\u001b[0m         \u001b[38;5;28mprint\u001b[39m( s )  \n",
      "\u001b[0;31mNameError\u001b[0m: name 'o' is not defined"
     ]
    }
   ],
   "source": [
    "#Python code after removing the syntax error  \n",
    "string = \"Python Exceptions\"  \n",
    "  \n",
    "for s in string:  \n",
    "    if (s != o):  \n",
    "        print( s )  "
   ]
  },
  {
   "cell_type": "markdown",
   "id": "9e557b83-814d-4261-baa3-fb08c212b433",
   "metadata": {},
   "source": [
    "# if the exception is not handled properly then it will terminate the programm abnormally"
   ]
  },
  {
   "cell_type": "code",
   "execution_count": 3,
   "id": "444a4ed0-5778-4c41-8490-7aef48d9c0b5",
   "metadata": {},
   "outputs": [
    {
     "name": "stdin",
     "output_type": "stream",
     "text": [
      "Enter source file name :  sdfesf.txt\n"
     ]
    },
    {
     "name": "stdout",
     "output_type": "stream",
     "text": [
      "sdfesf.txt  does not exist\n"
     ]
    }
   ],
   "source": [
    "import os\n",
    "src_filename=input(\"Enter source file name : \")\n",
    "if os.path.isfile(src_filename):\n",
    "\tdes_filename=input(\"Enter dest filename: \")\n",
    "\ttry:\n",
    "\t\twith open(src_filename,\"rb\") as src_f:\n",
    "\t\t\twith open(des_filename,\"wb\") as des_f:\n",
    "\t\t\t\tdata=src_f.read()\n",
    "\t\t\t\tdes_f.write(data)\n",
    "\t\t\t\tprint(\"Copy Completed!!!\")\n",
    "\texcept Exception as e:\n",
    "\t\tprint(\"Issue \",e)\n",
    "else:\n",
    "\tprint(src_filename,\" does not exist\")\n",
    "\n",
    "#To read write pdf , images"
   ]
  },
  {
   "cell_type": "code",
   "execution_count": 7,
   "id": "3fd8c716-11d2-4a2d-9399-58b5f4390e86",
   "metadata": {},
   "outputs": [
    {
     "ename": "Exception",
     "evalue": "Length of the given list must be less than or equal to 3 but is 4",
     "output_type": "error",
     "traceback": [
      "\u001b[0;31m---------------------------------------------------------------------------\u001b[0m",
      "\u001b[0;31mException\u001b[0m                                 Traceback (most recent call last)",
      "Cell \u001b[0;32mIn[7], line 3\u001b[0m\n\u001b[1;32m      1\u001b[0m num \u001b[38;5;241m=\u001b[39m [\u001b[38;5;241m3\u001b[39m, \u001b[38;5;241m4\u001b[39m, \u001b[38;5;241m5\u001b[39m, \u001b[38;5;241m7\u001b[39m]  \n\u001b[1;32m      2\u001b[0m \u001b[38;5;28;01mif\u001b[39;00m \u001b[38;5;28mlen\u001b[39m(num)\u001b[38;5;241m>\u001b[39m\u001b[38;5;241m3\u001b[39m:\n\u001b[0;32m----> 3\u001b[0m     \u001b[38;5;28;01mraise\u001b[39;00m \u001b[38;5;167;01mException\u001b[39;00m(\u001b[38;5;124mf\u001b[39m\u001b[38;5;124m\"\u001b[39m\u001b[38;5;124mLength of the given list must be less than or equal to 3 but is \u001b[39m\u001b[38;5;132;01m{\u001b[39;00m\u001b[38;5;28mlen\u001b[39m(num)\u001b[38;5;132;01m}\u001b[39;00m\u001b[38;5;124m\"\u001b[39m )  \n",
      "\u001b[0;31mException\u001b[0m: Length of the given list must be less than or equal to 3 but is 4"
     ]
    }
   ],
   "source": [
    "num = [3, 4, 5, 7]  \n",
    "if len(num)>3:\n",
    "    raise Exception(f\"Length of the given list must be less than or equal to 3 but is {len(num)}\" )  "
   ]
  },
  {
   "cell_type": "code",
   "execution_count": 19,
   "id": "c1ac6afb-b6cb-4ad1-8041-ee40ce375bd0",
   "metadata": {},
   "outputs": [],
   "source": [
    "class EmptyError(RuntimeError):\n",
    "    def __init__(self, argument):\n",
    "        self.arguments = argument  "
   ]
  },
  {
   "cell_type": "code",
   "execution_count": 22,
   "id": "2f87741f-9d68-4bdb-9fdc-30748ac9b4ce",
   "metadata": {},
   "outputs": [
    {
     "name": "stdout",
     "output_type": "stream",
     "text": [
      "The variable is empty\n"
     ]
    }
   ],
   "source": [
    "var=\"\"\n",
    "try:\n",
    "    raise EmptyError(\"The variable is empty\")  \n",
    "except EmptyError as var:\n",
    "    print(var.arguments)"
   ]
  },
  {
   "cell_type": "code",
   "execution_count": null,
   "id": "c20dd616-5d7a-4fae-8130-de73c18e005c",
   "metadata": {},
   "outputs": [],
   "source": []
  },
  {
   "cell_type": "code",
   "execution_count": null,
   "id": "947bc4cd-77ef-4e7d-9d2a-7e961967f5b1",
   "metadata": {},
   "outputs": [],
   "source": []
  },
  {
   "cell_type": "code",
   "execution_count": null,
   "id": "bc53ea81-6aac-4e8a-a95d-6e2d235cd36b",
   "metadata": {},
   "outputs": [],
   "source": []
  },
  {
   "cell_type": "code",
   "execution_count": null,
   "id": "a8f3b654-14d9-45ff-9496-a3452f503e6e",
   "metadata": {},
   "outputs": [],
   "source": []
  },
  {
   "cell_type": "code",
   "execution_count": null,
   "id": "43ad43a8-543a-4036-b0cb-cad9a8057312",
   "metadata": {},
   "outputs": [],
   "source": []
  },
  {
   "cell_type": "code",
   "execution_count": null,
   "id": "863d95b1-115c-481d-b6e1-2361e26252f1",
   "metadata": {},
   "outputs": [],
   "source": []
  }
 ],
 "metadata": {
  "kernelspec": {
   "display_name": "Python 3 (ipykernel)",
   "language": "python",
   "name": "python3"
  },
  "language_info": {
   "codemirror_mode": {
    "name": "ipython",
    "version": 3
   },
   "file_extension": ".py",
   "mimetype": "text/x-python",
   "name": "python",
   "nbconvert_exporter": "python",
   "pygments_lexer": "ipython3",
   "version": "3.10.8"
  }
 },
 "nbformat": 4,
 "nbformat_minor": 5
}
