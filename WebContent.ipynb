{
 "cells": [
  {
   "cell_type": "code",
   "execution_count": 106,
   "id": "544a6d87-9619-49a7-9648-c10295d1a2a7",
   "metadata": {},
   "outputs": [],
   "source": [
    "#What is Web Scraping? Why is it Used? Give three areas where Web Scraping is used to get data."
   ]
  },
  {
   "cell_type": "code",
   "execution_count": 107,
   "id": "593ad58c-8b6f-4454-a87a-25af60c7a47a",
   "metadata": {},
   "outputs": [],
   "source": [
    "#Market research companies use scrapers to pull data from social media or online forums for things like customer sentiment analysis. Others scrape data from product sites like Amazon or eBay to support competitor analysis. Meanwhile, Google regularly uses web scraping to analyze, rank, and index their content."
   ]
  },
  {
   "cell_type": "code",
   "execution_count": 108,
   "id": "81b3ce5b-942a-4b23-a43a-731a7c8ec3a9",
   "metadata": {},
   "outputs": [],
   "source": [
    "#What are the different methods used for Web Scraping?"
   ]
  },
  {
   "cell_type": "code",
   "execution_count": 109,
   "id": "57e0e66e-c624-4132-8f8c-749170d6ca77",
   "metadata": {},
   "outputs": [],
   "source": [
    "#Python requests module has several built-in methods to make HTTP requests to specified URI using GET, POST, PUT, PATCH, or HEAD requests"
   ]
  },
  {
   "cell_type": "code",
   "execution_count": 110,
   "id": "6409630c-7d69-45cc-9580-bb4b8c63f427",
   "metadata": {},
   "outputs": [],
   "source": [
    "#What is Beautiful Soup? Why is it used?"
   ]
  },
  {
   "cell_type": "code",
   "execution_count": 111,
   "id": "a2e3a337-2156-48ea-a16c-4795483b32b9",
   "metadata": {},
   "outputs": [],
   "source": [
    "#eautiful Soup is used for web-scraping and a great tool for extracting information from large unstructured data. As a Python library used for pulling data from HTML, XML, and other markup language files, Beautiful Soup can extract articles and content and turn it into a Python list or dictionary."
   ]
  },
  {
   "cell_type": "code",
   "execution_count": 112,
   "id": "7c3744d0-1f7d-466d-b62d-0ecaa01ddec4",
   "metadata": {},
   "outputs": [],
   "source": [
    "#Why is flask used in this Web Scraping project?"
   ]
  },
  {
   "cell_type": "code",
   "execution_count": null,
   "id": "b5eb6a5d-7a7d-4a32-8fca-0c5a033d5810",
   "metadata": {},
   "outputs": [],
   "source": []
  },
  {
   "cell_type": "code",
   "execution_count": 1,
   "id": "7e7e1750-83e4-4ee7-821d-51512e47981c",
   "metadata": {},
   "outputs": [],
   "source": [
    "import requests\n",
    "from bs4 import BeautifulSoup as bs\n",
    "from urllib.request import urlopen,Request"
   ]
  },
  {
   "cell_type": "code",
   "execution_count": 2,
   "id": "cc118b82-8620-4f2a-a277-59227834e351",
   "metadata": {},
   "outputs": [],
   "source": [
    "url=\"https://near-me.hdfcbank.com/branch-atm-locator/\""
   ]
  },
  {
   "cell_type": "code",
   "execution_count": 3,
   "id": "25b97fb1-5798-4371-9621-affd437dcf61",
   "metadata": {},
   "outputs": [],
   "source": [
    "bind_urlreq=Request(url,headers={\"User-Agent\":\"Mozilla/5.0\"})"
   ]
  },
  {
   "cell_type": "code",
   "execution_count": 4,
   "id": "5ba36d1a-1cdf-4374-ac5f-8101f8ee7bfb",
   "metadata": {},
   "outputs": [],
   "source": [
    "open_browser=urlopen(bind_urlreq)"
   ]
  },
  {
   "cell_type": "code",
   "execution_count": 5,
   "id": "56f3c054-3194-40e6-a6ba-98ba98c1a74c",
   "metadata": {},
   "outputs": [],
   "source": [
    "html_content=open_browser.read()"
   ]
  },
  {
   "cell_type": "code",
   "execution_count": 6,
   "id": "86388fce-1d2e-425e-a48d-8bf3120172ed",
   "metadata": {},
   "outputs": [],
   "source": [
    "getAll=bs(html_content,\"html.parser\")"
   ]
  },
  {
   "cell_type": "code",
   "execution_count": 7,
   "id": "0ecbb550-6027-4be7-8d1c-b0b3ead6f409",
   "metadata": {},
   "outputs": [],
   "source": [
    "getValues=getAll.find_all(\"div\",{\"class\":\"store-info-box\"})"
   ]
  },
  {
   "cell_type": "code",
   "execution_count": 8,
   "id": "b6ac6c88-6d07-4108-828d-cbd4590dac08",
   "metadata": {},
   "outputs": [
    {
     "data": {
      "text/plain": [
       "9"
      ]
     },
     "execution_count": 8,
     "metadata": {},
     "output_type": "execute_result"
    }
   ],
   "source": [
    "len(getValues)"
   ]
  },
  {
   "cell_type": "code",
   "execution_count": 9,
   "id": "5c884e58-37a5-4582-b602-89edcfdc2074",
   "metadata": {},
   "outputs": [
    {
     "data": {
      "text/plain": [
       "'          HDFC Bank        Janpath       No 72, Ved MansionJanpathNew Delhi - 110001       18002026161       Closed for the day     Call      Map      More Details      Personal Loan     '"
      ]
     },
     "execution_count": 9,
     "metadata": {},
     "output_type": "execute_result"
    }
   ],
   "source": [
    "getAll.find_all(\"div\",{\"class\":\"store-info-box\"})[0].text\n",
    "#getAll.select(\"div\",{\"class\":\"container\"})[50].text"
   ]
  },
  {
   "cell_type": "code",
   "execution_count": 10,
   "id": "29a3e00a-5cc4-4de3-ad93-8e1b5cddd1ea",
   "metadata": {},
   "outputs": [
    {
     "name": "stdout",
     "output_type": "stream",
     "text": [
      "HDFC Bank \t   No 72, Ved MansionJanpathNew Delhi - 110001\n",
      "HDFC Bank \t   No 40/41Bengali MarketNew Delhi - 110001\n",
      "HDFC Bank \t   No H69, Outer CircleConnaught CircusNew Delhi - 110001\n",
      "HDFC Bank ATM \t   No M36, Outer CircleConnaught PlaceNew Delhi - 110001\n",
      "HDFC Bank \t   No 16, Ground Floor, DCM Building, IOH BlockBarakhamba RoadNew Delhi - 110001\n",
      "HDFC Bank ATM \t   No 6, No 104 Baird Road, Block 90Gole MarketNew Delhi - 110001\n",
      "HDFC Bank \t   SN 9, Panchkuian RdPanchkuian RdNew Delhi - 110001\n",
      "HDFC Bank ATM \t   H 69, Outer CircleConnaught CircusNew Delhi - 110001\n",
      "HDFC Bank \t   No M 36, Outer CircleConnaught PlaceNew Delhi - 110001\n"
     ]
    }
   ],
   "source": [
    "for i in getValues:\n",
    "    data=i.text.strip()\n",
    "    Branch=data.split('     ')\n",
    "    print(Branch[0],'\\t',Branch[2])"
   ]
  },
  {
   "cell_type": "code",
   "execution_count": 102,
   "id": "1a6bf386-fc83-46d4-bd3b-000e3a0ca92f",
   "metadata": {},
   "outputs": [
    {
     "name": "stdout",
     "output_type": "stream",
     "text": [
      "['        Janpath       ', 'No 72, Ved MansionJanpathNew', 'Delhi', '110001', '18002026161']\n",
      "['        Bengali Market       ', 'No 40/41Bengali MarketNew', 'Delhi', '110001', '18002026161']\n",
      "['        Connaught Circus       No', 'H69, Outer CircleConnaught CircusNew', 'Delhi', '110001', '18002026161']\n",
      "[' ATM        Connaught Place       No M36, Outer CircleConnaught PlaceNew Delhi - 110001       Opposite Super Bazar        18002026161       Op', 'M36, Outer CircleConnaught PlaceNew', 'Delhi', '110001', '18002026161']\n",
      "['        Barakhamba Road       ', 'No 16, Ground Floor, DCM Building, IOH BlockBarakhamba RoadNew', 'Delhi', '110001', '18002026161']\n",
      "[' ATM        Gole Mkt       No 6, No 104 Baird Road, Block 90Gole MarketNew Delhi - 110001       18002026161       Op', 'No 6, No 104 Baird Road, Block 90Gole MarketNew', 'Delhi', '110001', '18002026161']\n",
      "['        Panchkuian Rd       ', 'SN 9, Panchkuian RdPanchkuian RdNew', 'Delhi', '110001', '18002026161']\n",
      "[' ATM        Connaught Circus       H 69, Outer CircleConnaught CircusNew Delhi - 110001       18002026161       Op', 'H 69, Outer CircleConnaught CircusNew', 'Delhi', '110001', '18002026161']\n",
      "['        Connaught Place       No', 'M 36, Outer CircleConnaught PlaceNew', 'Delhi', '110001', '18002026161']\n"
     ]
    }
   ],
   "source": [
    "import csv\n",
    "import re\n",
    "with open(\"csvTest.csv\",\"a\") as file:\n",
    "        writer=csv.writer(file)\n",
    "        #writer.writerow([\"branch\",\"address\",\"state\",\"zipcode\",\"phonenumber\"])\n",
    "        writer.writerow([\"branch\",\"address\",\"state\",\"zipcode\",\"phonenumber\"])\n",
    "for i in getValues:\n",
    "    data=i.text.strip()\n",
    "    branch=re.findall(r'Bank(.*).[A-Za-z]{1,2}.\\d{1,2}',data)\n",
    "    address=re.findall(r'([A-Za-z]{1,2}.\\d{1,2}.*.)\\s\\w+.-',data)\n",
    "    state=re.findall(r'[A-Za-z]{1,2}.\\d{1,2}.*.\\s(\\w+).-',data)\n",
    "    zipcode=re.findall(r'-.(\\d{6})',data)\n",
    "    phonenumber=re.findall(r'\\d{11}',data)\n",
    "    print([branch[0],address[0],state[0],zipcode[0],phonenumber[0]])\n",
    "    with open(\"csvTest.csv\",\"a\") as file:\n",
    "        writer=csv.writer(file)\n",
    "        writer.writerow([branch[0],address[0],state[0],zipcode[0],phonenumber[0]])\n",
    "    #with open(\"Info.txt\",\"a\") as file:\n",
    "        #file.write(data)"
   ]
  },
  {
   "cell_type": "code",
   "execution_count": 103,
   "id": "cc911b93-9c32-47b4-ab21-be00264a74d3",
   "metadata": {},
   "outputs": [],
   "source": [
    "for i in getValues:\n",
    "    data=i.text.strip()\n",
    "    with open(\"sample.txt\",'w') as file:\n",
    "        file.write(data)"
   ]
  },
  {
   "cell_type": "code",
   "execution_count": 92,
   "id": "f2bc159e-5646-4f63-8dd8-aef559331bfd",
   "metadata": {},
   "outputs": [],
   "source": [
    "reqs=requests.get(urlagain).content"
   ]
  },
  {
   "cell_type": "code",
   "execution_count": 5,
   "id": "1600a805-31dd-4b2e-b7f8-94ecb356da3c",
   "metadata": {},
   "outputs": [
    {
     "name": "stdout",
     "output_type": "stream",
     "text": [
      "Title :  Programming Blog and Software Development Company - CodeSpeedy\n",
      "Headers : \n",
      "CodeSpeedy - Coding Solution & Software Development\n",
      "Some of Our Programming Blog Categories\n",
      "Java\n",
      "PHP\n",
      "Python\n",
      "JavaScript\n",
      "WordPress\n",
      "CSS\n",
      "jQuery\n",
      "Bootstrap\n",
      "Services We Provide\n",
      "Web Design & Development\n",
      "Software Development\n",
      "Mobile App Development\n",
      "Artificial Intelligence\n",
      "Python\n",
      "PHP\n",
      "JavaScript\n",
      "Recent Blog Posts from CodeSpeedy\n",
      "About CodeSpeedy Technology Private Limited\n"
     ]
    }
   ],
   "source": [
    "from urllib.request import urlopen,Request\n",
    "from bs4 import BeautifulSoup\n",
    "import re\n",
    "url = \"https://www.codespeedy.com/\"\n",
    "req=Request(url,headers={'User-Agent': 'Mozilla/5.0'})\n",
    "fileObj = urlopen(req)\n",
    "html = fileObj.read()\n",
    "soup = BeautifulSoup(html, 'html.parser')\n",
    "print(\"Title : \",soup.title.text)\n",
    "headerlist = soup.find_all(re.compile('^h[1-6]'))\n",
    "print(\"Headers : \")\n",
    "for header in headerlist:\n",
    "    print(header.text)"
   ]
  },
  {
   "cell_type": "code",
   "execution_count": null,
   "id": "23e6a7b0-2804-4924-ae7d-5eb987f87211",
   "metadata": {},
   "outputs": [],
   "source": []
  }
 ],
 "metadata": {
  "kernelspec": {
   "display_name": "Python 3 (ipykernel)",
   "language": "python",
   "name": "python3"
  },
  "language_info": {
   "codemirror_mode": {
    "name": "ipython",
    "version": 3
   },
   "file_extension": ".py",
   "mimetype": "text/x-python",
   "name": "python",
   "nbconvert_exporter": "python",
   "pygments_lexer": "ipython3",
   "version": "3.10.8"
  }
 },
 "nbformat": 4,
 "nbformat_minor": 5
}
