{
 "cells": [
  {
   "cell_type": "code",
   "execution_count": 41,
   "id": "aacaf8e8-300b-4f86-bbcb-2341217c9d82",
   "metadata": {},
   "outputs": [],
   "source": [
    "import threading"
   ]
  },
  {
   "cell_type": "code",
   "execution_count": 8,
   "id": "3b81e025-9dda-4cda-bf1b-f5c7aa2ce21c",
   "metadata": {},
   "outputs": [],
   "source": [
    "def Thread_Testing(id):\n",
    "    print(\"This is my ThreadName - %d\" % id)"
   ]
  },
  {
   "cell_type": "code",
   "execution_count": 9,
   "id": "86dfc27a-f832-488e-b698-6e89a46db8f3",
   "metadata": {},
   "outputs": [
    {
     "name": "stdout",
     "output_type": "stream",
     "text": [
      "This is my ThreadName - 10\n"
     ]
    }
   ],
   "source": [
    "Thread_Testing(10)"
   ]
  },
  {
   "cell_type": "code",
   "execution_count": 10,
   "id": "47df5eb1-101e-44e9-a501-82899f9836c5",
   "metadata": {},
   "outputs": [
    {
     "name": "stdout",
     "output_type": "stream",
     "text": [
      "This is my ThreadName - 20\n"
     ]
    }
   ],
   "source": [
    "Thread_Testing(20)"
   ]
  },
  {
   "cell_type": "code",
   "execution_count": 12,
   "id": "f1fa453f-aa93-4163-a39c-782807c22988",
   "metadata": {},
   "outputs": [],
   "source": [
    "thred=[threading.Thread(target=Thread_Testing, args=(i,)) for i in [1,4,7,3,7]]"
   ]
  },
  {
   "cell_type": "code",
   "execution_count": 13,
   "id": "79b914a1-dae4-4e3d-902e-640e8db9f39e",
   "metadata": {},
   "outputs": [
    {
     "data": {
      "text/plain": [
       "[<Thread(Thread-5 (Thread_Testing), initial)>,\n",
       " <Thread(Thread-6 (Thread_Testing), initial)>,\n",
       " <Thread(Thread-7 (Thread_Testing), initial)>,\n",
       " <Thread(Thread-8 (Thread_Testing), initial)>,\n",
       " <Thread(Thread-9 (Thread_Testing), initial)>]"
      ]
     },
     "execution_count": 13,
     "metadata": {},
     "output_type": "execute_result"
    }
   ],
   "source": [
    "thred"
   ]
  },
  {
   "cell_type": "code",
   "execution_count": 16,
   "id": "81448f3d-e676-4d5f-8692-592cdef75ca5",
   "metadata": {},
   "outputs": [
    {
     "name": "stdout",
     "output_type": "stream",
     "text": [
      "This is my ThreadName - 1\n",
      "This is my ThreadName - 4\n",
      "This is my ThreadName - 7\n",
      "This is my ThreadName - 3\n",
      "This is my ThreadName - 7\n"
     ]
    }
   ],
   "source": [
    "for i in thred:\n",
    "    i.start()"
   ]
  },
  {
   "cell_type": "code",
   "execution_count": 42,
   "id": "a187e572-3a02-41f6-8037-ca5336101419",
   "metadata": {},
   "outputs": [],
   "source": [
    "import urllib.request\n",
    "def file_download(url , filename):\n",
    "    urllib.request.urlretrieve(url , filename)"
   ]
  },
  {
   "cell_type": "code",
   "execution_count": 20,
   "id": "961a0277-d4ad-4716-b163-4c04da8c4056",
   "metadata": {},
   "outputs": [],
   "source": [
    "file_download('https://raw.githubusercontent.com/itsfoss/text-files/master/agatha.txt' , \"test1.txt\")"
   ]
  },
  {
   "cell_type": "code",
   "execution_count": 45,
   "id": "a9b38c4f-ad51-4a13-8e3d-a785216d0b33",
   "metadata": {},
   "outputs": [],
   "source": [
    "url_list = ['https://raw.githubusercontent.com/itsfoss/text-files/master/agatha.txt' , 'https://raw.githubusercontent.com/itsfoss/text-files/master/sherlock.txt' ,'https://raw.githubusercontent.com/itsfoss/text-files/master/sample_log_file.txt' ]"
   ]
  },
  {
   "cell_type": "code",
   "execution_count": 44,
   "id": "ea5c601e-d081-4444-80f8-4bbbee39aeda",
   "metadata": {},
   "outputs": [
    {
     "data": {
      "text/plain": [
       "['https://raw.githubusercontent.com/itsfoss/text-files/master/agatha.txt',\n",
       " 'https://raw.githubusercontent.com/itsfoss/text-files/master/sherlock.txt',\n",
       " 'https://raw.githubusercontent.com/itsfoss/text-files/master/sample_log_file.txt']"
      ]
     },
     "execution_count": 44,
     "metadata": {},
     "output_type": "execute_result"
    }
   ],
   "source": [
    "url_list"
   ]
  },
  {
   "cell_type": "code",
   "execution_count": 43,
   "id": "1f8a7154-3a30-4399-a4eb-554086c63804",
   "metadata": {},
   "outputs": [],
   "source": [
    "data_file_list = ['data1.txt', 'data2.txt','data3.txt']"
   ]
  },
  {
   "cell_type": "code",
   "execution_count": 34,
   "id": "aeabeb3f-9704-49f0-8234-b418b8727272",
   "metadata": {},
   "outputs": [
    {
     "data": {
      "text/plain": [
       "['data1.txt', 'data2.txt', 'data3.txt']"
      ]
     },
     "execution_count": 34,
     "metadata": {},
     "output_type": "execute_result"
    }
   ],
   "source": [
    "data_file_list"
   ]
  },
  {
   "cell_type": "code",
   "execution_count": 46,
   "id": "308f1541-1d81-411b-9c32-cdbcad2a09a5",
   "metadata": {},
   "outputs": [],
   "source": [
    "thread1 = [threading.Thread(target=file_download , args=(url_list[i],data_file_list[i])) for i in range(len(url_list))]"
   ]
  },
  {
   "cell_type": "code",
   "execution_count": 47,
   "id": "b35614b4-8bb6-4d09-9560-1dfa4bdbf207",
   "metadata": {},
   "outputs": [
    {
     "data": {
      "text/plain": [
       "[<Thread(Thread-19 (file_download), initial)>,\n",
       " <Thread(Thread-20 (file_download), initial)>,\n",
       " <Thread(Thread-21 (file_download), initial)>]"
      ]
     },
     "execution_count": 47,
     "metadata": {},
     "output_type": "execute_result"
    }
   ],
   "source": [
    "thread1"
   ]
  },
  {
   "cell_type": "code",
   "execution_count": 48,
   "id": "6a85fcd0-b124-406c-be61-e9eda9ab946d",
   "metadata": {},
   "outputs": [
    {
     "name": "stdout",
     "output_type": "stream",
     "text": [
      "None\n",
      "None\n",
      "None\n"
     ]
    }
   ],
   "source": [
    "for i in thread1:\n",
    "    print(i.start())"
   ]
  },
  {
   "cell_type": "code",
   "execution_count": 2,
   "id": "669afe27-3414-46a7-a66b-7be49f67a8bf",
   "metadata": {},
   "outputs": [
    {
     "name": "stdout",
     "output_type": "stream",
     "text": [
      "Thread function\n",
      "\n",
      "Thread function\n",
      "\n",
      "Thread function\n",
      "\n"
     ]
    }
   ],
   "source": [
    "import threading\n",
    " \n",
    "def f():\n",
    "    print('Thread function\\n')\n",
    "    return\n",
    " \n",
    "for i in range(3):\n",
    "    t = threading.Thread(target=f)\n",
    "    t.start()"
   ]
  },
  {
   "cell_type": "code",
   "execution_count": 5,
   "id": "f62e9834-fe96-4448-ba28-e45d6d89e460",
   "metadata": {},
   "outputs": [
    {
     "name": "stdout",
     "output_type": "stream",
     "text": [
      "Custom thread function.\n",
      "\n",
      "Custom thread function.\n",
      "\n",
      "Custom thread function.\n",
      "\n"
     ]
    }
   ],
   "source": [
    "import threading\n",
    " \n",
    "class CustomThread(threading.Thread):\n",
    "    def run(self):\n",
    "        print('Custom thread function.\\n')\n",
    "for i in range(3):\n",
    "    t = CustomThread()\n",
    "    t.start()"
   ]
  },
  {
   "cell_type": "code",
   "execution_count": 6,
   "id": "e37610e6-1293-486c-8f7a-2a82108ab6cf",
   "metadata": {},
   "outputs": [
    {
     "name": "stdout",
     "output_type": "stream",
     "text": [
      "Thread # 0 \n",
      "\n",
      "Thread # 0 \n",
      "\n",
      "Thread # 1 \n",
      "\n",
      "Thread # 0 \n",
      "\n",
      "Thread # 2 \n",
      "\n",
      "Thread # 1 \n",
      "\n",
      "Thread # 2 \n",
      "\n",
      "Thread # 1 \n",
      "\n",
      "Thread # 2 \n",
      "\n"
     ]
    }
   ],
   "source": [
    "import threading\n",
    "import time\n",
    " \n",
    "def f(i):\n",
    "    for p in range(3):\n",
    "        time.sleep(i+1)\n",
    "        print('Thread #',i,\"\\n\")\n",
    "        time.sleep(i)\n",
    "    return\n",
    " \n",
    "# start threads by passing function to Thread constructor\n",
    "for i in range(3):\n",
    "    t = threading.Thread(target=f, args=(i,))\n",
    "    t.start()"
   ]
  },
  {
   "cell_type": "code",
   "execution_count": 7,
   "id": "0a84d40f-f9bd-44a9-b124-d236c86c8b21",
   "metadata": {},
   "outputs": [
    {
     "name": "stderr",
     "output_type": "stream",
     "text": [
      "/tmp/ipykernel_97/2441521057.py:17: DeprecationWarning: getName() is deprecated, get the name attribute instead\n",
      "  print('[',time.ctime(),']', t1.getName(), t1.is_alive())\n",
      "/tmp/ipykernel_97/2441521057.py:18: DeprecationWarning: getName() is deprecated, get the name attribute instead\n",
      "  print('[',time.ctime(),']', t2.getName(), t2.is_alive())\n"
     ]
    },
    {
     "name": "stdout",
     "output_type": "stream",
     "text": [
      "[ Mon Feb 20 18:26:20 2023 ] Thread#1 True\n",
      "[ Mon Feb 20 18:26:20 2023 ] Thread#2 True\n",
      "[ Mon Feb 20 18:26:21 2023 ] Thread#1 True\n",
      "[ Mon Feb 20 18:26:21 2023 ] Thread#2 True\n",
      "[ Mon Feb 20 18:26:22 2023 ] Thread#1 False\n",
      "[ Mon Feb 20 18:26:22 2023 ] Thread#2 True\n",
      "[ Mon Feb 20 18:26:23 2023 ] Thread#1 False\n",
      "[ Mon Feb 20 18:26:23 2023 ] Thread#2 False\n",
      "[ Mon Feb 20 18:26:25 2023 ] Thread#1 False\n",
      "[ Mon Feb 20 18:26:25 2023 ] Thread#2 False\n"
     ]
    }
   ],
   "source": [
    "import threading\n",
    "import time\n",
    " \n",
    "def f(i):\n",
    "    time.sleep(i)\n",
    "    return\n",
    " \n",
    "# threads\n",
    "t1 = threading.Thread(target=f, args=(1.2,), name=\"Thread#1\")\n",
    "t1.start()\n",
    " \n",
    "t2 = threading.Thread(target=f, args=(2.2,), name=\"Thread#2\")\n",
    "t2.start()\n",
    " \n",
    "for p in range(5):\n",
    "    time.sleep(p*0.5)\n",
    "    print('[',time.ctime(),']', t1.getName(), t1.is_alive())\n",
    "    print('[',time.ctime(),']', t2.getName(), t2.is_alive())"
   ]
  },
  {
   "cell_type": "code",
   "execution_count": 10,
   "id": "d51cc3af-d37d-4660-a95e-b41a4ffc55c4",
   "metadata": {},
   "outputs": [],
   "source": [
    "#Why and When to Use Multithreading in Python?\n",
    "#if you wish to break down your tasks and applications into multiple sub-tasks and then execute them simultaneously, then multithreading in Python is your best bet. All important aspects such as performance, rendering, speed and time consumption will drastically be improved by using proper Python multithreading.\n",
    "#Multithreading in Python should be used only when there is no existing inter-dependency between the threads."
   ]
  },
  {
   "cell_type": "code",
   "execution_count": null,
   "id": "7c4ffcca-88ed-4128-b1f6-bf6dc4621100",
   "metadata": {},
   "outputs": [],
   "source": []
  },
  {
   "cell_type": "code",
   "execution_count": null,
   "id": "e0e4c2c8-79be-4b59-ac3e-34b65a77d364",
   "metadata": {},
   "outputs": [],
   "source": []
  },
  {
   "cell_type": "code",
   "execution_count": null,
   "id": "579fbf15-824a-4adb-bdba-df7e1c9f7495",
   "metadata": {},
   "outputs": [],
   "source": []
  },
  {
   "cell_type": "code",
   "execution_count": null,
   "id": "e96c9f19-3549-4434-b3d4-ee96557e1670",
   "metadata": {},
   "outputs": [],
   "source": []
  },
  {
   "cell_type": "code",
   "execution_count": null,
   "id": "7c451ab3-999a-4fe1-bbec-bdd20268727a",
   "metadata": {},
   "outputs": [],
   "source": []
  },
  {
   "cell_type": "code",
   "execution_count": null,
   "id": "f383ec15-9188-4c79-924a-1d76a5a69924",
   "metadata": {},
   "outputs": [],
   "source": []
  },
  {
   "cell_type": "code",
   "execution_count": null,
   "id": "fc00cee6-e351-4911-ba01-dad870efed5d",
   "metadata": {},
   "outputs": [],
   "source": []
  }
 ],
 "metadata": {
  "kernelspec": {
   "display_name": "Python 3 (ipykernel)",
   "language": "python",
   "name": "python3"
  },
  "language_info": {
   "codemirror_mode": {
    "name": "ipython",
    "version": 3
   },
   "file_extension": ".py",
   "mimetype": "text/x-python",
   "name": "python",
   "nbconvert_exporter": "python",
   "pygments_lexer": "ipython3",
   "version": "3.10.8"
  }
 },
 "nbformat": 4,
 "nbformat_minor": 5
}
