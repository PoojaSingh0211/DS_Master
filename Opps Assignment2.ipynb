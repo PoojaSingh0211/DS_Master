{
 "cells": [
  {
   "cell_type": "code",
   "execution_count": 3,
   "id": "9a50ae6a-1880-48ba-8362-206434f58fd9",
   "metadata": {},
   "outputs": [
    {
     "name": "stdin",
     "output_type": "stream",
     "text": [
      "Do you want to enter book info: press y/n  n\n"
     ]
    },
    {
     "data": {
      "text/plain": [
       "([], [], [])"
      ]
     },
     "execution_count": 3,
     "metadata": {},
     "output_type": "execute_result"
    }
   ],
   "source": [
    "class Book:\n",
    "    def __init__(self,bookname,bookauthor,bookprice):\n",
    "        self.bookname=bookname\n",
    "        self.bookauthor=bookauthor\n",
    "        self.bookprice=bookprice\n",
    "    def cheapbook(self):\n",
    "        return \"Cheapest price is \",min(self.bookprice)\n",
    "    def show(self):\n",
    "        super()\n",
    "        return self.bookname,self.bookauthor,self.bookprice\n",
    "n,a,p=[],[],[]\n",
    "res=input(\"Do you want to enter book info: press y/n \")\n",
    "while res=='y':\n",
    "    name=input(\"Enter book name \")\n",
    "    author=input(\"Enter author \")\n",
    "    price=int(input(\"Book Price \"))\n",
    "    n.append(name)\n",
    "    a.append(author)\n",
    "    p.append(price)\n",
    "    res=input(\"Do you want to enter more book info: press y/n \")\n",
    "b1=Book(n,a,p)\n",
    "b1.show()"
   ]
  },
  {
   "cell_type": "code",
   "execution_count": 18,
   "id": "bcfc2d9a-21a7-4343-8f80-03cc19d8dc4d",
   "metadata": {},
   "outputs": [
    {
     "name": "stdin",
     "output_type": "stream",
     "text": [
      "Do you want to enter book info: press y/n  y\n",
      "Enter book name  Python\n",
      "Enter author  PW\n",
      "Book Price  3200\n",
      "Do you want to enter more book info: press y/n  y\n",
      "Enter book name  Java\n",
      "Enter author  PW\n",
      "Book Price  3500\n",
      "Do you want to enter more book info: press y/n  y\n",
      "Enter book name  Data Science\n",
      "Enter author  PW\n",
      "Book Price  4500\n",
      "Do you want to enter more book info: press y/n  n\n"
     ]
    },
    {
     "data": {
      "text/plain": [
       "'Python is the cheapest book in list. Its price is 3200'"
      ]
     },
     "execution_count": 18,
     "metadata": {},
     "output_type": "execute_result"
    }
   ],
   "source": [
    "class Book:\n",
    "    def __init__(self,bookname,bookauthor,bookprice):\n",
    "        self.bookname=bookname\n",
    "        self.bookauthor=bookauthor\n",
    "        self.bookprice=bookprice\n",
    "    def cheapbook(self):\n",
    "        if self.bookprice is not None:\n",
    "            b=self.bookname\n",
    "            a=min(self.bookprice)\n",
    "        return str(b[p.index(a)] )+\" is the cheapest book in list. Its price is \"+str(a)\n",
    "    def show(self):\n",
    "        return self.bookname,self.bookauthor,self.bookprice\n",
    "n,a,p=[],[],[]\n",
    "res=input(\"Do you want to enter book info: press y/n \")\n",
    "while res=='y':\n",
    "    name=input(\"Enter book name \")\n",
    "    author=input(\"Enter author \")\n",
    "    price=int(input(\"Book Price \"))\n",
    "    n.append(name)\n",
    "    a.append(author)\n",
    "    p.append(price)\n",
    "    res=input(\"Do you want to enter more book info: press y/n \")\n",
    "b1=Book(n,a,p)\n",
    "b1.show()\n",
    "b1.cheapbook()"
   ]
  },
  {
   "cell_type": "code",
   "execution_count": 19,
   "id": "14a092cc-febd-44bb-b0d3-51e2abe14b3e",
   "metadata": {},
   "outputs": [
    {
     "name": "stdout",
     "output_type": "stream",
     "text": [
      "4.0\n"
     ]
    }
   ],
   "source": [
    "import math\n",
    "class Square:\n",
    "   def __init__(self, side):\n",
    "       self.side = side\n",
    "   @classmethod\n",
    "   def side_from_area(cls, area):\n",
    "       side = math.sqrt(area)\n",
    "       return cls(side)\n",
    "s1 = Square.side_from_area(16)\n",
    "print(s1.side)"
   ]
  },
  {
   "cell_type": "markdown",
   "id": "bd73d3d5-19de-47ba-b0d7-3c7dcfbc81db",
   "metadata": {},
   "source": [
    "# WAPP using class calculate area, circumpherence and show all input data"
   ]
  },
  {
   "cell_type": "code",
   "execution_count": 24,
   "id": "ad41e028-7112-4a90-9ea3-5bbe5d96607b",
   "metadata": {},
   "outputs": [
    {
     "name": "stdin",
     "output_type": "stream",
     "text": [
      "Enter radius of circle  2\n"
     ]
    },
    {
     "name": "stdout",
     "output_type": "stream",
     "text": [
      "Radius of circle is  2\n",
      "Area of circle  12.56\n",
      "Circumpherence of circle  12.56\n"
     ]
    }
   ],
   "source": [
    "import math\n",
    "class Circle:\n",
    "    def __init__(self,radius):\n",
    "        self.radius=radius\n",
    "        \n",
    "    def display(self):\n",
    "        print(\"Radius of circle is \",self.radius)\n",
    "    \n",
    "    def area(self):\n",
    "        return round(math.pi,2)*self.radius**2\n",
    "    \n",
    "    def circumpherence(self):\n",
    "        return 2*round(math.pi,2)*self.radius\n",
    "    \n",
    "r=int(input(\"Enter radius of circle \"))\n",
    "c1=Circle(r)\n",
    "c1.display()\n",
    "print(\"Area of circle \",round(c1.area(),2))\n",
    "print(\"Circumpherence of circle \",round(c1.circumpherence(),2))"
   ]
  },
  {
   "cell_type": "code",
   "execution_count": 27,
   "id": "35ebd19c-4c33-4d6d-9293-cc157df5e51d",
   "metadata": {},
   "outputs": [
    {
     "name": "stdin",
     "output_type": "stream",
     "text": [
      "Enter radius of circle  2\n"
     ]
    },
    {
     "name": "stdout",
     "output_type": "stream",
     "text": [
      "Radius of circle is  2\n",
      "Area of  12.56\n",
      "Circumpherence of  12.56\n"
     ]
    }
   ],
   "source": [
    "import math\n",
    "class Circle:\n",
    "    def __init__(self,radius):\n",
    "        self.radius=radius\n",
    "        \n",
    "    def display(self):\n",
    "        print(\"Radius of circle is \",self.radius)\n",
    "        print(\"Area of \",self.area())\n",
    "        print(\"Circumpherence of \",self.circumpherence())\n",
    "    \n",
    "    def area(self):\n",
    "        return round(math.pi,2)*self.radius**2\n",
    "    \n",
    "    def circumpherence(self):\n",
    "        return 2*round(math.pi,2)*self.radius\n",
    "    \n",
    "r=int(input(\"Enter radius of circle \"))\n",
    "c1=Circle(r)\n",
    "c1.display()\n",
    "#print(\"Area of circle \",round(c1.area(),2))\n",
    "#print(\"Circumpherence of circle \",round(c1.circumpherence(),2))"
   ]
  },
  {
   "cell_type": "code",
   "execution_count": null,
   "id": "16cb546d-6614-42e0-b66c-e298d07d96eb",
   "metadata": {},
   "outputs": [],
   "source": []
  }
 ],
 "metadata": {
  "kernelspec": {
   "display_name": "Python 3 (ipykernel)",
   "language": "python",
   "name": "python3"
  },
  "language_info": {
   "codemirror_mode": {
    "name": "ipython",
    "version": 3
   },
   "file_extension": ".py",
   "mimetype": "text/x-python",
   "name": "python",
   "nbconvert_exporter": "python",
   "pygments_lexer": "ipython3",
   "version": "3.10.8"
  }
 },
 "nbformat": 4,
 "nbformat_minor": 5
}
